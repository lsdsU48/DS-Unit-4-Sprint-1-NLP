{
 "cells": [
  {
   "cell_type": "markdown",
   "metadata": {},
   "source": [
    "<img align=\"left\" src=\"https://lever-client-logos.s3.amazonaws.com/864372b1-534c-480e-acd5-9711f850815c-1524247202159.png\" width=200>\n",
    "<br></br>\n",
    "\n",
    "# Vector Representations\n",
    "## *Data Science Unit 4 Sprint 2 Assignment 2*"
   ]
  },
  {
   "cell_type": "code",
   "execution_count": 12,
   "metadata": {
    "colab": {
     "base_uri": "https://localhost:8080/",
     "height": 159
    },
    "colab_type": "code",
    "id": "hyj-f9FDcVFp",
    "outputId": "5dd045fe-6e4c-458c-e2fc-253c3da9c805"
   },
   "outputs": [],
   "source": [
    "import re\n",
    "import string\n",
    "\n",
    "from sklearn.feature_extraction.text import CountVectorizer, TfidfVectorizer\n",
    "import matplotlib.pyplot as plt\n",
    "import pandas as pd\n",
    "import numpy as np\n",
    "import spacy\n",
    "\n",
    "from bs4 import BeautifulSoup"
   ]
  },
  {
   "cell_type": "markdown",
   "metadata": {
    "colab_type": "text",
    "id": "M7bcmqfGXrFG"
   },
   "source": [
    "## 1) *Clean:* Job Listings from indeed.com that contain the title \"Data Scientist\" \n",
    "\n",
    "You have `job_listings.csv` in the data folder for this module. The text data in the description column is still messy - full of html tags. Use the [BeautifulSoup](https://www.crummy.com/software/BeautifulSoup/bs4/doc/) library to clean up this column. You will need to read through the documentation to accomplish this task. "
   ]
  },
  {
   "cell_type": "code",
   "execution_count": 62,
   "metadata": {
    "colab": {},
    "colab_type": "code",
    "id": "KcYlc1URXhlC",
    "scrolled": true
   },
   "outputs": [
    {
     "ename": "Exception",
     "evalue": "\nThis task is not complete. \nReplace this line with your code for the task.",
     "output_type": "error",
     "traceback": [
      "\u001b[1;31m---------------------------------------------------------------------------\u001b[0m",
      "\u001b[1;31mException\u001b[0m                                 Traceback (most recent call last)",
      "\u001b[1;32m<ipython-input-62-742e52fe68b4>\u001b[0m in \u001b[0;36m<module>\u001b[1;34m\u001b[0m\n\u001b[0;32m      3\u001b[0m \u001b[1;33m\u001b[0m\u001b[0m\n\u001b[0;32m      4\u001b[0m \u001b[1;31m##### Your Code Here #####\u001b[0m\u001b[1;33m\u001b[0m\u001b[1;33m\u001b[0m\u001b[0m\n\u001b[1;32m----> 5\u001b[1;33m \u001b[1;32mraise\u001b[0m \u001b[0mException\u001b[0m\u001b[1;33m(\u001b[0m\u001b[1;34m\"\\nThis task is not complete. \\nReplace this line with your code for the task.\"\u001b[0m\u001b[1;33m)\u001b[0m\u001b[1;33m\u001b[0m\u001b[0m\n\u001b[0m\u001b[0;32m      6\u001b[0m \u001b[1;33m\u001b[0m\u001b[0m\n",
      "\u001b[1;31mException\u001b[0m: \nThis task is not complete. \nReplace this line with your code for the task."
     ]
    }
   ],
   "source": [
    "from bs4 import BeautifulSoup\n",
    "import requests\n",
    "\n",
    "##### Your Code Here #####\n",
    "raise Exception(\"\\nThis task is not complete. \\nReplace this line with your code for the task.\")\n",
    "                \n"
   ]
  },
  {
   "cell_type": "code",
   "execution_count": 33,
   "metadata": {},
   "outputs": [],
   "source": [
    "# from https://www.youtube.com/watch?v=87Gx3U0BDlo\n",
    "\n",
    "\n",
    "# result = requests.get('https://..tatements/')\n",
    "# src = result.content\n",
    "# # soup = BeautifulSoup(src, 'lxml')\n",
    "# soup = BeautifulSoup(src, 'html.parser')\n",
    "\n",
    "# links = soup.find_all(\"a\")\n",
    "\n",
    "# # questions = soup.select(\".question-summary\")\n",
    "\n",
    "# urls = []\n",
    "\n",
    "# for h2_tag in soup.find_all(\"h2\"):\n",
    "#     a_tag = h2_tag.find('a')  \n",
    "#      ## want the actual link\n",
    "#     urls.append(a_tag.attrs['href'])\n",
    "    \n",
    "# # print(urls)\n",
    "\n",
    "# for i in urls:\n",
    "#     print(urls(i))\n",
    "\n",
    "# len(urls)+2\n"
   ]
  },
  {
   "cell_type": "code",
   "execution_count": null,
   "metadata": {},
   "outputs": [],
   "source": []
  },
  {
   "cell_type": "code",
   "execution_count": null,
   "metadata": {},
   "outputs": [],
   "source": []
  },
  {
   "cell_type": "code",
   "execution_count": 67,
   "metadata": {},
   "outputs": [
    {
     "name": "stdout",
     "output_type": "stream",
     "text": [
      "(426, 3)\n"
     ]
    },
    {
     "data": {
      "text/html": [
       "<div>\n",
       "<style scoped>\n",
       "    .dataframe tbody tr th:only-of-type {\n",
       "        vertical-align: middle;\n",
       "    }\n",
       "\n",
       "    .dataframe tbody tr th {\n",
       "        vertical-align: top;\n",
       "    }\n",
       "\n",
       "    .dataframe thead th {\n",
       "        text-align: right;\n",
       "    }\n",
       "</style>\n",
       "<table border=\"1\" class=\"dataframe\">\n",
       "  <thead>\n",
       "    <tr style=\"text-align: right;\">\n",
       "      <th></th>\n",
       "      <th>Unnamed: 0</th>\n",
       "      <th>description</th>\n",
       "      <th>title</th>\n",
       "    </tr>\n",
       "  </thead>\n",
       "  <tbody>\n",
       "    <tr>\n",
       "      <th>0</th>\n",
       "      <td>0</td>\n",
       "      <td>b\"&lt;div&gt;&lt;div&gt;Job Requirements:&lt;/div&gt;&lt;ul&gt;&lt;li&gt;&lt;p&gt;...</td>\n",
       "      <td>Data scientist</td>\n",
       "    </tr>\n",
       "    <tr>\n",
       "      <th>1</th>\n",
       "      <td>1</td>\n",
       "      <td>b'&lt;div&gt;Job Description&lt;br/&gt;\\n&lt;br/&gt;\\n&lt;p&gt;As a Da...</td>\n",
       "      <td>Data Scientist I</td>\n",
       "    </tr>\n",
       "    <tr>\n",
       "      <th>2</th>\n",
       "      <td>2</td>\n",
       "      <td>b'&lt;div&gt;&lt;p&gt;As a Data Scientist you will be work...</td>\n",
       "      <td>Data Scientist - Entry Level</td>\n",
       "    </tr>\n",
       "    <tr>\n",
       "      <th>3</th>\n",
       "      <td>3</td>\n",
       "      <td>b'&lt;div class=\"jobsearch-JobMetadataHeader icl-...</td>\n",
       "      <td>Data Scientist</td>\n",
       "    </tr>\n",
       "    <tr>\n",
       "      <th>4</th>\n",
       "      <td>4</td>\n",
       "      <td>b'&lt;ul&gt;&lt;li&gt;Location: USA \\xe2\\x80\\x93 multiple ...</td>\n",
       "      <td>Data Scientist</td>\n",
       "    </tr>\n",
       "  </tbody>\n",
       "</table>\n",
       "</div>"
      ],
      "text/plain": [
       "   Unnamed: 0                                        description  \\\n",
       "0           0  b\"<div><div>Job Requirements:</div><ul><li><p>...   \n",
       "1           1  b'<div>Job Description<br/>\\n<br/>\\n<p>As a Da...   \n",
       "2           2  b'<div><p>As a Data Scientist you will be work...   \n",
       "3           3  b'<div class=\"jobsearch-JobMetadataHeader icl-...   \n",
       "4           4  b'<ul><li>Location: USA \\xe2\\x80\\x93 multiple ...   \n",
       "\n",
       "                          title  \n",
       "0               Data scientist   \n",
       "1              Data Scientist I  \n",
       "2  Data Scientist - Entry Level  \n",
       "3                Data Scientist  \n",
       "4                Data Scientist  "
      ]
     },
     "execution_count": 67,
     "metadata": {},
     "output_type": "execute_result"
    }
   ],
   "source": [
    "indeed = pd.read_csv('./data/job_listings.csv')\n",
    "\n",
    "print(indeed.shape)\n",
    "indeed.head()"
   ]
  },
  {
   "cell_type": "code",
   "execution_count": 70,
   "metadata": {},
   "outputs": [],
   "source": [
    "l1 = ['<.>', '<..>','<...>' ,'<...', '.>', \"b'\" , 'b\"', '.+\\n']\n",
    "\n",
    "l2 = ['lass=\"jobsearch-JobMetadataHeader' ]\n",
    "\n",
    "indeed['description'] = indeed['description'].str.replace('|'.join(l1)  , '', regex=True).str.strip()"
   ]
  },
  {
   "cell_type": "code",
   "execution_count": 71,
   "metadata": {},
   "outputs": [
    {
     "data": {
      "text/html": [
       "<div>\n",
       "<style scoped>\n",
       "    .dataframe tbody tr th:only-of-type {\n",
       "        vertical-align: middle;\n",
       "    }\n",
       "\n",
       "    .dataframe tbody tr th {\n",
       "        vertical-align: top;\n",
       "    }\n",
       "\n",
       "    .dataframe thead th {\n",
       "        text-align: right;\n",
       "    }\n",
       "</style>\n",
       "<table border=\"1\" class=\"dataframe\">\n",
       "  <thead>\n",
       "    <tr style=\"text-align: right;\">\n",
       "      <th></th>\n",
       "      <th>Unnamed: 0</th>\n",
       "      <th>description</th>\n",
       "      <th>title</th>\n",
       "    </tr>\n",
       "  </thead>\n",
       "  <tbody>\n",
       "    <tr>\n",
       "      <th>0</th>\n",
       "      <td>0</td>\n",
       "      <td>Job Requirements:\\nConceptual understanding in...</td>\n",
       "      <td>Data scientist</td>\n",
       "    </tr>\n",
       "    <tr>\n",
       "      <th>1</th>\n",
       "      <td>1</td>\n",
       "      <td>Job Description\\n\\nAs a Data Scientist 1, you ...</td>\n",
       "      <td>Data Scientist I</td>\n",
       "    </tr>\n",
       "    <tr>\n",
       "      <th>2</th>\n",
       "      <td>2</td>\n",
       "      <td>As a Data Scientist you will be working on con...</td>\n",
       "      <td>Data Scientist - Entry Level</td>\n",
       "    </tr>\n",
       "    <tr>\n",
       "      <th>3</th>\n",
       "      <td>3</td>\n",
       "      <td>c icl-u-xs-mb--md c-item n class=\"icl-u-xs-mr-...</td>\n",
       "      <td>Data Scientist</td>\n",
       "    </tr>\n",
       "    <tr>\n",
       "      <th>4</th>\n",
       "      <td>4</td>\n",
       "      <td>Location: USA \\xe2\\x80\\x93 multiple locations\\...</td>\n",
       "      <td>Data Scientist</td>\n",
       "    </tr>\n",
       "    <tr>\n",
       "      <th>5</th>\n",
       "      <td>5</td>\n",
       "      <td>Create various Business Intelligence Analytica...</td>\n",
       "      <td>Data Scientist</td>\n",
       "    </tr>\n",
       "    <tr>\n",
       "      <th>6</th>\n",
       "      <td>6</td>\n",
       "      <td>As Spotify Premium swells to over 96M subscrib...</td>\n",
       "      <td>Associate Data Scientist – Premium Analytics</td>\n",
       "    </tr>\n",
       "    <tr>\n",
       "      <th>7</th>\n",
       "      <td>7</td>\n",
       "      <td>Everytown for Gun Safety, the nation's largest...</td>\n",
       "      <td>Data Scientist</td>\n",
       "    </tr>\n",
       "    <tr>\n",
       "      <th>8</th>\n",
       "      <td>8</td>\n",
       "      <td>MS in a quantitative discipline such as Statis...</td>\n",
       "      <td>Sr. Data Scientist</td>\n",
       "    </tr>\n",
       "    <tr>\n",
       "      <th>9</th>\n",
       "      <td>9</td>\n",
       "      <td>Slack is hiring experienced data scientists to...</td>\n",
       "      <td>Data Scientist, Lifecyle</td>\n",
       "    </tr>\n",
       "  </tbody>\n",
       "</table>\n",
       "</div>"
      ],
      "text/plain": [
       "   Unnamed: 0                                        description  \\\n",
       "0           0  Job Requirements:\\nConceptual understanding in...   \n",
       "1           1  Job Description\\n\\nAs a Data Scientist 1, you ...   \n",
       "2           2  As a Data Scientist you will be working on con...   \n",
       "3           3  c icl-u-xs-mb--md c-item n class=\"icl-u-xs-mr-...   \n",
       "4           4  Location: USA \\xe2\\x80\\x93 multiple locations\\...   \n",
       "5           5  Create various Business Intelligence Analytica...   \n",
       "6           6  As Spotify Premium swells to over 96M subscrib...   \n",
       "7           7  Everytown for Gun Safety, the nation's largest...   \n",
       "8           8  MS in a quantitative discipline such as Statis...   \n",
       "9           9  Slack is hiring experienced data scientists to...   \n",
       "\n",
       "                                          title  \n",
       "0                               Data scientist   \n",
       "1                              Data Scientist I  \n",
       "2                  Data Scientist - Entry Level  \n",
       "3                                Data Scientist  \n",
       "4                                Data Scientist  \n",
       "5                                Data Scientist  \n",
       "6  Associate Data Scientist – Premium Analytics  \n",
       "7                                Data Scientist  \n",
       "8                            Sr. Data Scientist  \n",
       "9                      Data Scientist, Lifecyle  "
      ]
     },
     "execution_count": 71,
     "metadata": {},
     "output_type": "execute_result"
    }
   ],
   "source": [
    "indeed.head(10)"
   ]
  },
  {
   "cell_type": "code",
   "execution_count": null,
   "metadata": {},
   "outputs": [],
   "source": []
  },
  {
   "cell_type": "code",
   "execution_count": 77,
   "metadata": {},
   "outputs": [
    {
     "data": {
      "text/plain": [
       "About the Company\\n\\nCivis Analytics is a technology and strategic services company that works with organizations seeking to make more efficient, accurate, and data-driven decisions. Civis was founded in 2013 by former members of the analytics team on the 2012 Obama campaign and today works with some of the nation's leading progressive political and advocacy organizations, Fortune 500 companies, and major nonprofits.\\n\\nCivis' objective this year and next is simple: we want every political client organization to be data-driven and digital first. Here's how you'd help:\\n\\nFirst, the Civis platform is the technology of record for hundreds of in-house data scientists and analysts across the progressive movement. We seek to extend the feature set and capabilities to help these users quickly and self-reliantly accomplish their missions through data.\\n\\nSecond, Civis is building new digital technologies to help campaigns make the transition to digital outreach. It's 2019 after all. We're building the measurement, execution, and attribution tools to help these campaigns measure, target, and spend their dollars effectively and transparently through digital tools.\\n\\nBelow are some details, and the application is below. And even if you want to just hear more, let us know and we'll quickly get on the phone with you to discuss more.\\n\\nAbout the Company\\n\\nThe political R&amp;D group is seeking a Data Scientist to join our team of data scientists and strategists in New York City. We're a small team who works hard and makes a measurable impact in supporting progressive causes. If you're looking for a way to have a big impact on the 2020 election, this is it.\\n\\nWe function as the research and development arm for Civis's political work, and we incubate our work directly with some of the largest, most impactful progressive organizations in the country. Problems ranging from large-scale optimization and resource allocation to high dimensional modeling to causal inference make up our day-to-day.\\n\\nCivis embraces the individuality of our employees and we celebrate each other's differences. Our products, services, and culture benefit from and thrive on the unique perspectives brought by each person in our Civis community. We're proud to be an equal opportunity workplace, and we are committed to equal employment opportunity regardless of race, age, sex, color, ancestry, religion, national origin, sexual orientation, gender identity, citizenship, marital status, disability, or Veteran status. If you have a disability or special need that requires accommodation, please let us know.\\n\\nLearn more about Civis at www.civisanalytics.com ( http://www.civisanalytics.com/ ).\\n\\nAbout the Role\\n\\nAs a Data Scientist on the research and development team in our NYC office, your day-to-day work will involve everything from statistical modeling in Python/R, to the testing and development of statistical software and production-level pipelines, to project management. You will also actively work with our strategy teams to distill and communicate results effectively to our progressive clients.\\n\\nMinimum Qualifications\\n\\n\\nAbility to learn new techniques and technologies quickly as our needs change\\nAbility to work well in a small team in a self-directed manner\\nBachelor's degree in an analytical subject (political science, statistics, math, economics, physics, etc) or equivalent\\nProficiency with machine learning and statistical modeling (e.g., scikit-learn, TensorFlow, Stan)\\n\\nPreferred Qualifications\\n\\n\\nFamiliarity with software development tools and practices (Git, code review, etc.)\\nRelevant work experience in applied statistics or machine learning\\nProficiency with Python or R, and SQL\\n\\n\"                                                                                                                                                                                                                                                                                                                                                                                                                                                                                                                                                                                                                                                                                                                                                                                                                                                                                                                                                                                                                    3\n",
       "You will collaborate with the brightest technical minds in building futuristic products, researching groundbreaking concepts, and influencing new ideas to transform retail. If you want to make meaningful contributions and reinvent the retail space that will impact millions of guests, Target is for you.\\n\\nAbout This Opportunity: Responsib...\\nle for the development of high performance, distributed computing tasks using Big Data technologies such as Hadoop, NoSQL, text mining and other distributed environment technologies based on the needs of the organization. Designs and drives the creation of new standards and best practices in the use of statistical data modeling, big data and optimization tools.\\n\\n\\xc2\\xbb Deploy data-science and technology based algorithmic solutions to address business needs for our customers \\xc2\\xbb Utilize recommender systems, collaborative filtering techniques, propensity modeling to drive our customer's business priorities\\nQualifications: Msc - Statistics / Math or PhD in any stream\\nExperience : 0 to 2 years\\nRequirements\\n\\xc2\\xbb Experience / Strong Knowledge of Regression/Linear Analysis\\n\\xc2\\xbb Familiarity with any of Deep Learning, Distributed RF, Generalized Linear Model,K-Mean and naive Bayes\\n\\xc2\\xbb Familiarity with designing algorithms on Hadoop ecosystem\\n\\xc2\\xbb Experience / Strong Knowledge with recommendation systems\\n\\xc2\\xbb A strong passion for empirical research and for answering hard questions with data\\n\\xc2\\xbb Excellent written and verbal communication skills\\nemail your resume on careers@analytos.com\"                                                                                                                                                                                                                                                                                                                                                                                                                                                                                                                                                                                                                                                                                                                                                                                                                                                                                                                                                                                                                                                                                                                                                                                                                                                                                                                                                                                                                                                                                                                                                                                                                                                                                                                                                                                                                                                                                                                                                                                                                                                                                                                                                                                                                                                                                                                                                                                                                                                                                                                                                                                                                                                                                                                                                                                                                                                                                                                                                                                                                                                                                                                                                                                                                                                          3\n",
       "We\\'re looking for Data Scientists who are passionate about generating actionable insights to drive product decisions across the business. You enjoy working with cutting edge technology and the ability to see your insights applied to real products on a regular basis.\\n\\nYou are focused on impact, a self-starter, and have demonstrated success in using data science to understand users and drive growth of a product or business. In approaching new problems, you demonstrate sharp critical thinking, intellectual curiosity, data fluency, and a collaborative work ethic. These roles are within the Strategy department and report to the Consumer Analytics Manager in Squarespace\\'s New York offices.\\n\\nDepending on your area of focus, questions you may tackle in a typical day include:\\n\\n\\nWhat are the drivers of the growth of our Commerce product? How can we provide small businesses with tools to be more successful?\\nWhat paths do users take through our product and how should that influence our product development roadmap?\\nHow should we define \"success\" of the launch of a new product and why? How can we measure the impact of the new feature?\\n\\nRESPONSIBILITIES\\n\\n\\nCollaborate with product managers, engineers, and designers to support the product roadmap with analyses and reports.\\nReframe customer experiences and business objectives into quantifiable frameworks in order to reveal actionable insights.\\nDefine metrics to measure the health of customer segments and progress towards product goals.\\nWork with product engineering to define and instrument events.\\nBuild and own core reporting and underlying data transformations.\\nCommunicate results and impact to product and business stakeholders.\\nCollaborate with wider data science team to contribute to learning culture and technical toolkit.\\n\\nQUALIFICATIONS\\n\\n\\n2+ years of analytical work experience (experience working with product organizations a plus)\\nStrong critical thinking and problem solving skills\\nExperience communicating effectively with non-technical audiences\\nStrong ability to devise data-driven solutions to business problems\\nStrong competency with SQL\\nExperience with or exposure to a scripting language (Python preferred)\\n\\nABOUT SQUARESPACE\\n\\nSquarespace makes beautiful products to help people with creative ideas succeed. By blending elegant design and sophisticated engineering, we empower millions of people \\xe2\\x80\\x94 from individuals and local artists to entrepreneurs shaping the world\\'s most iconic businesses \\xe2\\x80\\x94 to share their stories with the world. Squarespace\\'s team of more than 800 is headquartered in downtown New York City, with offices in Dublin and Portland. For more information, visit www.squarespace.com/about ( https://www.squarespace.com/about ).\\n\\nPERKS\\n\\nHealth insurance with 100% premium covered\\nFlexible vacation &amp; paid time off\\nEquity plan\\n401(k) plan with employer match\\nFree lunch and snacks\\nDog-friendly workplace\\nAnd more ( https://squarespace.com/about/careers )\\n\\nToday, more than a million people around the globe use Squarespace to share different perspectives and experiences with the world. Not only do we embrace and celebrate the diversity of our customer base, but we also strive for the same in our employees. At Squarespace, we are committed to equal employment opportunity regardless of race, color, ancestry, religion, sex, national origin, sexual orientation, age, citizenship, marital status, disability, gender, gender identity or expression, or veteran status. We are proud to be an equal opportunity workplace.'                                                                                                                                                                                                                                                                                                                                                                                                                                                                                                                                                                                                                                                                                                                                                                                                                                                                                                                                                                                                                                                                                                                                                                       3\n",
       "Minimum qualifications:\\nMaster's degree in Operations Research, Industrial Engineering, Statistics, related field, or equivalent practical experience.\\n2 years of relevant work experience (e.g., as a data scientist) or equivalent. Analytical engagements outside class work while at school can be included.\\n\\nExperience with statistical software (e.g., R, Python) and database languages (e.g., SQL)\\n\\nPreferred qualifications:\\nPhD in Operations Research, Industrial Engineering, Statistics or related field.\\n\\n4 years of relevant work experience (e.g., as a data scientist), including experience applying advanced analytics to planning and infrastructure problems.\\n\\nExperience designing and building statistical forecasting models.\\n\\nExperience designing and building machine learning models.\\n\\nExcellent problem-framing, problem-solving and project management skills.\\n\\nExcellent customer service and team collaboration skills.\\nAbout the job\\nAt Google, data drives all of our decision-making. Data Scientists work all across the organization to help shape Google's business and technical strategies by processing, analyzing and interpreting huge data sets. Using analytical rigor and statistical methods, you mine through data to identify opportunities for Google and our clients to operate more efficiently, from enhancing advertising efficacy to network infrastructure optimization to studying user behavior. As an analyst, you do more than just crunch the numbers. You work with Engineers, Product Managers, Sales Associates and Marketing teams to adjust Google's practices according to your findings. Identifying the problem is only half the job; you also figure out the solution.\\n\\nAs a member of the Operations Data Science team, you will apply operations research and statistical methods to solve challenges related to compute, storage, network, and datacenter capacity for both Google\\xe2\\x80\\x99s internal services and Google Cloud Platform. You will work broadly across Google\\xe2\\x80\\x99s Platforms Engineering, Systems Infrastructure, and Site Reliability Engineering teams to optimize our deployment of resources and drive innovation in our software stack, allowing for efficient use of resources.\\n\\nAs a Data Scientist, you will think critically and strategically about Google\\xe2\\x80\\x99s cloud as a technology, a business, and as an operation. You will be comfortable discussing total cost of management with hardware engineers, resource optimization with software engineers, or reviewing fleet plans and deployment policies with operations executives, all based upon the analytical models that you will be developing.\\nBehind everything our users see online is the architecture built by the Technical Infrastructure team to keep it running. From developing and maintaining our data centers to building the next generation of Google platforms, we make Google's product portfolio possible. We're proud to be our engineers' engineers and love voiding warranties by taking things apart so we can rebuild them. We're always on call to keep our networks up and running, ensuring our users have the best and fastest experience possible. Responsibilities\\n\\nLead projects with hands-on analysis and modeling, drawing from multiple of analytical methods to choose the right tool and right level of complexity appropriate for the business challenges.\\n\\nEngage broadly with the organization to identify, prioritize, frame, and structure complex and ambiguous challenges, where advanced analytics projects or tools can have the biggest impact.\\n\\nIdentify and communicate the challenges and opportunities that the group should be working on.\\n\\nHelp define the analytical direction and influence the direction of the associated engineering and infrastructure work.\\n\\nArticulate business questions and use mathematical techniques to arrive at an answer using data. Translate analysis results into business recommendations.\\nAt Google, we don\\xe2\\x80\\x99t just accept difference\\xe2\\x80\\x94we celebrate it, we support it, and we thrive on it for the benefit of our employees, our products and our community. Google is proud to be an equal opportunity workplace and is an affirmative action employer. We are committed to equal employment opportunity regardless of race, color, ancestry, religion, sex, national origin, sexual orientation, age, citizenship, marital status, disability, gender identity or Veteran status. We also consider qualified applicants regardless of criminal histories, consistent with legal requirements. See also Google's EEO Policy and EEO is the Law. If you have a disability or special need that requires accommodation, please let us know by completing this form .\"    3\n",
       "Position Description\\nWe are looking for an experienced Data Scientist to join Vudu\\xe2\\x80\\x99s growing Analytics team in Sunnyvale, CA and lead our efforts at modeling and researching consumer behavior. You will be leading our efforts around content recommendation, personalization, response modeling, churn analysis, A/B testing and much more. Sounds exciting? Here is more:\\n\\nWho you are:\\n\\n\\xef\\x83\\x98 End-to-End model development: Build prediction models from the ground up, from data exploration through feature generation and into model construction and optimization.\\n\\xef\\x83\\x98 Mine Vudu (and other) data and deploy statistical modeling to gain robust insights into how consumers make entertainment choices.\\n\\xef\\x83\\x98 Run exploratory analyses into ambiguous problems and define metrics to build a quantitative understanding of our business.\\n\\xef\\x83\\x98 Lead collaboration with teams across the company: Product, marketing, Content and Engineering.\\n\\xef\\x83\\x98 Do whatever it takes to deliver business value with data, be it building a data pipeline, a report, a dashboard or a predictive model.\\n\\xef\\x83\\x98 Communicate key results to senior management in verbal, visual, and written media.\\n#LI-AB1\\nMinimum Qualifications\\n\\xef\\x83\\x98 PhD or MS degree in Computer Science/Engineering, Operations Research, Statistics, Mathematics, Electrical Engineering or related quantitative field\\n\\xef\\x83\\x98 3+ years of hands-on experience with Python or R and the supporting analysis libraries / ecosystem.\\n\\xef\\x83\\x98 Proven track record of practicing data science at scale.\\n\\xef\\x83\\x98 Great communication skills.\\n\\xef\\x83\\x98 Expertise in practical aspects of applied machine learning.\\n\\xef\\x83\\x98 Expertise in various aspects of data engineering (SQL, Hadoop, Spark etc.)\\n\\xef\\x83\\x98 Delivery-oriented approach - ability to get things done within a strict time frame / ability to juggle multiple assignments.\\nAdditional Preferred Qualifications\\n\\nCompany Summary\\nThe Walmart eCommerce team is rapidly innovating to evolve and define the future state of shopping. As the world\\xe2\\x80\\x99s largest retailer, we are on a mission to help people save money and live better. With the help of some of the brightest minds in technology, merchandising, marketing, supply chain, talent and more, we are reimagining the intersection of digital and physical shopping to help achieve that mission.\\nPosition Summary\\nWe are looking for an experienced Data Scientist to join Vudu\\xe2\\x80\\x99s growing Analytics team in Sunnyvale, CA and lead our efforts at modeling and researching consumer behavior. You will be leading our efforts around content recommendation, personalization, response modeling, churn analysis, A/B testing and much more. Sounds exciting? Here is more:\\n\\nWho you are:\\n\\n\\xef\\x83\\x98 End-to-End model development: Build prediction models from the ground up, from data exploration through feature generation and into model construction and optimization.\\n\\xef\\x83\\x98 Mine Vudu (and other) data and deploy statistical modeling to gain robust insights into how consumers make entertainment choices.\\n\\xef\\x83\\x98 Run exploratory analyses into ambiguous problems and define metrics to build a quantitative understanding of our business.\\n\\xef\\x83\\x98 Lead collaboration with teams across the company: Product, marketing, Content and Engineering.\\n\\xef\\x83\\x98 Do whatever it takes to deliver business value with data, be it building a data pipeline, a report, a dashboard or a predictive model.\\n\\xef\\x83\\x98 Communicate key results to senior management in verbal, visual, and written media.'                                                                                                                                                                                                                                                                                                                                                                                                                                                                                                                                                                                                                                                                                                                                                                                                                                                                                                                                                                                                                                                                                                                          2\n",
       "Name: description, dtype: int64"
      ]
     },
     "execution_count": 77,
     "metadata": {},
     "output_type": "execute_result"
    }
   ],
   "source": [
    "indeed['description'].value_counts()[:5]"
   ]
  },
  {
   "cell_type": "code",
   "execution_count": null,
   "metadata": {},
   "outputs": [],
   "source": []
  },
  {
   "cell_type": "markdown",
   "metadata": {
    "colab_type": "text",
    "id": "5C4xFZNtX1m2"
   },
   "source": [
    "## 2) Use Spacy to tokenize the listings "
   ]
  },
  {
   "cell_type": "code",
   "execution_count": null,
   "metadata": {
    "colab": {},
    "colab_type": "code",
    "id": "dhUHuMr-X-II"
   },
   "outputs": [],
   "source": [
    "##### Your Code Here #####\n",
    "raise Exception(\"\\nThis task is not complete. \\nReplace this line with your code for the task.\""
   ]
  },
  {
   "cell_type": "code",
   "execution_count": null,
   "metadata": {},
   "outputs": [],
   "source": []
  },
  {
   "cell_type": "code",
   "execution_count": 72,
   "metadata": {},
   "outputs": [],
   "source": [
    "def tokenize(text):\n",
    "    \"\"\"Parses a string into a list of semantic units (words)\n",
    "\n",
    "    Args:\n",
    "        text (str): The string that the function will tokenize.\n",
    "\n",
    "    Returns:\n",
    "        list: tokens parsed out by the mechanics of your choice\n",
    "    \"\"\"\n",
    "    \n",
    "    tokens = re.sub('[^a-zA-Z 0-9]', '', text)\n",
    "    tokens = tokens.lower().split()  \n",
    "#     No need to put .lower   IF the DF is ALREADY in lowercase.\n",
    "    \n",
    "    return tokens"
   ]
  },
  {
   "cell_type": "code",
   "execution_count": 75,
   "metadata": {},
   "outputs": [
    {
     "data": {
      "text/plain": [
       "['0',\n",
       " 'job',\n",
       " 'requirementsnconceptual',\n",
       " 'understanding',\n",
       " 'in1',\n",
       " 'job',\n",
       " 'descriptionnnas',\n",
       " 'a',\n",
       " 'data',\n",
       " 'scientist',\n",
       " '1',\n",
       " 'you',\n",
       " '2',\n",
       " 'as',\n",
       " 'a',\n",
       " 'data',\n",
       " 'scientist',\n",
       " 'you',\n",
       " 'will',\n",
       " 'be',\n",
       " 'working',\n",
       " 'on',\n",
       " 'con3',\n",
       " 'c',\n",
       " 'icluxsmbmd',\n",
       " 'citem',\n",
       " 'n',\n",
       " 'classicluxsmr4',\n",
       " 'location',\n",
       " 'usa',\n",
       " 'xe2x80x93',\n",
       " 'multiple',\n",
       " 'locations',\n",
       " '421',\n",
       " 'about',\n",
       " 'usnwant',\n",
       " 'to',\n",
       " 'be',\n",
       " 'part',\n",
       " 'of',\n",
       " 'a',\n",
       " 'fantastic',\n",
       " 'and',\n",
       " '422',\n",
       " 'c',\n",
       " 'icluxsmbmd',\n",
       " 'citem',\n",
       " 'icluxsmtxsintern423',\n",
       " 'c',\n",
       " 'icluxsmbmd',\n",
       " 'citem',\n",
       " 'n',\n",
       " 'classicluxsmr424',\n",
       " 'senior',\n",
       " 'data',\n",
       " 'scientistnjob',\n",
       " 'descriptionnnabou425',\n",
       " 'cerner',\n",
       " 'intelligence',\n",
       " 'is',\n",
       " 'a',\n",
       " 'new',\n",
       " 'innovative',\n",
       " 'organname',\n",
       " 'description',\n",
       " 'length',\n",
       " '426',\n",
       " 'dtype',\n",
       " 'object']"
      ]
     },
     "execution_count": 75,
     "metadata": {},
     "output_type": "execute_result"
    }
   ],
   "source": [
    "tokenize(str(indeed['description']))"
   ]
  },
  {
   "cell_type": "code",
   "execution_count": 78,
   "metadata": {},
   "outputs": [],
   "source": [
    "indeed['tokens'] = indeed['description'].apply(tokenize)"
   ]
  },
  {
   "cell_type": "code",
   "execution_count": 79,
   "metadata": {},
   "outputs": [
    {
     "data": {
      "text/plain": [
       "0      [job, requirementsnconceptual, understanding, ...\n",
       "1      [job, descriptionnnas, a, data, scientist, 1, ...\n",
       "2      [as, a, data, scientist, you, will, be, workin...\n",
       "3      [c, icluxsmbmd, citem, n, classicluxsmrxs4969,...\n",
       "4      [location, usa, xe2x80x93, multiple, locations...\n",
       "                             ...                        \n",
       "421    [about, usnwant, to, be, part, of, a, fantasti...\n",
       "422    [c, icluxsmbmd, citem, icluxsmtxsinternshipat,...\n",
       "423    [c, icluxsmbmd, citem, n, classicluxsmrxs20000...\n",
       "424    [senior, data, scientistnjob, descriptionnnabo...\n",
       "425    [cerner, intelligence, is, a, new, innovative,...\n",
       "Name: tokens, Length: 426, dtype: object"
      ]
     },
     "execution_count": 79,
     "metadata": {},
     "output_type": "execute_result"
    }
   ],
   "source": [
    "# Tokenize description:\n",
    "\n",
    "indeed['tokens']"
   ]
  },
  {
   "cell_type": "code",
   "execution_count": null,
   "metadata": {},
   "outputs": [],
   "source": []
  },
  {
   "cell_type": "code",
   "execution_count": null,
   "metadata": {},
   "outputs": [],
   "source": []
  },
  {
   "cell_type": "markdown",
   "metadata": {
    "colab_type": "text",
    "id": "-lgCZNL_YycP"
   },
   "source": [
    "## 3) Use Scikit-Learn's CountVectorizer to get word counts for each listing."
   ]
  },
  {
   "cell_type": "code",
   "execution_count": null,
   "metadata": {
    "colab": {},
    "colab_type": "code",
    "id": "X2PZ8Pj_YxcF"
   },
   "outputs": [],
   "source": [
    "##### Your Code Here #####\n",
    "raise Exception(\"\\nThis task is not complete. \\nReplace this line with your code for the task.\""
   ]
  },
  {
   "cell_type": "code",
   "execution_count": null,
   "metadata": {},
   "outputs": [],
   "source": [
    "from sklearn.feature_extraction.text import CountVectorizer"
   ]
  },
  {
   "cell_type": "code",
   "execution_count": 85,
   "metadata": {},
   "outputs": [
    {
     "name": "stdout",
     "output_type": "stream",
     "text": [
      "  (0, 225)\t1\n",
      "  (0, 498)\t1\n",
      "  (0, 569)\t2\n",
      "  (0, 608)\t2\n",
      "  (0, 661)\t1\n",
      "  (0, 675)\t1\n",
      "  (0, 697)\t1\n",
      "  (0, 755)\t1\n",
      "  (0, 914)\t1\n",
      "  (0, 1071)\t1\n",
      "  (0, 1474)\t1\n",
      "  (0, 1530)\t1\n",
      "  (0, 1613)\t1\n",
      "  (0, 1690)\t1\n",
      "  (0, 2067)\t1\n",
      "  (0, 2128)\t1\n",
      "  (0, 2163)\t1\n",
      "  (0, 2478)\t1\n",
      "  (0, 2612)\t1\n",
      "  (0, 2844)\t1\n",
      "  (0, 2956)\t2\n",
      "  (0, 2973)\t1\n",
      "  (0, 3129)\t1\n",
      "  (0, 3156)\t1\n",
      "  (0, 3245)\t1\n",
      "  :\t:\n",
      "  (425, 9706)\t1\n",
      "  (425, 9742)\t1\n",
      "  (425, 9763)\t1\n",
      "  (425, 9811)\t1\n",
      "  (425, 9835)\t2\n",
      "  (425, 9872)\t1\n",
      "  (425, 9878)\t1\n",
      "  (425, 9880)\t1\n",
      "  (425, 9886)\t2\n",
      "  (425, 9899)\t3\n",
      "  (425, 9901)\t1\n",
      "  (425, 9915)\t10\n",
      "  (425, 9917)\t2\n",
      "  (425, 9918)\t1\n",
      "  (425, 9928)\t6\n",
      "  (425, 9934)\t1\n",
      "  (425, 9937)\t1\n",
      "  (425, 9940)\t1\n",
      "  (425, 9963)\t5\n",
      "  (425, 9976)\t2\n",
      "  (425, 10012)\t3\n",
      "  (425, 10080)\t5\n",
      "  (425, 10127)\t2\n",
      "  (425, 10134)\t3\n",
      "  (425, 10136)\t1\n"
     ]
    }
   ],
   "source": [
    "# create the transformer\n",
    "vect = CountVectorizer()\n",
    "\n",
    "\n",
    "# build vocab\n",
    "vect.fit(indeed['description'])\n",
    "\n",
    "# transform text\n",
    "dtm = vect.transform(indeed['description'])\n",
    "\n",
    "\n",
    "print(dtm)"
   ]
  },
  {
   "cell_type": "code",
   "execution_count": 86,
   "metadata": {},
   "outputs": [
    {
     "name": "stdout",
     "output_type": "stream",
     "text": [
      "['00', '000', '02115', '03', '0356', '04', '062', '06366', '08', '10', '100', '1000', '1001', '1008', '100k', '100x', '105', '1079302', '1082692', '10b', '10ms', '10x', '11', '110k', '112', '114157802', '12', '120', '125', '126', '130', '1315', '1324b', '138', '14', '140', '15', '150', '15000', '159m', '16', '1605', '165', '169334br', '17', '170', '17b', '18', '180', '180008jq', '18b', '19', '190', '190007ji', '19000bn4', '19000c1k', '19004162', '1901744class', '1904', '1904labs', '1905', '19050', '1938', '1944', '1967', '1971', '1975', '1979', '1988', '199', '1994', '1999', '1b', '1st', '1strategy', '1tb', '20', '200', '2000', '200020183', '200041695', '2004', '2008', '2011', '2012', '2013', '2014', '2015', '2016', '2017', '2018', '2019', '2020', '2050', '21', '210', '2145', '2272', '24', '24m', '25', '250', '25256', '26', '260', '27', '28', '2nd', '2x', '30', '300', '30328', '30bn', '30k', '31', '317', '320', '3201', '33', '33051', '338', '35', '350', '3535', '35million', '36', '360', '365', '374', '37m', '380', '3d', '3rd', '3x', '40', '400', '401', '401k', '408', '4111', '42', '43', '447618', '45', '450', '45040', '457', '461', '47069', '485', '49', '4901', '4919', '4g', '4th', '50', '500', '5000', '500tm', '503', '510', '52799', '540', '55', '57', '579', '58', '59', '5g', '5m', '5pm', '60', '600', '60606', '613', '62', '66', '67', '6890', '695', '70', '700', '72', '725', '734', '75', '755', '756', '771', '78', '7901', '80', '800', '80bn', '82', '83', '832', '844', '85', '85034', '866', '877', '8954', '90', '900', '907', '908', '920', '9226', '93', '941', '95', '95035', '968', '969', '96m', '98', '9966', '9am', 'aa', 'aap', 'ab', 'ab1', 'abernathy', 'abilities', 'ability', 'able', 'abounds', 'about', 'above', 'abroad', 'absence', 'absolutely', 'absorbing', 'abstract', 'abstracting', 'abstraction', 'abstractions', 'abstractly', 'abundant', 'abuse', 'academia', 'academic', 'academics', 'academies', 'accelerate', 'accelerates', 'accelerating', 'acceleration', 'accelerator', 'accelerometer', 'accept', 'acceptable', 'acceptance', 'accepted', 'accepting', 'access', 'accessibility', 'accessible', 'accessing', 'accidental', 'accolade', 'accolades', 'accommodate', 'accommodating', 'accommodation', 'accommodations', 'accomplish', 'accomplished', 'accomplishment', 'accomplishments', 'accordance', 'according', 'account', 'accountability', 'accountable', 'accountants', 'accounting', 'accounts', 'accredited', 'accruals', 'accuracy', 'accurate', 'accurately', 'achieve', 'achieved', 'achievement', 'achievements', 'achievers', 'achieves', 'achieving', 'acknowledge', 'acl', 'acquire', 'acquired', 'acquiring', 'acquisition', 'acquisitions', 'acres', 'across', 'act', 'acted', 'acting', 'action', 'actionable', 'actions', 'activate', 'activation', 'active', 'actively', 'activities', 'activity', 'actors', 'acts', 'actual', 'actually', 'actuarial', 'actuary', 'acuity', 'acumen', 'acute', 'ad', 'adam', 'adapt', 'adaptability', 'adaptable', 'adaptations', 'adapting', 'adaption', 'adaptive', 'add', 'added', 'adding', 'addition', 'additional', 'additionally', 'additive', 'additives', 'address', 'addressed', 'addresses', 'addressing', 'adds', 'addthis', 'adept', 'adhere', 'adherence', 'adhering', 'adhoc', 'adjacent', 'adjudicates', 'adjust', 'adjusted', 'adjustments', 'admin', 'administration', 'administrative', 'administrators', 'admired', 'admission', 'admitting', 'adobe', 'adopt', 'adopting', 'adoption', 'ads', 'adtech', 'advance', 'advanced', 'advancement', 'advancements', 'advancementwe', 'advances', 'advancing', 'advantage', 'advantages', 'adventures', 'adversarial', 'advertisement', 'advertiser', 'advertisers', 'advertising', 'advice', 'advise', 'advisement', 'advisor', 'advisors', 'advisory', 'advocacy', 'advocate', 'advocates', 'advocating', 'adwords', 'aerial', 'aerospace', 'aetna', 'aetnas', 'afb', 'affairs', 'affect', 'affected', 'affecting', 'affectional', 'affects', 'affiliate', 'affiliates', 'affiliation', 'affinity', 'affirm', 'affirmative', 'afford', 'affordability', 'affordable', 'afni', 'afraid', 'after', 'again', 'against', 'age', 'agencies', 'agency', 'agenda', 'agent', 'agents', 'aggregate', 'aggregated', 'aggregating', 'aggregation', 'aggressive', 'aggressively', 'agile', 'agility', 'ago', 'agree', 'agreed', 'agreement', 'agricultural', 'agronomic', 'agronomy', 'ah1', 'ahead', 'ai', 'aid', 'aide', 'aiding', 'aids', 'aim', 'aimbridge', 'aimed', 'aiming', 'aims', 'air', 'airbnb', 'aircraft', 'airflow', 'airline', 'akraya', 'al', 'album', 'albuquerque', 'alcohol', 'alelo', 'alerting', 'alerts', 'alertsunderstanding', 'alex', 'alexa', 'algebra', 'algorithm', 'algorithmic', 'algorithms', 'alice', 'alienage', 'align', 'aligned', 'aligning', 'alignment', 'alignmentexperience', 'alike', 'alive', 'all', 'allazoengine', 'allazohealth', 'allegiance', 'allen', 'allennlp', 'allentown', 'alliance', 'allianz', 'allocates', 'allocation', 'allow', 'allowance', 'allowed', 'allowing', 'allows', 'almost', 'alone', 'along', 'alongside', 'alpha', 'alpharetta', 'already', 'also', 'altair', 'altering', 'alternate', 'alternately', 'alternating', 'alternative', 'alternatives', 'alteryx', 'alteryxexperience', 'although', 'alto', 'always', 'am', 'amazing', 'amazon', 'ambassador', 'ambiguity', 'ambiguous', 'ambiguously', 'ambition', 'ambitions', 'ambitious', 'amenities', 'america', 'american', 'americans', 'americas', 'amex', 'aml', 'amnesty', 'among', 'amongst', 'amount', 'amounts', 'amp', 'ampl', 'ample', 'amplion', 'amusement', 'an', 'anaheim', 'analyse', 'analyses', 'analysing', 'analysis', 'analysisat', 'analysisexperience', 'analysisrunning', 'analysisuses', 'analyst', 'analysts', 'analytic', 'analytical', 'analytically', 'analytics', 'analyticsidentifying', 'analyticso', 'analytos', 'analyze', 'analyzed', 'analyzes', 'analyzing', 'ancestry', 'anchor', 'ancillary', 'and', 'andover', 'andpython', 'andrew', 'android', 'angeles', 'angles', 'angrist', 'angular', 'anna', 'annapolis', 'annotate', 'annotates', 'annotating', 'annotation', 'announced', 'announcements', 'annual', 'annually', 'anomalies', 'anomaly', 'anonymization', 'anonymous', 'anonymously', 'another', 'anova', 'answer', 'answered', 'answering', 'answers', 'anti', 'anticipate', 'anticipated', 'anticipates', 'anticipating', 'antimalware', 'antonio', 'anum', 'anxious', 'any', 'anylogic', 'anyone', 'anything', 'anywhere', 'ap', 'apac', 'apache', 'apart', 'apex', 'api', 'apis', 'app', 'apparel', 'appealing', 'appear', 'appended', 'apple', 'applicability', 'applicable', 'applicant', 'applicants', 'application', 'applications', 'applicationsdrive', 'applicationsstrong', 'applied', 'applies', 'apply', 'applying', 'appointed', 'appointment', 'appreciate', 'appreciates', 'appreciation', 'apprised', 'approach', 'approachability', 'approachable', 'approaches', 'approacheswork', 'approaching', 'appropriate', 'appropriately', 'approval', 'approve', 'approved', 'approximately', 'approximating', 'approximation', 'apps', 'appzen', 'april', 'apriori', 'aptible', 'aptitude', 'ar', 'arbor', 'arcade', 'arcgis', 'architect', 'architecting', 'architects', 'architectural', 'architecture', 'architectures', 'architecturesnatural', 'are', 'area', 'areas', 'aren', 'arise', 'arises', 'arizona', 'arl', 'arlington', 'arm', 'armour', 'arms', 'army', 'around', 'arrange', 'arrangements', 'array', 'arrest', 'arrive', 'art', 'arthur', 'arthurlawrence', 'article', 'articles', 'articulate', 'articulating', 'artifacts', 'artificial', 'artist', 'artists', 'as', 'asap', 'ascensus', 'asia', 'ask', 'asked', 'asking', 'aspect', 'aspects', 'aspirational', 'aspirations', 'aspire', 'aspires', 'aspiring', 'assault', 'assemble', 'assembled', 'assembly', 'assess', 'assesses', 'assessing', 'assessment', 'assessments', 'asset', 'assets', 'assigned', 'assigning', 'assignment', 'assignments', 'assimilation', 'assist', 'assistance', 'assistancewe', 'assistants', 'assisted', 'assisting', 'assists', 'associate', 'associated', 'associates', 'association', 'assortment', 'assume', 'assuming', 'assumption', 'assumptions', 'assurance', 'assure', 'assured', 'asynchronous', 'at', 'athena', 'athlete', 'athletes', 'athletics', 'atlanta', 'atlantic', 'atlassian', 'atmosphere', 'atomic', 'atos', 'atrium', 'attach', 'attached', 'attack', 'attacking', 'attacks', 'attained', 'attempt', 'attend', 'attendance', 'attendees', 'attending', 'attention', 'attitude', 'attitudeproven', 'attitudinal', 'attn', 'attorneys', 'attract', 'attracting', 'attractions', 'attracts', 'attributes', 'attribution', 'attrition', 'atwww', 'au', 'auburn', 'auctions', 'audience', 'audiences', 'audio', 'audit', 'auditing', 'augment', 'augmentation', 'augmented', 'augmenting', 'august', 'aurora', 'austin', 'australia', 'authentic', 'author', 'authoring', 'authoritative', 'authorities', 'authority', 'authorization', 'authorizations', 'authorized', 'autism', 'auto', 'autodesk', 'autodeskinterns', 'automate', 'automated', 'automates', 'automatic', 'automatically', 'automating', 'automation', 'automobiles', 'automotive', 'autonomous', 'autonomously', 'autonomy', 'availability', 'available', 'avanade', 'avenues', 'average', 'avidly', 'avidxchange', 'avoid', 'avp', 'avro', 'award', 'awarded', 'awards', 'aware', 'awareness', 'away', 'aways', 'awe', 'awesome', 'aws', 'axians', 'axiologic', 'az', 'azkaban', 'azure', 'azureml', 'b2b', 'b2c', 'ba', 'baby', 'babylist', 'bachelor', 'bachelors', 'back', 'backbone', 'backed', 'backend', 'background', 'backgrounds', 'backing', 'backup', 'backwards', 'bacteria', 'bacterial', 'bad', 'bagged', 'bagging', 'bain', 'bake', 'bakery', 'balance', 'balancing', 'band', 'bandits', 'bangalore', 'bank', 'banking', 'banks', 'banners', 'bar', 'barriers', 'bart', 'base', 'baseball', 'based', 'baseline', 'baselines', 'bases', 'bash', 'basic', 'basically', 'basics', 'basis', 'basketball', 'baskets', 'bat', 'batch', 'batches', 'battery', 'battle', 'bay', 'bayes', 'bayesian', 'baytown', 'bcbs', 'bcbsaz', 'bda', 'be', 'beach', 'bear', 'beats', 'beautiful', 'beauty', 'beaverton', 'because', 'become', 'becomes', 'becoming', 'bed', 'bedrock', 'been', 'before', 'began', 'begets', 'begin', 'beginning', 'beginnings', 'behalf', 'behave', 'behavior', 'behavioral', 'behaviors', 'behaviour', 'behaviours', 'behind', 'beijing', 'being', 'beings', 'belief', 'beliefs', 'believe', 'believes', 'bell', 'bellevue', 'belonging', 'below', 'benchmark', 'benchmarking', 'benchmarks', 'beneficial', 'benefit', 'benefits', 'berkley', 'berlin', 'berman', 'besides', 'best', 'bet', 'bethlehem', 'bets', 'better', 'between', 'beverage', 'beyond', 'bf1', 'bi', 'bias', 'biases', 'bicycles', 'bidding', 'bids', 'big', 'bigdata', 'biggest', 'bigquery', 'bike', 'bill', 'billing', 'billion', 'billions', 'bing', 'bioequivalence', 'bioinformatic', 'bioinformaticians', 'bioinformatics', 'biological', 'biologists', 'biology', 'biomedical', 'biophysical', 'biorxiv', 'bios', 'bioscience', 'biostatistical', 'biostatisticians', 'biostatistics', 'birthday', 'bis', 'bisexual', 'bit', 'bits', 'bitter', 'biz', 'biztalk', 'black', 'blacklists', 'blacksky', 'blast', 'bleeding', 'blend', 'blended', 'blending', 'blends', 'blistering', 'block', 'blockchain', 'blockchains', 'blockers', 'blog', 'blogs', 'bloomington', 'bloomnet', 'blow', 'blowouts', 'blue', 'bluekai', 'bluemix', 'blues', 'blueshift', 'bluevine', 'bluntly', 'blurt', 'bmw', 'board', 'boarding', 'boca', 'body', 'bold', 'boldly', 'bolster', 'bonding', 'bonus', 'bonuses', 'book', 'booking', 'bookings', 'books', 'booming', 'boost', 'boosted', 'boosting', 'boot', 'bootcamps', 'bootstrapping', 'booz', 'borders', 'boston', 'bot', 'both', 'botnets', 'bottle', 'bottom', 'bottomline', 'bound', 'boundaries', 'bounded', 'bounds', 'bowery', 'bowl', 'bowling', 'box', 'boxes', 'bpo', 'bq', 'brains', 'brainstorm', 'brainstorming', 'branch', 'branches', 'branching', 'brand', 'branded', 'brands', 'brass', 'breadth', 'break', 'breakdown', 'breakfast', 'breaking', 'breakroom', 'breakthrough', 'breakthroughs', 'breastfeeding', 'breath', 'breeze', 'brentwood', 'brick', 'bridge', 'bridges', 'bridging', 'briefings', 'brigham', 'bright', 'brighter', 'brightest', 'brilliant', 'bring', 'bringing', 'brings', 'broad', 'broadband', 'broader', 'broadly', 'broadway', 'broken', 'brokerage', 'brokers', 'broomfield', 'brothers', 'brought', 'browse', 'browser', 'browses', 'bruno', 'bs', 'bu', 'buck', 'budd', 'buddy', 'budget', 'budgeting', 'budgets', 'buffalo', 'bug', 'bugs', 'build', 'builder', 'builders', 'building', 'buildings', 'builds', 'built', 'bulgaria', 'bulk', 'bull', 'burden', 'bureau', 'burns', 'burr', 'bus', 'business', 'businesscoordinate', 'businesses', 'businessexperience', 'businesswe', 'bustling', 'but', 'butterflies', 'button', 'buy', 'buyers', 'buying', 'buys', 'buzzwords', 'bwh', 'by', 'byers', 'c3', 'ca', 'caas', 'cable', 'cac', 'caci', 'cadence', 'cafe', 'cafeteria', 'cafeterias', 'caffe', 'caffe2', 'caffeine', 'caj', 'calabasas', 'calculated', 'calculates', 'calculations', 'calculus', 'calendar', 'calendars', 'caliber', 'calibrating', 'calibration', 'california', 'californian', 'call', 'called', 'calls', 'calmhsa', 'caltech', 'caltrain', 'cambia', 'cambridge', 'came', 'camp', 'campaign', 'campaigns', 'camps', 'campus', 'campuses', 'can', 'canada', 'canal', 'cancelling', 'cancer', 'candidacy', 'candidate', 'candidates', 'candy', 'cannot', 'canon', 'canonusa', 'canopy', 'capabilities', 'capability', 'capable', 'capacity', 'capgemini', 'capital', 'capitalist', 'capitalizing', 'capture', 'captured', 'captures', 'car', 'carbon', 'card', 'care', 'career', 'careers', 'careful', 'carefully', 'caregiver', 'caregivers', 'cares', 'caribbean', 'caring', 'carlo', 'carolina', 'carolinas', 'carpool', 'carpooling', 'carrentals', 'carried', 'carrier', 'carries', 'carry', 'carrying', 'cars', 'cart', 'carve', 'casandra', 'case', 'cases', 'casesexperience', 'cash', 'casino', 'cassandra', 'cassandraknowledge', 'castillo', 'casual', 'casualty', 'catalog', 'catalyst', 'catalyze', 'catastrophe', 'catastrophic', 'catch', 'categories', 'categorize', 'category', 'catered', 'caufield', 'causal', 'causality', 'cause', 'causeclass', 'caused', 'causes', 'caveats', 'cbs', 'cco', 'ccoteam', 'ccs', 'cd', 'cdas', 'cdc', 'cdisc', 'cdl', 'cela', 'celebrate', 'celebrated', 'celebrates', 'celebrating', 'celebrations', 'celebratory', 'cell', 'cellphone', 'censored', 'census', 'center', 'centered', 'centering', 'centerpiece', 'centers', 'central', 'centralized', 'centrally', 'centric', 'centuries', 'century', 'ceo', 'cerner', 'certain', 'certainly', 'certainty', 'certificates', 'certification', 'certifications', 'certified', 'cfa', 'cfds', 'cfdss', 'cfo', 'cfos', 'cgi', 'chaid', 'chain', 'chains', 'chairman', 'challenge', 'challenged', 'challenger', 'challenges', 'challenging', 'chalupa', 'champion', 'championing', 'champions', 'chan', 'chance', 'change', 'changed', 'changes', 'changing', 'channel', 'channels', 'chantilly', 'chapel', 'character', 'characteristic', 'characteristics', 'characterization', 'characterize', 'charge', 'chargeback', 'charity', 'charles', 'charleston', 'charlotte', 'chart', 'charter', 'chartered', 'charts', 'chase', 'chat', 'chatbot', 'chatbots', 'chatting', 'cheap', 'cheapflights', 'cheaptickets', 'check', 'checkfelix', 'checking', 'checklist', 'checks', 'chemical', 'chemicals', 'chemistry', 'chemometric', 'chen', 'cheryl', 'chesapeake', 'chewse', 'chicago', 'chief', 'chiefs', 'child', 'childbirth', 'children', 'china', 'chinese', 'chip', 'chipotle', 'chipp', 'chocolatesm', 'choice', 'choices', 'choose', 'choosing', 'chops', 'chosen', 'christofaris', 'chrome', 'chronic', 'chrysler', 'chs', 'chuck', 'churn', 'ci', 'cia', 'cic', 'cino', 'cio', 'circa', 'circadian', 'circle', 'circleci', 'circleup', 'circumstances', 'cisco', 'citi', 'cities', 'citizen', 'citizens', 'citizenship', 'city', 'civil', 'civilian', 'civis', 'civisanalytics', 'cjpost', 'claims', 'clara', 'clarification', 'clarify', 'clarity', 'clarivate', 'clarkston', 'class', 'classdojo', 'classes', 'classic', 'classical', 'classically', 'classics', 'classification', 'classifications', 'classified', 'classifier', 'classifiers', 'clayton', 'clean', 'cleanchoice', 'cleanchoiceenergy', 'cleaner', 'cleaning', 'cleanse', 'cleansing', 'clear', 'clearance', 'clearances', 'cleared', 'clearer', 'clearly', 'clearnlp', 'cleartk', 'clearwater', 'click', 'clicking', 'clickstream', 'client', 'clients', 'clientsshare', 'climate', 'climb', 'clinic', 'clinical', 'clinically', 'clinicaltrials', 'clinicians', 'clinton', 'close', 'closed', 'closely', 'closer', 'closing', 'closure', 'cloth', 'cloud', 'cloudera', 'club', 'cluster', 'clustering', 'clusteroptimizing', 'clusters', 'cmg', 'cnn', 'cnns', 'cntk', 'co', 'coach', 'coaching', 'code', 'codebase', 'coder', 'coders0057', 'codes', 'coding', 'coe', 'coffee', 'cognitive', 'cognos', 'coherent', 'cohesive', 'cohort', 'cohorts', 'cold', 'collaborate', 'collaborates', 'collaborating', 'collaboration', 'collaborations', 'collaborative', 'collaboratively', 'collaborator', 'collaborators', 'colleague', 'colleagues', 'collect', 'collected', 'collecting', 'collection', 'collections', 'collective', 'collectively', 'collects', 'college', 'collegial', 'collisions', 'color', 'colorado', 'colors', 'colour', 'columbia', 'columns', 'com', 'combating', 'combination', 'combinations', 'combinator', 'combinatorics', 'combine', 'combined', 'combines', 'combining', 'come', 'comedy', 'comes', 'comet', 'comfort', 'comfortable', 'comfortably', 'comfy', 'coming', 'comma', 'command', 'commander', 'commands', 'commence', 'commensurate', 'comments', 'commerce', 'commercial', 'commercializable', 'commercialization', 'commercially', 'commissions', 'commit', 'commitment', 'commitments', 'commits', 'committed', 'committee', 'committing', 'commodities', 'commodity', 'common', 'commonly', 'commonplace', 'communal', 'communicate', 'communicated', 'communicates', 'communicating', 'communication', 'communications', 'communicative', 'communicator', 'communities', 'communitiesdeploy', 'communitiesdevelop', 'community', 'communitybe', 'commute', 'commuter', 'commuters', 'commvault', 'comp', 'compact', 'companies', 'company', 'companywide', 'comparable', 'compare', 'comparison', 'compassion', 'compelling', 'compensation', 'compete', 'competence', 'competences', 'competencies', 'competency', 'competent', 'competing', 'competition', 'competitions', 'competitive', 'competitiveness', 'competitor', 'compilation', 'compile', 'compiled', 'compiling', 'complaint', 'complete', 'completed', 'completely', 'completeness', 'completes', 'completing', 'completion', 'complex', 'complexities', 'complexity', 'compliance', 'complicated', 'complied', 'complies', 'complimentary', 'complimented', 'comply', 'complying', 'component', 'components', 'composed', 'composite', 'comprehensive', 'comprise', 'comprised', 'comprises', 'comprising', 'compromise', 'compromises', 'computation', 'computational', 'compute', 'computer', 'computers', 'computing', 'conceive', 'conceiving', 'concentration', 'concept', 'conception', 'concepts', 'conceptshave', 'conceptualization', 'conceptualize', 'conceptualizing', 'conceptually', 'concern', 'concerned', 'concerning', 'concerns', 'concerts', 'concierge', 'concise', 'concisely', 'conclusions', 'concrete', 'concurrent', 'concurrently', 'condition', 'conditions', 'condo', 'conduct', 'conducted', 'conducting', 'conducts', 'conference', 'conferences', 'confidence', 'confident', 'confidential', 'confidentiality', 'confidentially', 'confidently', 'configuration', 'configure', 'configuring', 'confirm', 'conflict', 'conflicting', 'conflicts', 'confluence', 'conform', 'confront', 'conjunction', 'connect', 'connected', 'connecting', 'connection', 'connections', 'connectivity', 'connects', 'conscientious', 'consensus', 'consent', 'consequence', 'consequences', 'consequently', 'conservancy', 'conservation', 'conserve', 'conshohocken', 'consider', 'considerable', 'consideration', 'considerations', 'considered', 'considering', 'considers', 'consist', 'consistency', 'consistent', 'consistently', 'consisting', 'consists', 'consolidate', 'constant', 'constantly', 'constituents', 'constrained', 'constraint', 'constraints', 'construct', 'construction', 'constructive', 'constructs', 'construed', 'consult', 'consultancy', 'consultant', 'consultants', 'consultation', 'consultations', 'consultative', 'consulting', 'consumable', 'consumed', 'consumer', 'consumers', 'consuming', 'consumption', 'contact', 'contacted', 'contacting', 'contacts', 'contain', 'contained', 'container', 'containerization', 'containers', 'contains', 'contamination', 'content', 'contents', 'context', 'contexts', 'contextual', 'contextualize', 'contingencies', 'contingent', 'continual', 'continually', 'continue', 'continued', 'continues', 'continuing', 'continuous', 'continuously', 'contract', 'contractor', 'contracts', 'contribute', 'contributed', 'contributes', 'contributing', 'contribution', 'contributions', 'contributor', 'contributors', 'control', 'controlled', 'controls', 'convenience', 'conveniences', 'convenient', 'convention', 'conventional', 'conventions', 'conversant', 'conversation', 'conversational', 'conversations', 'converse', 'conversely', 'conversion', 'conversions', 'convert', 'converting', 'convex', 'convey', 'convicted', 'conviction', 'convince', 'convnet', 'convolutional', 'coo', 'cooked', 'cookies', 'cool', 'cooperation', 'cooperatively', 'coordinate', 'coordinating', 'coordination', 'coordinators', 'copiers', 'copious', 'copy', 'cor', 'coral', 'cordell', 'core', 'coreference', 'coremetrics', 'corenlp', 'corner', 'corners', 'corp', 'corpclass', 'corporate', 'corporation', 'corporations', 'corpus', 'correct', 'correction', 'corrective', 'correctly', 'correlate', 'correlation', 'correlations', 'corresponding', 'cosine', 'cosmos', 'cost', 'costa', 'costing', 'costs', 'couch', 'couchbase', 'could', 'couldn', 'council', 'counselors', 'count', 'counterintelligence', 'counterpart', 'counterparts', 'counting', 'countries', 'country', 'counts', 'courage', 'course', 'coursera', 'courses', 'coursework', 'court', 'courteous', 'cover', 'coverage', 'covered', 'covering', 'covers', 'coworkers', 'cpa', 'cpg', 'cplex', 'cr', 'crack', 'craft', 'crafted', 'crafting', 'craftsmanship', 'cranford', 'craves', 'crazy', 'cre', 'create', 'created', 'creates', 'creating', 'creation', 'creative', 'creatively', 'creativity', 'creators', 'credential', 'credentials', 'credibility', 'credible', 'credibly', 'credit', 'credits', 'creed', 'crf', 'crime', 'crimes', 'criminal', 'crimson', 'crisp', 'crisply', 'criteo', 'criteos', 'criteria', 'critical', 'critically', 'criticism', 'critics', 'crm', 'cro', 'cross', 'crosscut', 'crosshairs', 'crosswise', 'crouch', 'crucial', 'cruise', 'cruiseshipcenters', 'cruite', 'crunch', 'crunching', 'crux', 'crypto', 'cryptoanalysis', 'cryptoasset', 'cryptoassets', 'cryptocurrency', 'crystallizing', 'cs', 'csc', 'cseo', 'csim', 'css', 'cst', 'csv', 'ct', 'ctakes', 'cto', 'ctr', 'cubes', 'cuda', 'culling', 'cultivate', 'cultivating', 'cultivation', 'cultural', 'culturally', 'culture', 'cultures', 'cumbersome', 'cumulative', 'curate', 'curated', 'curation', 'curators', 'cure', 'cures', 'curiosity', 'curious', 'currencies', 'current', 'currently', 'curriculum', 'curve', 'cusa', 'cushman', 'custodian', 'custom', 'customary', 'customer', 'customers', 'customersdesign', 'customize', 'customized', 'cut', 'cuts', 'cutting', 'cv', 'cvs', 'cyber', 'cyberattacks', 'cybersecurity', 'cyberthreat', 'cyberthreats', 'cycle', 'cycles', 'cyclical', 'czi', 'd3', 'daf', 'daily', 'dallas', 'dan', 'dana', 'dare', 'daring', 'dash', 'dashboard', 'dashboarding', 'dashboards', 'data', 'dataa', 'dataassemble', 'dataat', 'database', 'databases', 'databasesability', 'databricks', 'datacenter', 'datacollaborate', 'datadesigning', 'datadevelop', 'dataframes', 'dataiku', 'datalab', 'datalogix', 'datameer', 'dataminer', 'dataops', 'dataoutstanding', 'datapossessing', 'dataproc', 'datarobot', 'dataset', 'datasets', 'datastrong', 'dataviz', 'dataxpander', 'date', 'dates', 'david', 'davis', 'day', 'daycare', 'days', 'db', 'db2', 'dba', 'dbscan', 'dc', 'ddi', 'de', 'deadline', 'deadlines', 'deal', 'dealer', 'dealing', 'deals', 'dearborn', 'death', 'debate', 'debug', 'debugging', 'dec', 'decade', 'decades', 'december', 'decentralized', 'decide', 'decided', 'deciding', 'decision', 'decisioning', 'decisions', 'decisive', 'decks', 'decompose', 'decomposition', 'decreasing', 'dedicated', 'dedication', 'deductive', 'deemed', 'deep', 'deepen', 'deepening', 'deeper', 'deeply', 'default', 'defaulted', 'defaults', 'defender', 'defending', 'defense', 'defensible', 'defensive', 'defensiveness', 'deferred', 'deficiencies', 'define', 'defined', 'defines', 'defining', 'definition', 'definitions', 'definitive', 'degree', 'degreeability', 'degreedemonstrated', 'degrees', 'delegating', 'delight', 'delightful', 'delimited', 'deliver', 'deliverable', 'deliverables', 'delivered', 'delivering', 'delivers', 'delivery', 'deliveryability', 'dell', 'deloitte', 'delve', 'demand', 'demanding', 'demands', 'demeanor', 'democratize', 'democratizing', 'demographic', 'demonstrable', 'demonstrate', 'demonstrated', 'demonstrates', 'demonstrating', 'demonstrations', 'demos', 'demystify', 'dental', 'dental401', 'denver', 'department', 'departmental', 'departments', 'depend', 'dependable', 'dependencies', 'dependenciesbuilding', 'dependency', 'dependent', 'dependents', 'depending', 'depends', 'deploy', 'deployable', 'deployed', 'deploying', 'deployment', 'deployments', 'deploys', 'deposit', 'depression', 'depth', 'derivation', 'derive', 'derived', 'deriving', 'descent', 'describe', 'described', 'describes', 'describing', 'description', 'descriptions', 'descriptive', 'deserve', 'design', 'designated', 'designed', 'designer', 'designers', 'designing', 'designpac', 'designs', 'desirable', 'desire', 'desired', 'desk', 'desktop', 'desktops', 'destination', 'destinations', 'destiny', 'detail', 'detaila', 'detailed', 'detailing', 'detailpassionate', 'details', 'detect', 'detecting', 'detection', 'detectionexperience', 'detector', 'determination', 'determine', 'determines', 'determining', 'deterministic', 'detroit', 'develop', 'developed', 'developer', 'developers', 'developing', 'development', 'developmentexperience', 'developments', 'develops', 'device', 'devices', 'devise', 'devises', 'devolve', 'devops', 'devoted', 'dexcom', 'dexterity', 'dhs', 'diabetes', 'diagnose', 'diagnosis', 'diagnostic', 'diagnostics', 'diagnosticsperforming', 'diagrams', 'dialog', 'dialogue', 'dictate', 'didn', 'die', 'diego', 'dies', 'diesel', 'diets', 'difference', 'differences', 'different', 'differentiate', 'differentiated', 'differentiation', 'differentiators', 'differently', 'differing', 'difficult', 'difficulties', 'dig', 'digest', 'digestible', 'digital', 'digitalization', 'digitalocean', 'digitizing', 'dignity', 'dimension', 'dimensional', 'dimensionality', 'dimensions', 'dimly', 'diner', 'diners', 'dining', 'dinners', 'direct', 'directed', 'direction', 'directions', 'directly', 'director', 'directorate', 'directors', 'dirichlet', 'dirt', 'dirty', 'disabilities', 'disability', 'disability_accommodation', 'disabled', 'disadvantages', 'disambiguation', 'discharge', 'discharging', 'disciplinary', 'discipline', 'disciplined', 'disciplines', 'disciplining', 'disclose', 'disclosed', 'disclosure', 'disclosures', 'disco', 'disconnected', 'discount', 'discounting', 'discounts', 'discover', 'discovered', 'discoveries', 'discovering', 'discovery', 'discrete', 'discretion', 'discretionary', 'discriminant', 'discriminate', 'discriminated', 'discriminating', 'discrimination', 'discriminative', 'discriminatory', 'discuss', 'discussed', 'discussing', 'discussion', 'discussions', 'disease', 'diseases', 'dislike', 'disney', 'disorders', 'disparate', 'dispatch', 'dispatches', 'dispatching', 'display', 'displaying', 'displays', 'disposal', 'disposition', 'disprove', 'disqualified', 'disqualifying', 'disrupt', 'disrupted', 'disrupting', 'disruption', 'disruptive', 'dissemination', 'distance', 'distances', 'distill', 'distilled', 'distilling', 'distinction', 'distracted', 'distractions', 'distributed', 'distributes', 'distribution', 'distributional', 'distributions', 'distributor', 'dive', 'diverse', 'diversified', 'diversifying', 'diversity', 'dives', 'diving', 'division', 'divisions', 'django', 'dl', 'dli', 'dm', 'dmp', 'dms', 'do', 'doc2vec', 'docker', 'docomo', 'docs', 'doctoral', 'document', 'documentation', 'documented', 'documenting', 'documents', 'dod', 'dodd', 'doers', 'does', 'doesn', 'doing', 'dol', 'dollar', 'dollars', 'domain', 'domains', 'domestic', 'domo', 'don', 'done', 'donewe', 'door', 'doors', 'dose', 'dot', 'dots', 'double', 'doubleclick', 'dow', 'down', 'download', 'downstream', 'downtime', 'downtown', 'dozens', 'dplyr', 'dr', 'draft', 'drafting', 'dramatic', 'dramatically', 'draper', 'draw', 'drawbacks', 'drawing', 'draws', 'dream', 'dreams', 'dress', 'drift', 'drink', 'drinks', 'drive', 'driven', 'driver', 'drivers', 'drives', 'drivetime', 'driving', 'drop', 'dropbox', 'dropoff', 'dropped', 'drug', 'drugs', 'dry', 'drybar', 'ds', 'dsa', 'dscout', 'dsit', 'dsr', 'dss', 'dtabase', 'dual', 'dubai', 'dublin', 'due', 'duplication', 'durham', 'during', 'duties', 'duty', 'dw', 'dwi', 'dyadic', 'dylan', 'dynamic', 'dynamically', 'dynamics', 'dynamo', 'dynet', 'dyplr', 'e2e', 'each', 'eager', 'ear', 'earliest', 'early', 'earmarked', 'earn', 'earned', 'earners', 'earning', 'earnings', 'ears', 'earth', 'ease', 'easier', 'easily', 'easy', 'eat', 'eat24', 'eaters', 'eating', 'ebookers', 'ec', 'ec2', 'ecd', 'ecdi', 'echo', 'ecl', 'ecolab', 'ecological', 'ecommerce', 'econometric', 'econometrics', 'economic', 'economically', 'economics', 'economics5', 'economies', 'economists', 'economy', 'ecosystem', 'ecosystems', 'ecs', 'ect', 'ed1', 'eda', 'edge', 'edit', 'editions', 'editor', 'editorial', 'eds', 'edu', 'educated', 'educating', 'education', 'educational', 'educators', 'edw', 'edward', 'ee', 'eeg', 'eeo', 'eeopost', 'ef', 'ef1', 'effect', 'effective', 'effectively', 'effectivelyexploring', 'effectiveness', 'effects', 'efficacy', 'efficiencies', 'efficiency', 'efficient', 'efficiently', 'effort', 'efforts', 'eg', 'egencia', 'ego', 'egos', 'ehr', 'eight', 'eighteen', 'either', 'el', 'elastic', 'elasticities', 'elasticity', 'elasticsearch', 'elbow', 'elected', 'election', 'electric', 'electrical', 'electricity', 'electronic', 'elegant', 'elegantly', 'element', 'elemental', 'elements', 'elevate', 'elevating', 'eligibility', 'eligible', 'elite', 'elixir', 'elk', 'elliott', 'elliottdavis', 'else', 'em', 'email', 'emails', 'embed', 'embedded', 'embedding', 'embeddings', 'embeds', 'ember', 'embodied', 'embody', 'embrace', 'embraces', 'embracing', 'emea', 'emergencies', 'emergent', 'emerging', 'emnlp', 'emotion', 'emotional', 'empathetic', 'empathizing', 'empathy', 'emphasis', 'emphasizes', 'emphasizing', 'empire', 'empirical', 'employ', 'employed', 'employee', 'employees', 'employer', 'employers', 'employing', 'employment', 'employs', 'empower', 'empowered', 'empowering', 'empowerment', 'empowers', 'emr', 'en', 'enable', 'enabled', 'enablers', 'enables', 'enabling', 'encode', 'encoded', 'encoders', 'encoding', 'encompass', 'encompasses', 'encounter', 'encountered', 'encourage', 'encouraged', 'encourages', 'encouraging', 'end', 'ended', 'ending', 'endless', 'endogeneity', 'endomondo', 'endpoints', 'ends', 'enduring', 'energetic', 'energized', 'energy', 'enforce', 'eng', 'engage', 'engaged', 'engagement', 'engagements', 'engages', 'engaging', 'engine', 'engineer', 'engineered', 'engineering', 'engineers', 'engines', 'englewood', 'english', 'enhance', 'enhanced', 'enhancement', 'enhancements', 'enhances', 'enhancing', 'enjoy', 'enjoyable', 'enjoyed', 'enjoying', 'enjoyment', 'enjoys', 'enormous', 'enough', 'enquiry', 'enrolled', 'enrollment', 'ensemble', 'ensembling', 'enskill', 'ensure', 'ensures', 'ensuring', 'entails', 'enter', 'enterprise', 'enterprises', 'entertaining', 'entertainment', 'enthusiasm', 'enthusiast', 'enthusiastic', 'entire', 'entirely', 'entities', 'entity', 'entomology', 'entrepreneur', 'entrepreneurial', 'entrepreneurs', 'entries', 'entrust', 'entry', 'envelope', 'environment', 'environmentadvanced', 'environmental', 'environmentproficiency', 'environments', 'environmentsexperience', 'envision', 'envisioned', 'envisioning', 'envisions', 'eo', 'eoe', 'epic', 'epidemiological', 'epidemiologists', 'epidemiology', 'eppac', 'eq', 'equal', 'equally', 'equate', 'equation', 'equations', 'equip', 'equipment', 'equipped', 'equips', 'equitable', 'equities', 'equity', 'equivalent', 'equivalents', 'er', 'era', 'eradicating', 'ericsson', 'erp', 'errant', 'erroneous', 'error', 'errors', 'escalations', 'especially', 'esports', 'espresso', 'esri', 'essbase', 'essential', 'essentials', 'establish', 'established', 'establishes', 'establishing', 'establishment', 'estate', 'estimates', 'estimation', 'estimations', 'et', 'etc', 'etfs', 'ethic', 'ethical', 'ethicon', 'ethics', 'ethnic', 'ethnicity', 'etl', 'eur', 'euronext', 'europaea', 'europe', 'european', 'evaluate', 'evaluated', 'evaluates', 'evaluating', 'evaluation', 'evaluations', 'evangelist', 'evangelists', 'evangelize', 'evangelizing', 'even', 'evening', 'event', 'eventbrite', 'events', 'eventual', 'ever', 'everett', 'every', 'everybody', 'everyday', 'everyone', 'everything', 'everytown', 'everywhere', 'evidence', 'evidenced', 'evms', 'evolution', 'evolve', 'evolving', 'evp', 'ex', 'exact', 'exactly', 'exactness', 'exam', 'examine', 'examining', 'example', 'examples', 'examplessharing', 'exams', 'exceed', 'exceeds', 'excel', 'excellence', 'excellent', 'excels', 'except', 'exceptional', 'exceptions', 'excess', 'exchange', 'exchanges', 'excite', 'excited', 'excitement', 'excites', 'exciting', 'exclusive', 'excursions', 'execute', 'executecrecruiters', 'executed', 'executes', 'executing', 'execution', 'executive', 'executives', 'executors', 'exemplary', 'exemplify', 'exemplifying', 'exempt', 'exercise', 'exercises', 'exercising', 'exert', 'exhaustive', 'exhibit', 'exist', 'existing', 'exits', 'exogenous', 'expand', 'expanded', 'expanding', 'expansion', 'expect', 'expectations', 'expected', 'expecting', 'expedia', 'expedite', 'expense', 'expenses', 'expensive', 'experience', 'experiencea', 'experienced', 'experienceexperience', 'experiencehighly', 'experienceproficiency', 'experiences', 'experiencesbuilding', 'experiencetypically', 'experiment', 'experimental', 'experimentally', 'experimentation', 'experimentations', 'experimenter', 'experimenting', 'experiments', 'expert', 'expertise', 'expertize', 'expertly', 'experts', 'expires', 'explain', 'explainability', 'explained', 'explaining', 'explains', 'explanations', 'explanatory', 'explicit', 'explicitly', 'exploit', 'exploiting', 'exploits', 'exploration', 'explorations', 'exploratory', 'explore', 'explorers', 'explores', 'explorewrangler', 'exploring', 'exponential', 'export', 'expose', 'exposed', 'exposure', 'exposures', 'express', 'expression', 'expressions', 'expressly', 'extant', 'extend', 'extended', 'extending', 'extends', 'extensible', 'extension', 'extensive', 'external', 'externally', 'extra', 'extract', 'extracting', 'extraction', 'extracts', 'extraordinarily', 'extraordinary', 'extreme', 'extremely', 'extremes', 'extrinsic', 'exudes', 'eye', 'eyes', 'eyeview', 'f1', 'fabric', 'face', 'facebook', 'faces', 'faceted', 'facets', 'facilitate', 'facilitation', 'facilities', 'facility', 'facing', 'fact', 'facto', 'factor', 'factorial', 'factoring', 'factorization', 'factors', 'factory', 'facts', 'faculty', 'fail', 'failur', 'failure', 'failures', 'fair', 'fairbank', 'fairness', 'fall', 'falls', 'false', 'familial', 'familiar', 'familiarity', 'families', 'family', 'fanatical', 'fans', 'fantastic', 'fantastically', 'far', 'fares', 'farm', 'farmer', 'farmers', 'farming', 'farmland', 'farms', 'fascinated', 'fascinating', 'fashion', 'fast', 'faster', 'fastest', 'fatal', 'favorite', 'faxes', 'fb', 'fbi', 'fbn', 'fca', 'fearless', 'fearlessly', 'feasibility', 'feasible', 'feature', 'featured', 'features', 'federal', 'federation', 'fedramp', 'fee', 'feed', 'feedback', 'feedbacks', 'feedforward', 'feeding', 'feeds', 'feel', 'feelings', 'feels', 'fees', 'feet', 'fellow', 'felony', 'felt', 'female', 'females', 'ferry', 'fervor', 'festivals', 'few', 'fewer', 'fiat', 'field', 'fieldat', 'fieldexperience', 'fielding', 'fieldprojects', 'fields', 'fifth', 'figaro', 'figure', 'figures', 'file', 'files', 'fill', 'filled', 'filter', 'filtering', 'final', 'finalize', 'finally', 'finance', 'financial', 'financially', 'financials', 'financing', 'find', 'finder', 'finding', 'findings', 'finds', 'fine', 'finely', 'finger', 'fingerprinting', 'fingerprints', 'fingers', 'fingertips', 'finish', 'finisher', 'finishline', 'finite', 'finlocker', 'fintech', 'fips', 'fire', 'firewall', 'firm', 'firmhave', 'firms', 'first', 'fiscal', 'fischbach', 'fish', 'fisma', 'fit', 'fitness', 'fitting', 'five', 'fix', 'fixed', 'fixer', 'fixes', 'fixing', 'flagship', 'flask', 'flat', 'flavor', 'flavors', 'flawless', 'flawlessly', 'flaws', 'fleet', 'fleets', 'flex', 'flexibility', 'flexible', 'flight', 'flights', 'flip', 'floodgate', 'floor', 'flopped', 'flops', 'floral', 'florida', 'florists', 'flourishes', 'flow', 'flowers', 'flows', 'flu', 'fluency', 'fluent', 'fluently', 'fluffy', 'fluid', 'fluidity', 'flume', 'flws', 'fly', 'fmri', 'focus', 'focused', 'focusedstrong', 'focuses', 'focusing', 'focussed', 'focusses', 'fold', 'folder', 'follow', 'following', 'follows', 'food', 'football', 'footprint', 'footwear', 'for', 'forbearance', 'forbes', 'forbidden', 'force', 'forced', 'forces', 'ford', 'forecast', 'forecasting', 'forecasts', 'forefront', 'foreign', 'foremost', 'forescout', 'forest', 'foresting', 'forests', 'forge', 'forget', 'form', 'forma', 'formal', 'formalize', 'formally', 'format', 'formatexperience', 'formation', 'formats', 'formatting', 'formed', 'former', 'formerly', 'forms', 'formsbuilding', 'formulas', 'formulate', 'formulation', 'fortune', 'forums', 'forward', 'forwarded', 'forwarders', 'foster', 'fostering', 'fosters', 'found', 'foundation', 'foundational', 'foundationproven', 'foundations', 'founded', 'founder', 'founders', 'founding', 'foundry', 'four', 'fourier', 'fourth', 'fraank', 'fraction', 'fractional', 'fragmented', 'frame', 'frames', 'framework', 'frameworks', 'frameworksability', 'framing', 'franca', 'france', 'francis', 'francisco', 'frank', 'fraud', 'freakishly', 'free', 'freedom', 'freely', 'freesurfer', 'freight', 'french', 'frequent', 'frequentist', 'frequently', 'fresh', 'freshness', 'friction', 'frictionless', 'friday', 'friendly', 'friends', 'friendships', 'frighten', 'from', 'front', 'frontend', 'frontier', 'frontiers', 'fruitbouquets', 'fsa', 'fsl', 'ftp', 'fuel', 'fueled', 'fuels', 'fulfill', 'fulfilling', 'fulfillment', 'full', 'fullest', 'fullpower', 'fulltime', 'fully', 'fun', 'function', 'functional', 'functionalities', 'functionality', 'functionally', 'functioninformation', 'functions', 'functionsexperience', 'fund', 'fundamental', 'fundamentally', 'fundamentals', 'funded', 'funders', 'funding', 'fundraisers', 'funds', 'funnel', 'funnels', 'furnish', 'furniture', 'furry', 'further', 'furtherance', 'furthermore', 'furthest', 'fused', 'fusion', 'future', 'futures', 'futuristic', 'fuzzy', 'ga', 'gaap', 'gables', 'gadget', 'gain', 'gained', 'gaining', 'gains', 'galvanize', 'galvanizing', 'gambling', 'game', 'gamers', 'games', 'gaming', 'gans', 'gap', 'gaps', 'garage', 'garden', 'garner', 'gartner', 'gas', 'gases', 'gates', 'gather', 'gathered', 'gathering', 'gatherings', 'gatos', 'gauge', 'gaussian', 'gay', 'gbas', 'gbm', 'gcdo', 'gcp', 'gdit', 'ge', 'gear', 'geared', 'geek', 'gelman', 'gen', 'gender', 'general', 'generalist', 'generality', 'generalizable', 'generalize', 'generalized', 'generally', 'generate', 'generated', 'generates', 'generating', 'generation', 'generations', 'generative', 'generosity', 'generous', 'genes', 'genetic', 'geneticists', 'genetics', 'genism', 'genome', 'genomes', 'genomic', 'genomics', 'genre', 'gensim', 'genuine', 'genuinely', 'geo', 'geographic', 'geographical', 'geographically', 'geographies', 'geography', 'geoint', 'georgetown', 'georgia', 'georgian', 'geospatial', 'german', 'germany', 'get', 'gets', 'getting', 'ggplot', 'ggplot2', 'giants', 'gift', 'gifting', 'gifts', 'gillette', 'gis', 'git', 'gitflow', 'github', 'give', 'given', 'givers', 'gives', 'giving', 'glad', 'glance', 'glidepath', 'glm', 'glms', 'global', 'globalization', 'globally', 'globclass', 'globe', 'glove', 'gloves', 'glucose', 'gm', 'gmmcb', 'gny', 'go', 'goal', 'goals', 'goes', 'going', 'gold', 'golden', 'good', 'gooders', 'goods', 'google', 'goose', 'gov', 'govern', 'governance', 'governanceclass', 'governing', 'government', 'governmental', 'governments', 'governors', 'gpa', 'gpl', 'gpu', 'grad', 'grade', 'grade057', 'gradient', 'grading', 'gradinternships', 'graduate', 'graduated', 'graduates', 'graduating', 'graduation', 'grainger', 'grandkids', 'grant', 'granted', 'grantmaking', 'grants', 'granular', 'granularity', 'grapeshot', 'graph', 'graphical', 'graphics', 'graphlab', 'graphql', 'graphs', 'grasp', 'grasps', 'grasshopper', 'gratitude', 'grease', 'great', 'greater', 'greatest', 'greatness', 'green', 'greenplum', 'greenville', 'grep', 'greylock', 'grid', 'grill', 'gritty', 'groceries', 'grocers', 'grocery', 'ground', 'groundbreaking', 'grounding', 'group', 'groupon', 'groups', 'grow', 'growing', 'grown', 'grows', 'growth', 'grubhub', 'gsd', 'gsv', 'gt', 'guarantee', 'guaranteed', 'guessing', 'guest', 'guests', 'gui', 'guidance', 'guide', 'guided', 'guidelines', 'guides', 'guiding', 'gun', 'gurobi', 'guru', 'gut', 'gym', 'h1', 'h1b', 'h2o', 'habitat', 'hack', 'hackathons', 'hackday', 'hackers', 'had', 'hadoop', 'hairy', 'half', 'hall', 'hampshire', 'hana', 'hand', 'handicap', 'handle', 'handles', 'handling', 'hands', 'hanover', 'happen', 'happening', 'happens', 'happiness', 'happy', 'haptics', 'harassment', 'harbor', 'hard', 'harder', 'hardest', 'hardship', 'hardware', 'hardworking', 'harm', 'harmonization', 'harmonize', 'harmonizing', 'harness', 'harnessed', 'harnesses', 'harnessing', 'harry', 'harvard', 'harvest', 'has', 'hasn', 'hat', 'hats', 'haul', 'have', 'haven', 'haves', 'having', 'haystack', 'hbase', 'hcdagile', 'hcsc', 'hcss', 'hcv', 'hd', 'hdfs', 'he', 'head', 'header', 'headhunter', 'headphone', 'headquartered', 'headquarters', 'health', 'healthcare', 'healthier', 'healthtech', 'healthy', 'hear', 'heard', 'hearing', 'heart', 'heartfelt', 'heat', 'heavily', 'heavy', 'hedge', 'hedging', 'heights', 'held', 'helio', 'hello', 'help', 'helped', 'helpful', 'helping', 'helps', 'her', 'here', 'heritage', 'herndon', 'heroku', 'hesitate', 'heterogeneous', 'heuristic', 'heuristics', 'hewlett', 'hexagon', 'hidden', 'hierarchical', 'high', 'higher', 'highest', 'highlight', 'highlighting', 'highlights', 'highly', 'hilarious', 'hill', 'hills', 'hindering', 'hinge', 'hire', 'hired', 'hires', 'hiring', 'hiroad', 'his', 'histograms', 'historians', 'historical', 'historically', 'histories', 'history', 'hit', 'hitachi', 'hiv', 'hive', 'hm', 'hmh', 'hmm', 'hobbies', 'hobbyists', 'hoc', 'hold', 'holder', 'holders', 'holding', 'holdings', 'holiday', 'holidays', 'holistic', 'hollywood', 'home', 'homeaway', 'homeland', 'homeowners', 'homes', 'homicide', 'honed', 'honest', 'honesty', 'honeywell', 'hong', 'honor', 'hood', 'hope', 'hopefully', 'horizons', 'horizontal', 'horizontally', 'horn', 'horsepower', 'hortonworks', 'hospital', 'hospitality', 'hospitals', 'host', 'hosted', 'hot', 'hotel', 'hotels', 'hotelscombined', 'hottest', 'hotwire', 'hour', 'houra', 'houraas', 'hourly', 'hours', 'house', 'housed', 'household', 'housing', 'houston', 'how', 'however', 'hp', 'hpe', 'hq', 'hql', 'hr', 'hra', 'hrd53130', 'hris', 'hrs', 'hsa', 'html', 'http', 'https', 'hubs', 'huge', 'hugoton', 'human', 'humanities', 'humanity', 'humans', 'humble', 'humility', 'humint', 'humor', 'hundreds', 'hunger', 'hungriest', 'hunters', 'huobigroup', 'hurdles', 'hustle', 'hybrid', 'hygiene', 'hype', 'hyper', 'hyperparameter', 'hypotheses', 'hypothesis', 'i4', 'iac', 'iba', 'ibm', 'ic', 'icare', 'icl', 'icml', 'iconic', 'ict', 'id', 'idea', 'ideal', 'ideally', 'ideals', 'ideas', 'ideate', 'ideating', 'ideation', 'identification', 'identified', 'identifies', 'identify', 'identifying', 'identities', 'identity', 'ideo', 'idf', 'ie', 'if', 'ig', 'ignite', 'ii', 'iii', 'iiot', 'il', 'il150sw', 'illegal', 'illicit', 'illinois', 'illness', 'illustrate', 'illustrated', 'ilog', 'image', 'imageright', 'imagery', 'images', 'imaginable', 'imagine', 'imaging', 'imbedded', 'imit', 'immediate', 'immediately', 'immense', 'immersed', 'immerses', 'immigrants', 'immigration', 'immunization', 'impact', 'impactful', 'impacting', 'impacts', 'impala', 'impeccable', 'imperfect', 'implement', 'implementable', 'implementation', 'implementations', 'implemented', 'implementing', 'implements', 'implications', 'implicitly', 'import', 'importance', 'important', 'importantly', 'imported', 'impossible', 'impressions', 'impressive', 'improper', 'improve', 'improved', 'improvement', 'improvements', 'improves', 'improving', 'imputations', 'in', 'inaccuracies', 'inaccuracy', 'inbox', 'inc', 'inca', 'incarcerated', 'incentive', 'incentives', 'inception', 'incident', 'incidents', 'inclination', 'include', 'included', 'includes', 'including', 'inclusion', 'inclusive', 'income', 'incoming', 'incomplete', 'inconsistencies', 'inconsistent', 'inconsistently', 'incorporate', 'incorporating', 'increase', 'increased', 'increases', 'increasing', 'increasingly', 'incredible', 'incredibly', 'incremental', 'incrementality', 'incrementally', 'incubate', 'incumbent', 'incumbents', 'indemnification', 'independence', 'independent', 'independently', 'index', 'indexed', 'india', 'indicates', 'indications', 'indicators', 'indices', 'indicia', 'individual', 'individuality', 'individualized', 'individually', 'individuals', 'inductive', 'industrial', 'industrialization', 'industrialize', 'industries', 'industry', 'inefficient', 'inextricably', 'infancy', 'infectious', 'infer', 'inference', 'inferences', 'inferential', 'inferred', 'infinitely', 'influence', 'influenced', 'influencer', 'influences', 'influencing', 'influential', 'influx', 'infoemd', 'inform', 'informally', 'informaticians', 'informatics', 'information', 'informative', 'informed', 'informing', 'informs', 'infosys', 'infra', 'infrastructure', 'infrastructures', 'infuse', 'infusing', 'ingenuity', 'ingest', 'ingested', 'ingesting', 'ingestion', 'ingredients', 'inherent', 'inhibit', 'initial', 'initialized', 'initiate', 'initiated', 'initiates', 'initiation', 'initiative', 'initiatives', 'initiativesappropriately', 'initiativesassess', 'initiativesassist', 'initiativesguide', 'initiativewe', 'injury', 'inn', 'innate', 'inner', 'innovate', 'innovating', 'innovation', 'innovations', 'innovative', 'innovatively', 'innovator', 'innovators', 'input', 'inputs', 'inquired', 'inquiries', 'inquiry', 'inquisitive', 'ins', 'insatiable', 'insatiably', 'inscape', 'inside', 'insider', 'insight', 'insightful', 'insights', 'inspect', 'inspection', 'inspiration', 'inspirational', 'inspire', 'inspired', 'inspires', 'inspiring', 'instabilities', 'instagram', 'instance', 'instances', 'instantly', 'instead', 'instinct', 'instincts', 'institute', 'institutes', 'institution', 'institutional', 'institutions', 'instructions', 'instructor', 'instructors', 'instrument', 'instrumental', 'instrumentation', 'insurance', 'insuranceflexible', 'insurer', 'insures', 'insurtech', 'intacct', 'integer', 'integral', 'integrate', 'integrated', 'integrates', 'integrating', 'integration', 'integrations', 'integrator', 'integrators', 'integrity', 'intel', 'intellect', 'intellectual', 'intellectually', 'intelligence', 'intelligent', 'intelligently', 'intelligrated', 'intended', 'intensely', 'intensive', 'intent', 'intention', 'intentionally', 'intentions', 'intently', 'inter', 'interact', 'interacting', 'interaction', 'interactions', 'interactive', 'interacts', 'interdisciplinary', 'interest', 'interested', 'interesting', 'interests', 'interface', 'interfaces', 'interfacing', 'interference', 'interim', 'interleaving', 'interlinked', 'intermedia', 'intermediate', 'intern', 'internal', 'internally', 'international', 'internationally', 'internet', 'interns', 'internship', 'internshipbmw', 'internshipc3', 'internshipclass', 'internshipdescription', 'internshipjob', 'internshipmongodb', 'internshipposition', 'internshipresponsibilities', 'internshiprifiniti', 'internships', 'internshipsummary', 'interoperably', 'interpersonal', 'interpret', 'interpretable', 'interpretation', 'interpreted', 'interpreting', 'interpretive', 'interprets', 'interrogate', 'interruptions', 'intersecting', 'intersection', 'intervals', 'intervention', 'interventions', 'interview', 'interviewing', 'interviews', 'intimate', 'into', 'intramural', 'intricacies', 'intricate', 'intricately', 'intrinsic', 'introduction', 'introductions', 'introspection', 'intuition', 'intuitive', 'intuitively', 'invaluable', 'invent', 'invention', 'inventions', 'inventive', 'inventors', 'inventory', 'invents', 'invest', 'invested', 'investigate', 'investigated', 'investigating', 'investigation', 'investigations', 'investigative', 'investigator', 'investigators', 'investing', 'investment', 'investments', 'investors', 'invests', 'invitae', 'invite', 'invited', 'involve', 'involved', 'involvement', 'involves', 'involving', 'io', 'ios', 'iot', 'iowa', 'ip', 'ipad', 'ipdp', 'ipo', 'ipython', 'ironpython', 'irregular', 'irs', 'irvine', 'is', 'ish', 'isn', 'isolate', 'issue', 'issued', 'issues', 'issuesgather', 'iswc', 'it', 'itd', 'item', 'items', 'iterate', 'iteratenoting', 'iterates', 'iterating', 'iteration', 'iterative', 'iteratively', 'its', 'itself', 'itunes', 'iv', 'j0319', 'janitorial', 'january', 'japan', 'java', 'javaextremely', 'javascript', 'jcp', 'jcpenney', 'jdpac', 'jenkins', 'jersey', 'jessica', 'jet', 'jira', 'jl3', 'jmp', 'job', 'jobs', 'jobsectionheader', 'jobsectionheaderabout', 'jobsectionheaderadditional', 'jobsectionheaderall', 'jobsectionheaderand', 'jobsectionheaderas', 'jobsectionheaderbasic', 'jobsectionheaderbenefits', 'jobsectionheaderbonus', 'jobsectionheadercertificates', 'jobsectionheadercertifications', 'jobsectionheaderclient', 'jobsectionheaderclinical', 'jobsectionheadercome', 'jobsectionheadercompany', 'jobsectionheaderconnect', 'jobsectionheaderdesired', 'jobsectionheaderduties', 'jobsectionheadereducation', 'jobsectionheadereeo', 'jobsectionheadereoe', 'jobsectionheadergeneral', 'jobsectionheaderif', 'jobsectionheaderin', 'jobsectionheaderincludes', 'jobsectionheaderjob', 'jobsectionheaderkey', 'jobsectionheaderlanguages', 'jobsectionheaderminimum', 'jobsectionheadermore', 'jobsectionheadernice', 'jobsectionheaderoffices', 'jobsectionheaderoptions', 'jobsectionheaderother', 'jobsectionheaderour', 'jobsectionheaderoverview', 'jobsectionheaderphysical', 'jobsectionheaderplease', 'jobsectionheaderposition', 'jobsectionheaderprimary', 'jobsectionheaderquaificaition', 'jobsectionheaderqualifications', 'jobsectionheaderrelocation', 'jobsectionheaderrequired', 'jobsectionheaderrequirements', 'jobsectionheaderresponsibilities', 'jobsectionheaderresposibilities', 'jobsectionheadersenior', 'jobsectionheadersierra', 'jobsectionheaderskills', 'jobsectionheadersome', 'jobsectionheadersr', 'jobsectionheadersummary', 'jobsectionheadersupervisory', 'jobsectionheaderthe', 'jobsectionheadertravel', 'jobsectionheadervirtual', 'jobsectionheaderwe', 'jobsectionheaderwhat', 'jobsectionheaderwho', 'jobsectionheaderwork', 'jobsectionheaderyears', 'jobsectionheaderyou', 'jobsectionheaderyour', 'johnson', 'join', 'joined', 'joining', 'joins', 'joint', 'jones', 'jornaya', 'jose', 'journal', 'journalism', 'journals', 'journey', 'journeys', 'joy', 'jr', 'jreview', 'js', 'json', 'jsp', 'juan', 'judgement', 'judgment', 'juggle', 'juggling', 'julia', 'jump', 'jumping', 'junction', 'june', 'junior', 'junk', 'jupiter', 'jupyter', 'just', 'justice', 'justify', 'juxtaposition', 'jvm', 'jyve', 'jyver', 'jyvers', 'kaban', 'kafka', 'kaggle', 'kagr', 'kai', 'kanban', 'kansas', 'kayak', 'kbr', 'kbrwyle', 'kdd', 'keen', 'keep', 'keeping', 'keeps', 'kennedy', 'kentucky', 'kenworth', 'kept', 'keras', 'kernel', 'kernels', 'key', 'keyboard', 'keyboarding', 'keynote', 'keysight', 'kibana', 'kid', 'kids', 'kind', 'kindly', 'kinds', 'kinesis', 'king', 'kingdom', 'kitchen', 'kitchens', 'kits', 'kleiner', 'kmeans', 'knack', 'kneel', 'knight', 'knime', 'knit', 'knn', 'knock', 'know', 'knowing', 'knowledge', 'knowledgeable', 'known', 'knows', 'kong', 'kosmix', 'kpi', 'kpis', 'kpisexperience', 'kpit', 'kraken', 'krakenites', 'ksa', 'kubernetes', 'kxen', 'kyosei', 'la', 'lab', 'labor', 'laboratory', 'labs', 'lack', 'lactation', 'ladders', 'lake', 'lakes', 'land', 'landfills', 'landing', 'landscape', 'landscapes', 'language', 'languages', 'languagesexperience', 'languagesknowledge', 'lapack', 'laptop', 'laptops', 'large', 'largely', 'larger', 'largest', 'lark', 'laser', 'last', 'lasting', 'lastminute', 'late', 'latent', 'later', 'lateral', 'latest', 'latex', 'latin', 'latitude', 'latter', 'launch', 'launched', 'launches', 'launching', 'laundering', 'lavender', 'lavish', 'law', 'lawful', 'lawrence', 'laws', 'lawyers', 'lay', 'layer', 'layers', 'layersclass', 'layman', 'laymen', 'layoff', 'layout', 'layperson', 'lda', 'lead', 'leadblog', 'leader', 'leaders', 'leadership', 'leadersinvestigating', 'leadersown', 'leading', 'leads', 'leagues', 'leakage', 'lean', 'leap', 'leapros', 'learn', 'learned', 'learner', 'learners', 'learning', 'learninganalysis', 'learningat', 'learningcontributions', 'learnings', 'leased', 'leasing', 'least', 'leave', 'leaves', 'led', 'ledger', 'leed', 'left', 'legacy', 'legal', 'legally', 'legislative', 'lend', 'lending', 'lendingtree', 'lends', 'length', 'lens', 'lerning', 'lesbian', 'less', 'lesser', 'let', 'letter', 'letters', 'lev', 'level', 'level1', 'levels', 'levelup', 'lever', 'leverage', 'leveraged', 'leverages', 'leveraging', 'levers', 'lexington', 'lexisnexis', 'lexisnexisrisk', 'lgbtq', 'li', 'liabilities', 'liaise', 'liaison', 'liberates', 'libraries', 'librariesat', 'library', 'libsvm', 'license', 'licensed', 'licenses', 'lidar', 'lie', 'lies', 'lieu', 'life', 'lifecycle', 'lifelong', 'lifestyle', 'lifestyles', 'lifetime', 'lift', 'light', 'lightgbm', 'lighthouse', 'like', 'likelihood', 'likely', 'likes', 'limit', 'limitations', 'limited', 'limiting', 'limits', 'lincoln', 'line', 'linear', 'lineexperience', 'lines', 'linesquantitative', 'lingpipe', 'lingua', 'linguistic', 'linguistics', 'lining', 'link', 'linkage', 'linked', 'linkedin', 'linking', 'links', 'linting', 'linux', 'list', 'listed', 'listen', 'listeners', 'listening', 'listing', 'listings', 'lists', 'lit', 'literature', 'little', 'live', 'lived', 'livereach', 'livereachmedia', 'lives', 'liveswe', 'living', 'll', 'llc', 'lmi', 'load', 'loading', 'loan', 'loans', 'local', 'locally', 'locals', 'locate', 'located', 'locates', 'location', 'locations', 'locationus', 'lodging', 'log', 'logging', 'logic', 'logical', 'logistic', 'logistical', 'logistics', 'logit', 'logs', 'logstash', 'london', 'lone', 'long', 'longer', 'longitudinal', 'longtime', 'longwood', 'look', 'looker', 'looking', 'lookout', 'looks', 'loop', 'loosely', 'los', 'loss', 'lot', 'lots', 'lottery', 'lotterycareers', 'louder', 'louis', 'love', 'loved', 'loveland', 'loves', 'low', 'lower', 'lowering', 'lowest', 'loyal', 'loyalty', 'lrm', 'lrs', 'ls1', 'lsa', 'lsh', 'lsi', 'lstm', 'lt', 'lte', 'ltv', 'lucene', 'luigi', 'lunch', 'lunches', 'luxury', 'lyft', 'm12', 'm4', 'ma', 'mac', 'macbook', 'machine', 'machines', 'macro', 'macroeconomic', 'macroeconomics', 'made', 'magazine', 'magic', 'magical', 'mahalanobis', 'mail', 'mailbox', 'main', 'mainstream', 'maintain', 'maintainability', 'maintainable', 'maintained', 'maintaining', 'maintains', 'maintenance', 'major', 'majoring', 'majority', 'make', 'makers', 'makes', 'making', 'malicious', 'mallet', 'malvern', 'malware', 'manage', 'manageable', 'managed', 'management', 'managemento', 'manager', 'managers', 'manages', 'managing', 'manahj', 'mandate', 'mandatory', 'manger', 'manhattan', 'manipulate', 'manipulates', 'manipulating', 'manipulation', 'manner', 'manual', 'manually', 'manuals', 'manufacture', 'manufacturer', 'manufacturers', 'manufactures', 'manufacturing', 'many', 'map', 'mapmyfitness', 'mapping', 'mapr', 'mapreduce', 'maps', 'mar', 'marathon', 'marathons', 'march', 'marcoline', 'marginalized', 'marian', 'marital', 'maritime', 'mark', 'market', 'marketable', 'marketers', 'marketing', 'marketo', 'marketplace', 'marketplaces', 'markets', 'markov', 'marks', 'marry', 'maryland', 'marzocco', 'mason', 'mass', 'massachusetts', 'massage', 'massages', 'massaging', 'massive', 'massively', 'massmutual', 'master', 'mastered', 'masters', 'mastery', 'match', 'matched', 'matches', 'matching', 'mateo', 'material', 'materials', 'maternity', 'math', 'mathematica', 'mathematical', 'mathematician', 'mathematicians', 'mathematics', 'matlab', 'matlabexpertise', 'matplotlib', 'matrix', 'matrixed', 'matter', 'matters', 'mature', 'maturity', 'maxent', 'maximization', 'maximize', 'maximizing', 'maximum', 'may', 'maybe', 'mayors', 'mb', 'mba', 'mckesson', 'mclean', 'mcmc', 'md', 'me', 'meal', 'meals', 'mean', 'meaning', 'meaningful', 'meaningfully', 'means', 'meant', 'measurable', 'measure', 'measured', 'measurement', 'measurements', 'measures', 'measuring', 'mechanical', 'mechanics', 'mechanism', 'mechanisms', 'media', 'mediation', 'medical', 'medically', 'medication', 'medicine', 'medidata', 'medium', 'meet', 'meeting', 'meetings', 'meets', 'member', 'members', 'membership', 'membersmodeling', 'memorable', 'memos', 'men', 'menlo', 'mental', 'mentality', 'mention', 'mentioned', 'mentions', 'mentor', 'mentoring', 'mentors', 'mentorship', 'mentorships', 'menus', 'merch', 'merchandise', 'merchandisers', 'merchandising', 'merchants', 'merge', 'merit', 'meritocracy', 'merits', 'mertado', 'mesa', 'mesos', 'message', 'messages', 'messaging', 'messenger', 'messy', 'met', 'meta', 'metabiota', 'metadata', 'metagenome', 'metagenomic', 'metagenomics', 'metasearch', 'metered', 'method', 'methodical', 'methodically', 'methodist', 'methodolgies', 'methodological', 'methodologically', 'methodologies', 'methodology', 'methods', 'meticulous', 'metis', 'metric', 'metrics', 'metricsinnovate', 'metro', 'metropolitan', 'mexican', 'mexico', 'mfc', 'mgnt', 'mi', 'miachine', 'michael', 'michigan', 'micro', 'microbial', 'microbiology', 'microbiologyexperience', 'microbiome', 'microservices', 'microsoft', 'microstrategy', 'mid', 'middleware', 'midsize', 'might', 'migrate', 'migrating', 'migration', 'miguelhelft', 'mile', 'military', 'militaryfriendly', 'million', 'millions', 'milpitas', 'mimics', 'min', 'mind', 'minded', 'mindful', 'minds', 'mindset', 'mindsetcustomer', 'mindsets', 'mine', 'miner', 'mines', 'mini', 'minimal', 'minimize', 'minimizes', 'minimum', 'mining', 'miningprogramming', 'minitab', 'minorities', 'minority', 'mintel', 'minute', 'minutes', 'mis', 'misinterpretation', 'miss', 'missed', 'missing', 'mission', 'missions', 'mistake', 'mistakes', 'mitigate', 'mitigating', 'mitigation', 'mix', 'mixed', 'mixes', 'mixture', 'ml', 'mllib', 'mlops', 'mo', 'moat', 'mobile', 'mobility', 'mockups', 'modalities', 'modality', 'mode', 'modeanalytics', 'model', 'modeler', 'modelers', 'modeling', 'modelingmachine', 'modelled', 'modelling', 'models', 'modelscreating', 'modelsexcellent', 'modelsknowledge', 'modelswindows', 'moderate', 'moderately', 'moderation', 'modern', 'modernize', 'modernized', 'modernizing', 'modifications', 'modified', 'modifies', 'modify', 'modifying', 'module', 'modules', 'modus', 'moment', 'moments', 'momondo', 'monday', 'monetization', 'money', 'mongodb', 'monitor', 'monitoring', 'monitors', 'montana', 'monte', 'montgomery', 'month', 'montha', 'monthly', 'months', 'moocs', 'moose', 'more', 'morgan', 'morrisville', 'mortar', 'mortgage', 'moses', 'most', 'mostly', 'mothers', 'motiion', 'motion', 'motionx', 'motivate', 'motivated', 'motivates', 'motivation', 'motivator', 'motive', 'motor', 'motors', 'mountain', 'mouse', 'movado', 'move', 'moved', 'movement', 'moves', 'movie', 'movies', 'moving', 'mpc', 'mpp', 'mr', 'mri', 'mro', 'ms', 'ms1', 'msc', 'msim', 'msja', 'msn', 'mssql', 'mt', 'mtv', 'much', 'mukamel', 'multi', 'multicultural', 'multidisciplinary', 'multimodal', 'multinomial', 'multiple', 'multiplier', 'multisite', 'multitask', 'multivariable', 'multivariate', 'munch', 'mundi', 'munging', 'muni', 'municipal', 'musculoskeletal', 'music', 'must', 'mutual', 'mutually', 'mv1', 'mxnet', 'my', 'myfitnesspal', 'mysql', 'mysqlexperience', 'n0', 'n00', 'n0305', 'n1', 'n10', 'n100', 'n1000', 'n1026036', 'n11', 'n12', 'n15', 'n16', 'n1st', 'n1strategy', 'n2', 'n20', 'n2019', 'n25', 'n3', 'n4', 'n40', 'n401', 'n401k', 'n41476br', 'n5', 'n58490', 'n6', 'n7', 'n8', 'n9', 'n_', 'n___________________________________________________________________________________', 'na', 'naacl', 'nability', 'nable', 'nabout', 'nacademic', 'naccess', 'naccomplished', 'naccording', 'naccountabilities', 'naccountable', 'naccurate', 'nacquires', 'nacquisition', 'nacross', 'nact', 'nacting', 'nactivation', 'nactive', 'nactively', 'nactuarial', 'nad', 'nadaction', 'nadapt', 'nadaptability', 'nadapts', 'nadding', 'nadditional', 'nadditionally', 'naddt', 'nadept', 'nadherence', 'nadobe', 'nadvance', 'nadvanced', 'nadvantages', 'nadvise', 'nadvocate', 'naerospace', 'naetna', 'nafter', 'nagency', 'nai', 'naid', 'nair', 'naive', 'nakraya', 'nalco', 'nalelo', 'nalgorithmic', 'nalgorithms', 'nalign', 'nall', 'nallazo', 'nallazohealth', 'nalternate', 'namazing', 'namazon', 'name', 'named', 'nameplates', 'namericas', 'names', 'namplion', 'nan', 'nanalyse', 'nanalysis', 'nanalytic', 'nanalytical', 'nanalytically', 'nanalytics', 'nanalyze', 'nanalyzes', 'nanalyzing', 'nand', 'nann', 'nannotation', 'nannual', 'nanswer', 'nany', 'napco', 'napi', 'napplicants', 'napplications', 'napplied', 'napplies', 'napply', 'napplying', 'nappreciation', 'napprise', 'napproach', 'nappropriate', 'nappropriately', 'napproximately', 'nappzen', 'naptitude', 'narchitect', 'narchitecting', 'nare', 'nareas', 'narratives', 'narticulate', 'nartificial', 'nas', 'nasa', 'nascensus', 'nascent', 'nascertain', 'nasdaq', 'nashua', 'nassemble', 'nassess', 'nassesses', 'nassessing', 'nassigned', 'nassist', 'nassisting', 'nassists', 'nassociate', 'nat', 'nathenex', 'nation', 'national', 'nationality', 'nationally', 'nations', 'nationwide', 'native', 'natlanta', 'natlantic', 'natos', 'nattending', 'nattention', 'nattentive', 'natural', 'naturally', 'nature', 'naustin', 'nauthorities', 'nauto', 'nautodesk', 'nautomate', 'nautomating', 'nautomotive', 'nauvera', 'navailability', 'navailable', 'navair', 'naval', 'naverage', 'navidxchange', 'navigate', 'navigation', 'navigators', 'nawarded', 'nawesome', 'naws', 'naxians', 'naxiologic', 'naxle', 'nb', 'nba', 'nbabylist', 'nbachelor', 'nbachelors', 'nbackground', 'nbalance', 'nbalances', 'nbased', 'nbash', 'nbasic', 'nbc', 'nbe', 'nbeautiful', 'nbehavioral', 'nbehaviors', 'nbehind', 'nbeing', 'nbelow', 'nbenefit', 'nbenefits', 'nberkley', 'nbetter', 'nbeyond', 'nbig', 'nbit', 'nblacksky', 'nblackthorn', 'nblend', 'nblending', 'nblockchain', 'nblueshift', 'nbluevine', 'nbonus', 'nboth', 'nbreadth', 'nbreak', 'nbrigham', 'nbringing', 'nbroad', 'nbs', 'nbuild', 'nbuilding', 'nbuilds', 'nbuilt', 'nbusiness', 'nbut', 'nbuzzwords', 'nby', 'nc', 'nc3', 'ncaa', 'ncaci', 'ncambia', 'ncampaign', 'ncan', 'ncandidate', 'ncandidates', 'ncapable', 'ncapgemini', 'ncapital', 'ncapture', 'ncare', 'ncareer', 'ncarolinas', 'ncarry', 'ncasual', 'ncategory', 'ncatered', 'ncentral', 'ncerner', 'ncertificate', 'ncertificates', 'ncertifying', 'ncgi', 'nchanging', 'nchannel', 'ncharles', 'ncheck', 'nchesapeake', 'nchicago', 'nchinese', 'nchipotle', 'ncitizen', 'ncity', 'ncivis', 'nclarkston', 'nclass', 'nclassdojo', 'nclean', 'ncleaning', 'nclear', 'nclearance', 'nclearly', 'nclearwater', 'ncleveland', 'nclick', 'nclients', 'nclosing', 'ncloud', 'ncluster', 'ncoaches', 'ncoding', 'ncognitive', 'ncollaborate', 'ncollaborates', 'ncollaborating', 'ncollaborative', 'ncollaboratively', 'ncollect', 'ncollecting', 'ncollege', 'ncombination', 'ncombine', 'ncome', 'ncomet', 'ncomfort', 'ncomfortable', 'ncommitted', 'ncommon', 'ncommunicate', 'ncommunicates', 'ncommunicating', 'ncommunication', 'ncommunicator', 'ncommunity', 'ncommuter', 'ncommvault', 'ncompany', 'ncompensation', 'ncompetence', 'ncompetitive', 'ncompile', 'ncompliance', 'ncomponents', 'ncomposition', 'ncomprehensive', 'ncomprised', 'ncomputational', 'ncomputer', 'ncomputingfoundation', 'nconceive', 'nconceptual', 'nconceptualize', 'ncondition', 'nconduct', 'nconducting', 'nconducts', 'nconfidence', 'nconfident', 'nconnect', 'nconsistency', 'nconsistently', 'nconstantly', 'nconstruct', 'nconstructs', 'nconsult', 'nconsults', 'nconsumer', 'ncontact', 'ncontext', 'ncontextualize', 'ncontinually', 'ncontinue', 'ncontinued', 'ncontinuous', 'ncontinuously', 'ncontract', 'ncontribute', 'ncontributes', 'ncontributing', 'ncontributions', 'nconversant', 'nconvert', 'ncool', 'ncoordinate', 'ncoordinates', 'ncoordination', 'ncordell', 'ncore', 'ncorporate', 'ncoursework', 'ncover', 'ncr', 'ncraft', 'ncreate', 'ncreates', 'ncreating', 'ncreative', 'ncreatively', 'ncreativity', 'ncriteo', 'ncritical', 'ncrm', 'ncross', 'ncultivating', 'nculture', 'ncurating', 'ncuriosity', 'ncurious', 'ncurrent', 'ncurrently', 'ncustomer', 'nd', 'ndacohp', 'ndaily', 'ndallas', 'ndata', 'ndatabase', 'ndatabases', 'ndate', 'nday', 'ndedication', 'ndeep', 'ndeepen', 'ndefine', 'ndefines', 'ndefining', 'ndegree', 'ndeliver', 'ndelivering', 'ndelivery', 'ndell', 'ndeloitte', 'ndelve', 'ndemocratize', 'ndemonstrable', 'ndemonstrate', 'ndemonstrated', 'ndemonstrates', 'ndemonstrating', 'ndenver', 'ndepartment', 'ndepending', 'ndeploy', 'ndeploying', 'ndepth', 'nderive', 'nderiving', 'ndescription', 'ndesign', 'ndesigning', 'ndesigns', 'ndesire', 'ndesired', 'ndetail', 'ndetailed', 'ndetails', 'ndetect', 'ndetermine', 'ndevelop', 'ndeveloper', 'ndeveloping', 'ndevelopment', 'ndevelopmentanalyze', 'ndevelops', 'ndexterity', 'ndid', 'ndigging', 'ndigital', 'ndirect', 'ndirects', 'ndisciplined', 'ndisclaimer', 'ndiscover', 'ndisplay', 'ndisplaying', 'ndisseminates', 'ndistilling', 'ndistinctive', 'ndistribute', 'ndistributed', 'ndistributions', 'ndiversity', 'ndivision', 'ndivisional', 'ndo', 'ndoctoral', 'ndocument', 'ndocuments', 'ndog', 'ndoing', 'ndomain', 'ndraw', 'ndress', 'ndrinks', 'ndrive', 'ndriven', 'ndriver', 'ndrives', 'ndriving', 'ndrybar', 'ndue', 'nduration', 'nduring', 'nduties', 'ne', 'nea', 'neach', 'neager', 'near', 'nearby', 'nearest', 'nearly', 'nearn', 'nebraska', 'necessarily', 'necessary', 'necessaryconsults', 'necolab', 'neconomics', 'nedit', 'neducate', 'neducated', 'neducation', 'neducational', 'need', 'needed', 'needle', 'needs', 'neeo', 'neeoc', 'neffective', 'neffectively', 'nefficient', 'nefficiently', 'negative', 'negatively', 'negotiable', 'negotiate', 'negotiation', 'neighbor', 'neighborhoods', 'neighbors', 'neight', 'neither', 'nelevate', 'nemail', 'nembrace', 'nemphasis', 'nemploy', 'nemployee', 'nemployer', 'nemployment', 'nempower', 'nenable', 'nenabling', 'nend', 'nengage', 'nengages', 'nengaging', 'nengineering', 'nenglish', 'nenhance', 'nenhanced', 'nenhancing', 'nenjoys', 'nenrolled', 'nensure', 'nensures', 'nensuring', 'nenthusiasm', 'nenthusiastic', 'nentrepreneurial', 'nenvironment', 'neo', 'neo4j', 'neoe', 'nequal', 'nequity', 'nequivalent', 'nerds', 'nerdy', 'nericsson', 'nescalates', 'nessential', 'nestablish', 'nestablished', 'nestimate', 'net', 'netapp', 'netc', 'netflix', 'network', 'networked', 'networking', 'networks', 'networksimplementing', 'neural', 'neurobehavioral', 'neuroimaging', 'neuroscience', 'neutral', 'nevada', 'nevaluate', 'nevaluating', 'nevangelize', 'neven', 'neventbrite', 'never', 'nevery', 'neveryday', 'neverytown', 'new', 'newest', 'newly', 'newmark', 'newport', 'news', 'newsfeed', 'newshour', 'newwave', 'nexamines', 'nexample', 'nexcel', 'nexcellent', 'nexceptional', 'nexcited', 'nexciting', 'nexclusively', 'nexecute', 'nexecution', 'nexecutive', 'nexempt', 'nexhibit', 'nexpand', 'nexpectations', 'nexpedia', 'nexperience', 'nexperienced', 'nexperiences', 'nexperiment', 'nexpert', 'nexpertise', 'nexpiration', 'nexplain', 'nexploration', 'nexploratory', 'nexplore', 'nexplores', 'nexploring', 'nexposure', 'next', 'nextdoor', 'nextending', 'nextends', 'nextensive', 'nextract', 'nextracts', 'nextremely', 'nexus', 'nexxonmobil', 'neyeview', 'nfacilitate', 'nfamiliar', 'nfamiliarity', 'nfar', 'nfarmer', 'nfarmers', 'nfascinating', 'nfast', 'nfeature', 'nfeel', 'nfew', 'nfield', 'nfinal', 'nfinance', 'nfinancial', 'nfind', 'nfinding', 'nfirst', 'nfive', 'nfl', 'nflat', 'nflex', 'nflexibility', 'nflexible', 'nfloating', 'nflsa', 'nfluency', 'nfluent', 'nfocus', 'nfocused', 'nfollow', 'nfood', 'nfor', 'nforce', 'nford', 'nforecasting', 'nforescout', 'nformalizing', 'nformulate', 'nformulates', 'nforward', 'nfoster', 'nfosys', 'nfounded', 'nfour', 'nframe', 'nframes', 'nfree', 'nfrequently', 'nfrom', 'nfs', 'nfull', 'nfullpower', 'nfully', 'nfunctions', 'nfundamental', 'nfurthermore', 'nfurthers', 'nga', 'ngap', 'ngather', 'nge', 'ngender', 'ngeneral', 'ngeneralize', 'ngenerate', 'ngenerates', 'ngenerating', 'ngenerous', 'ngenomics', 'ngeospatial', 'nget', 'ngetting', 'ngive', 'nglobal', 'ngoal', 'ngoes', 'ngood', 'ngoogle', 'ngos', 'ngot', 'ngpa', 'ngraduate', 'ngraphical', 'ngreat', 'nground', 'ngrow', 'ngrowth', 'ngrubhub', 'ngs', 'nguide', 'nguided', 'nhadoop', 'nhandle', 'nhands', 'nhas', 'nhave', 'nhaving', 'nhcsc', 'nhe', 'nheadquartered', 'nhealth', 'nhelp', 'nhelping', 'nhere', 'nhi', 'nhigh', 'nhighly', 'nhiring', 'nhistory', 'nhl', 'nhold', 'nhonest', 'nhoneywell', 'nhonor', 'nhow', 'nhttps', 'nhuge', 'nhundreds', 'nhunger', 'ni', 'nibm', 'nic', 'nice', 'niche', 'nid', 'nideal', 'nideally', 'nideate', 'nidentification', 'nidentifies', 'nidentify', 'nidentifying', 'nidentity', 'nif', 'night', 'nights', 'nii', 'nike', 'nimagine', 'nimble', 'nimplement', 'nimplementing', 'nimplements', 'nimportant', 'nimprove', 'nimproving', 'nin', 'nincludes', 'ninclusion', 'ninclusive', 'nincrease', 'nindependent', 'nindependently', 'nindustry', 'nine', 'ninfluencing', 'ninform', 'ninformation', 'ninforms', 'ninfrastructure', 'ninitiate', 'ninitiative', 'ninja', 'ninnate', 'ninnovate', 'ninnovation', 'ninscape', 'ninspire', 'ninspires', 'ninstrument', 'nintegral', 'nintegrate', 'nintegrates', 'nintegration', 'nintegrity', 'nintellectual', 'nintellectually', 'ninteract', 'ninteractive', 'ninteracts', 'ninterest', 'ninterested', 'ninteresting', 'ninterface', 'nintermediate', 'nintern', 'ninternship', 'ninternships', 'ninterpersonal', 'ninterpret', 'ninterprets', 'nintroduce', 'ninvestigates', 'ninvestment', 'ninvestors', 'ninvolvement', 'nips', 'nis', 'nist', 'nit', 'niteratively', 'nittany', 'nitty', 'niv', 'nj', 'njava', 'njavascript', 'njhujobs', 'njob', 'njoin', 'njornaya', 'njr', 'njyve', 'nkayak', 'nkbr', 'nkbrwyle', 'nkeep', 'nkegerator', 'nkey', 'nkeysight', 'nkeyword', 'nknow', 'nknowledge', 'nknowledgeable', 'nkraft', 'nla', 'nlanguage', 'nlanguages', 'nlark', 'nlast', 'nle', 'nlead', 'nleader', 'nleadership', 'nleading', 'nleads', 'nlean', 'nlearn', 'nlearning', 'nlearns', 'nlevel', 'nleverage', 'nleveraging', 'nli', 'nlife', 'nlift', 'nlinux', 'nlist', 'nlisted', 'nlittleton', 'nlive', 'nlocate', 'nlocation', 'nlocations', 'nlocationusa', 'nlogic20', 'nlogic2020', 'nlooking', 'nlots', 'nlp', 'nlrs', 'nlstm', 'nltk', 'nlu', 'nm', 'nma', 'nmachine', 'nmain', 'nmaintain', 'nmaintaining', 'nmaintains', 'nmajor', 'nmake', 'nmakes', 'nmaking', 'nmanage', 'nmanages', 'nmanaging', 'nmanipulate', 'nmapping', 'nmarket', 'nmarketing', 'nmarketplace', 'nmaster', 'nmasters', 'nmastery', 'nmatching', 'nmath', 'nmathematics', 'nmatlab', 'nmaxar', 'nmay', 'nmba', 'nmckesson', 'nmeals', 'nmeasure', 'nmediation', 'nmedical', 'nmeet', 'nmentor', 'nmentoring', 'nmerge', 'nmeta', 'nmetabiota', 'nmethodsexpertise', 'nmf', 'nmicrobiome', 'nmicrosoft', 'nmind', 'nmine', 'nmines', 'nminimal', 'nminimum', 'nmining', 'nmixed', 'nmode', 'nmodeling', 'nmodels', 'nmoderate', 'nmomentum', 'nmon18', 'nmongodb', 'nmonitor', 'nmonitoring', 'nmonpost', 'nmonthly', 'nmore', 'nmorgan', 'nmost', 'nms', 'nmsc', 'nmultiple', 'nmust', 'nn', 'nna', 'nnatural', 'nnature', 'nnauto', 'nnearest', 'nnecessary', 'nneed', 'nnetflix', 'nnetwork', 'nnetworking', 'nneuberger', 'nnew', 'nnewwave', 'nngs', 'nnice', 'nnike', 'nnine', 'nno', 'nnoise', 'nnone', 'nnormal', 'nnot', 'nnote', 'nnotes', 'nnow', 'nnull', 'nnumber', 'nnurture', 'no', 'nobserves', 'noccasionally', 'node', 'nodejs', 'nof', 'noffers', 'noffice', 'noffices', 'noise', 'noisy', 'nomis', 'non', 'nonce', 'nonconforming', 'nondiscrimination', 'none', 'nonfatal', 'nongoing', 'nonlinear', 'nonprofit', 'nonprofits', 'nontechnical', 'nopen', 'nopenx', 'noperates', 'noperating', 'noperational', 'noperationalization', 'noperations', 'nopportunities', 'nopportunity', 'noptimization', 'noptimize', 'noptimizing', 'noptional', 'noracle', 'noral', 'noregon', 'norganization', 'norganizational', 'norganize', 'norganized', 'norm', 'normal', 'normalising', 'normalization', 'normally', 'norms', 'nors', 'north', 'northeast', 'northern', 'northwest', 'nosql', 'not', 'notable', 'notch', 'note', 'notebook', 'notebooks', 'notes', 'nother', 'nothing', 'notice', 'notices', 'notification', 'notifications', 'notify', 'nour', 'noutstanding', 'noutward', 'novel', 'november', 'noverall', 'noversee', 'noverview', 'novi', 'now', 'nown', 'nownership', 'nowning', 'npaccar', 'npack', 'npaid', 'npalo', 'nparadigm', 'nparking', 'npart', 'nparticipate', 'nparticipates', 'nparticipating', 'nparticipation', 'npartner', 'npartnering', 'npartners', 'npassion', 'npassionate', 'npast', 'npatient', 'npay', 'npeople', 'npepsico', 'nperform', 'nperformance', 'nperforming', 'nperforms', 'nperiodic', 'nperks', 'npersonal', 'npersonalization', 'nperspecta', 'npersuasive', 'npet', 'nph', 'nphd', 'nphysical', 'nphysics', 'npimco', 'nplan', 'nplano', 'nplans', 'nplatform', 'nplatforms', 'nplay', 'nplaying', 'nplaystation', 'nplease', 'nplenty', 'nplus', 'npm18', 'npoised', 'nportfolio', 'nportland', 'nposition', 'npositions', 'npossess', 'npossession', 'npost', 'nposted', 'nposting', 'npotential', 'npowered', 'npra', 'npractical', 'npragmatic', 'npre', 'npredicting', 'nprediction', 'npredictive', 'nprefer', 'nprefered', 'npreference', 'npreferred', 'npreparation', 'nprepare', 'nprepares', 'nprescient', 'npresent', 'npresentation', 'npresenting', 'npresents', 'nprevious', 'nprimary', 'nprincipal', 'nprior', 'nprioritization', 'nprioritize', 'nprioritizing', 'nprivacy', 'nproactively', 'nproblem', 'nprocess', 'nprocessing', 'nproduce', 'nproduct', 'nproduction', 'nproducts', 'nprofessional', 'nprofessors', 'nproficiency', 'nproficient', 'nprogramming', 'nproject', 'nprojectmanager', 'npromote', 'nprompt', 'nproof', 'npropensity', 'nproper', 'nproposing', 'nprototype', 'nproven', 'nprovide', 'nproviders', 'nprovides', 'nproviding', 'nproximity', 'nps', 'npto', 'npublic', 'npublish', 'npunctuality', 'npursuant', 'npursuing', 'npush', 'nput', 'npython', 'nqm', 'nqualification', 'nqualifications', 'nqualified', 'nqualifying', 'nquality', 'nquantifind', 'nquantify', 'nquantifying', 'nquantitative', 'nquery', 'nquerying', 'nquestion', 'nquick', 'nr', 'nradiant', 'nraise', 'nraleigh', 'nrandom', 'nrapidly', 'nreach', 'nread', 'nreal', 'nreasonable', 'nreceive', 'nrecent', 'nrecently', 'nrecognized', 'nrecommend', 'nrecommendation', 'nrecommender', 'nrecruiter', 'nrecruiting', 'nred', 'nredjack', 'nredshift', 'nref', 'nreframe', 'nregular', 'nrelated', 'nrelation', 'nrelationship', 'nrelationships', 'nrelentlessly', 'nrelevance', 'nrelevant', 'nrelocation', 'nremain', 'nremote', 'nreport', 'nreporting', 'nreports', 'nrepresenting', 'nreq', 'nreq6316', 'nreqid', 'nrequire', 'nrequired', 'nrequirement', 'nrequirements', 'nrequires', 'nrequisition', 'nresearch', 'nresearches', 'nresidency', 'nresourceful', 'nresponsibilities', 'nresponsibility', 'nresponsible', 'nrestaurant', 'nresults', 'nresume', 'nretail', 'nretention', 'nretrieve', 'nreview', 'nreviewing', 'nrider', 'nright', 'nrigorously', 'nrising', 'nrobust', 'nrocky', 'nrole', 'nroles', 'nruns', 'ns', 'nsalary', 'nsample', 'nsan', 'nsavviness', 'nschedule', 'nscience', 'nscientific', 'nscoop', 'nscope', 'nsecond', 'nsecondary', 'nsecret', 'nsection', 'nsecurity', 'nsee', 'nseeking', 'nselect', 'nselecting', 'nself', 'nseller', 'nsenior', 'nserve', 'nserved', 'nserver', 'nserves', 'nservice', 'nservices', 'nseveral', 'nsexual', 'nsfarm', 'nshare', 'nshared', 'nshares', 'nsharp', 'nshaw', 'nshift', 'nships', 'nshorenstein', 'nshort', 'nshould', 'nshow', 'nsick', 'nsierra', 'nsign', 'nsignificant', 'nsimilar', 'nsimple', 'nsimulation', 'nsit', 'nsitting', 'nsix', 'nsixleaf', 'nskilled', 'nskills', 'nslack', 'nsleuth', 'nslync', 'nsmart', 'nsms', 'nsnacks', 'nsnc', 'nsnowflake', 'nso', 'nsocial', 'nsocure', 'nsoft', 'nsoftware', 'nsolid', 'nsolution', 'nsolve', 'nsome', 'nsony', 'nsorry', 'nsoundcloud', 'nspaceflight', 'nsparkfund', 'nspecial', 'nspecialization', 'nspecific', 'nspending', 'nspin', 'nspirit', 'nsponsorship', 'nspot', 'nspreading', 'nsql', 'nsquarespace', 'nstandard', 'nstanley', 'nstanza', 'nstaples', 'nstart', 'nstarter', 'nstatistical', 'nstatistics', 'nstay', 'nstaying', 'nstellar', 'nstock', 'nstrategic', 'nstrategize', 'nstrategy', 'nstrength', 'nstrengthening', 'nstrive', 'nstrong', 'nstrongly', 'nstructure', 'nstructured', 'nstudy', 'nsub', 'nsubject', 'nsubstantial', 'nsubstantive', 'nsuccessful', 'nsufficient', 'nsummarize', 'nsummary', 'nsummer', 'nsuperb', 'nsuperior', 'nsupervise', 'nsupervised', 'nsupervisory', 'nsupport', 'nsupporting', 'nsupportive', 'nsupports', 'nsynthesis', 'nsynthesize', 'nsynthetic', 'nsystems', 'ntableau', 'ntag', 'ntakes', 'ntalent', 'ntalk', 'ntasks', 'nteam', 'nteamwork', 'ntech', 'ntechnical', 'ntechnically', 'ntechniques', 'ntechnology', 'ntelework', 'nten', 'nteradata', 'nterm', 'ntest', 'ntesting', 'ntext', 'ntextio', 'nthat', 'nthe', 'nthen', 'nthere', 'nthese', 'nthey', 'nthink', 'nthis', 'nthorough', 'nthree', 'nthrive', 'nthrives', 'nthrough', 'ntied', 'ntime', 'ntitle', 'nto', 'ntoday', 'ntogether', 'ntoolbox', 'ntoolkits', 'ntools', 'ntoomey', 'ntop', 'ntotal', 'ntrack', 'ntrain', 'ntraining', 'ntransform', 'ntranslate', 'ntranslates', 'ntranslating', 'ntransparency', 'ntransportation', 'ntravel', 'ntremendous', 'ntrilogy', 'ntroubleshoot', 'ntrusting', 'ntwenty', 'ntwice', 'ntwo', 'ntypes', 'ntypical', 'ntypically', 'nu', 'nuances', 'nuber', 'nuclear', 'nudacity', 'nudges', 'null', 'nulta', 'number', 'numbers', 'numeric', 'numerical', 'numerous', 'numo', 'numpy', 'nunassailable', 'nunbounded', 'nuncertainty', 'nuncommongoods', 'nuncover', 'nuncovers', 'nunder', 'nundergraduate', 'nunderstand', 'nunderstanding', 'nunderstands', 'nunifying', 'nunion', 'nunited', 'nunitedhealth', 'nunitedhealthcare', 'nuniversal', 'nuniversally', 'nunlimited', 'nunsupervised', 'nup', 'nurse', 'nurses', 'nurt1', 'nurture', 'nus', 'nusaa', 'nuse', 'nuses', 'nusing', 'nut', 'nutanix', 'nutilize', 'nutilizes', 'nutilizing', 'nv', 'nvacation', 'nvalidate', 'nvalues', 'nvaluing', 'nvariety', 'nventure', 'nverb', 'nverbal', 'nverifies', 'nvery', 'nviagogo', 'nvidia', 'nvisa', 'nvisit', 'nvisualize', 'nvoice', 'nwages', 'nwalk', 'nwant', 'nwaste', 'nwe', 'nwealth', 'nweb', 'nweekends', 'nweekly', 'nwell', 'nwellness', 'nwestrock', 'nwework', 'nwhat', 'nwhen', 'nwhere', 'nwhether', 'nwhile', 'nwho', 'nwhy', 'nwill', 'nwilling', 'nwillingness', 'nwireless', 'nwith', 'nwithin', 'nwork', 'nworked', 'nworking', 'nworks', 'nworld', 'nworldwide', 'nwrangles', 'nwrite', 'nwriting', 'nwritten', 'nwww', 'nxpo', 'ny', 'nyc', 'nyear', 'nyes', 'nyeti', 'nyou', 'nyour', 'nyse', 'nzenreach', 'nzillow', 'nzogsports', 'nzurich', 'obama', 'object', 'objective', 'objectively', 'objectives', 'objects', 'obligated', 'obscured', 'observation', 'observational', 'observer', 'obsess', 'obsessed', 'obsession', 'obstacle', 'obstacles', 'obtain', 'obtained', 'obtaining', 'occasion', 'occasionally', 'occasions', 'occupation', 'occupational', 'occur', 'occurred', 'occurs', 'ocean', 'ocr', 'odc', 'odds', 'odors', 'oem', 'of', 'ofccp', 'ofccp_eeo_supplement_final_jrf_qa_508c', 'off', 'offense', 'offer', 'offered', 'offering', 'offerings', 'offers', 'office', 'officer', 'officers', 'offices', 'officials', 'offline', 'offs', 'offshore', 'often', 'oh', 'ohio', 'oil', 'oklahoma', 'old', 'oldest', 'olympic', 'olympics', 'omaha', 'omd', 'omg', 'omphalos', 'on', 'onboard', 'onboarding', 'once', 'one', 'ones', 'ongoing', 'online', 'onlineaccommodations', 'onlineapply', 'onlookers', 'only', 'onshore', 'onsite', 'onto', 'ontologies', 'ontology', 'onwatch', 'oop', 'oozie', 'op', 'open', 'opening', 'openings', 'openly', 'openlyfearless', 'openness', 'opennlp', 'openshift', 'opentable', 'openx', 'operandi', 'operate', 'operates', 'operating', 'operation', 'operational', 'operationalization', 'operationalize', 'operationalized', 'operationalizing', 'operations', 'operators', 'opinion', 'opinions', 'opl', 'opportunities', 'opportunity', 'opposing', 'ops', 'optimal', 'optimise', 'optimised', 'optimism', 'optimistic', 'optimization', 'optimizations', 'optimize', 'optimized', 'optimizers', 'optimizes', 'optimizing', 'option', 'optional', 'options', 'or', 'oracle', 'oral', 'orally', 'orbitz', 'orchestra', 'orchestrate', 'orchestrated', 'orcle', 'order', 'ordering', 'orders', 'ordinance', 'ordinances', 'oregon', 'oregonlottery', 'org', 'organisation', 'organising', 'organization', 'organizational', 'organizationally', 'organizationoutstanding', 'organizations', 'organize', 'organized', 'organizers', 'organizes', 'organizing', 'orientation', 'orientationability', 'oriented', 'origin', 'original', 'originate', 'originating', 'orlando', 'os', 'osmo', 'oswego', 'osx', 'other', 'others', 'otherwise', 'our', 'ours', 'ourselves', 'out', 'outcome', 'outcomes', 'outdoors', 'outings', 'outlast', 'outlets', 'outlier', 'outliers', 'outline', 'outlined', 'outlining', 'outlook', 'outnumber', 'outof', 'outperform', 'output', 'outputs', 'outreach', 'outside', 'outsized', 'outsourcing', 'outstanding', 'outward', 'outwardinc', 'over', 'overall', 'overcome', 'overhead', 'overlooking', 'overlooks', 'oversee', 'overseeing', 'oversight', 'overview', 'overwhelmed', 'owl', 'own', 'owned', 'owner', 'owners', 'ownership', 'owning', 'owns', 'pa', 'paccar', 'pace', 'paced', 'pacific', 'package', 'packages', 'packaging', 'packard', 'packs', 'page', 'pages', 'pageviews', 'paid', 'pain', 'painful', 'pains', 'paint', 'pair', 'paired', 'pairing', 'pal', 'palantir', 'palo', 'paloaltonetworks', 'pandas', 'panel', 'panoramic', 'paper', 'papers', 'paradigm', 'parallel', 'parallels', 'paralympic', 'parameter', 'parameters', 'parametersdirectly', 'parametric', 'paramount', 'parent', 'parental', 'parents', 'pareto', 'paris', 'park', 'parking', 'parks', 'parse', 'parsing', 'part', 'participant', 'participants', 'participate', 'participates', 'participating', 'participation', 'particular', 'particularly', 'parties', 'partitioning', 'partly', 'partner', 'partnered', 'partnering', 'partners', 'partnership', 'partnershipphd', 'partnerships', 'parts', 'party', 'pass', 'passed', 'passes', 'passing', 'passion', 'passionate', 'passions', 'passport', 'past', 'patent', 'patented', 'patents', 'paternity', 'path', 'paths', 'patience', 'patient', 'patients', 'pattern', 'patterns', 'paving', 'pay', 'payable', 'payback', 'paycompetitive', 'paying', 'payment', 'payments', 'payors', 'paypal', 'pays', 'pbms', 'pbs', 'pc', 'pca', 'pdf', 'pdfdescribes', 'pearl', 'peel', 'peer', 'peers', 'peership', 'penn', 'penney', 'pennsylvania', 'pension', 'people', 'pepsi', 'pepsico', 'per', 'perceived', 'percent', 'perception', 'perceptually', 'perfect', 'perfection', 'perfectly', 'perform', 'performance', 'performances', 'performant', 'performed', 'performing', 'performs', 'perhaps', 'period', 'periodcross', 'periodic', 'periodically', 'periods', 'peripheral', 'periscope', 'perk', 'perkins', 'perks', 'perl', 'permanent', 'permeates', 'permitted', 'perpetration', 'perpetrator', 'perpetrators', 'pers', 'persistence', 'person', 'personable', 'personal', 'personality', 'personalization', 'personalize', 'personalized', 'personalizing', 'personally', 'personas', 'personify', 'personnel', 'persons', 'perspecta', 'perspective', 'perspectives', 'persuasion', 'persuasively', 'pertaining', 'pertains', 'pertinent', 'petabyte', 'petabytes', 'peterbilt', 'petroleum', 'petrophysicist', 'ph', 'pharma', 'pharmaceutical', 'pharmaceuticals', 'pharmacology', 'pharmacy', 'phase', 'phases', 'phd', 'phdat', 'phds', 'phenomena', 'phenomenal', 'philadelphia', 'philanthropy', 'philosophy', 'phishing', 'phoenix', 'phone', 'phones', 'photo', 'photos', 'php', 'phylogenetics', 'physical', 'physician', 'physicians', 'physics', 'physiological', 'physiology', 'pick', 'pickup', 'picture', 'pictures', 'piece', 'pieces', 'pig', 'pillar', 'pilot', 'piloting', 'pilots', 'pimco', 'ping', 'pinpoint', 'pinterest', 'pioneer', 'pioneered', 'pioneering', 'pipe', 'pipeline', 'pipelines', 'piracy', 'pitfalls', 'pittsford', 'pivot', 'pivotal', 'pivoted', 'pixel', 'pixels', 'pl', 'place', 'placed', 'placement', 'placements', 'places', 'placing', 'plan', 'planet', 'planners', 'planning', 'plano', 'plans', 'plant', 'plants', 'platform', 'platforms', 'platts', 'play', 'playbooks', 'player', 'playful', 'playground', 'playing', 'plays', 'playstation', 'plc', 'pleasant', 'pleasanton', 'please', 'pleased', 'pledge', 'plenty', 'plot', 'plotly', 'plots', 'ploty', 'plug', 'plumber', 'plus', 'plusexperience', 'plusses', 'pm', 'poc', 'pockets', 'pocs', 'point', 'points', 'poised', 'police', 'policies', 'policy', 'policyeasy', 'policymakers', 'polished', 'political', 'politics', 'pollution', 'poly', 'polygraph', 'pong', 'pool', 'pools', 'poor', 'pop', 'popcorn', 'popular', 'population', 'populations', 'pores', 'port', 'portal', 'portfolio', 'portfolios', 'portions', 'portland', 'pos', 'pose', 'posing', 'position', 'positional', 'positioned', 'positioning', 'positions', 'positive', 'positively', 'positives', 'possess', 'possesses', 'possibilities', 'possibility', 'possible', 'possibly', 'post', 'posted', 'poster', 'posters', 'postgraduate', 'postgres', 'postgresql', 'postgress', 'postgressql', 'posting', 'postings', 'posts', 'posture', 'potential', 'potentially', 'pounds', 'power', 'powerbi', 'powered', 'powerful', 'powering', 'powerpivot', 'powerpoint', 'powers', 'ppc', 'ppt', 'pr', 'pra', 'practical', 'practicality', 'practically', 'practice', 'practices', 'practicing', 'practitioner', 'practitioners', 'pragmatic', 'pragmatically', 'pre', 'prebuilt', 'precise', 'precisely', 'precision', 'predict', 'predictability', 'predicted', 'predicting', 'prediction', 'predictions', 'predictive', 'prefer', 'preferable', 'preferably', 'preference', 'preferences', 'preferred', 'pregnancy', 'preliminary', 'prem', 'premier', 'premises', 'premium', 'premiums', 'prep', 'preparation', 'preparations', 'prepare', 'prepared', 'prepares', 'preparing', 'preprints', 'preprocess', 'preprocessing', 'presales', 'preschool', 'prescient', 'prescientedge', 'prescreens', 'prescribe', 'prescribed', 'prescription', 'prescriptive', 'presence', 'present', 'presentation', 'presentational', 'presentations', 'presented', 'presenting', 'presents', 'press', 'pressing', 'pressure', 'prestige', 'presto', 'pretty', 'prevent', 'preventing', 'prevention', 'previous', 'previously', 'price', 'prices', 'pricing', 'pride', 'prides', 'primarily', 'primary', 'prime', 'primed', 'principal', 'principals', 'principle', 'principles', 'print', 'printers', 'prior', 'priori', 'priorities', 'prioritise', 'prioritization', 'prioritize', 'prioritizing', 'priority', 'priscilla', 'privacy', 'private', 'privately', 'pro', 'proactive', 'proactively', 'probabilistic', 'probabilities', 'probability', 'probable', 'probably', 'probationary', 'probes', 'problem', 'problems', 'problemsimprove', 'problemsms', 'problemsunderstand', 'procedure', 'procedures', 'proceed', 'proceeding', 'process', 'processed', 'processes', 'processing', 'processingpattern', 'procurement', 'produce', 'produced', 'producers', 'produces', 'producing', 'product', 'production', 'productionize', 'productionized', 'productionizing', 'productive', 'productively', 'productivity', 'productize', 'products', 'productsexperience', 'prof', 'profession', 'professional', 'professionalism', 'professionally', 'professionals', 'professors', 'proficiency', 'proficient', 'proficiently', 'profile', 'profiles', 'profiling', 'profit', 'profitability', 'profitable', 'profitably', 'profits', 'program', 'programing', 'programmatic', 'programmer', 'programmers', 'programming', 'programs', 'programspecific', 'progress', 'progresses', 'progressing', 'progression', 'progressive', 'progressively', 'prohibited', 'prohibits', 'project', 'projected', 'projection', 'projections', 'projectors', 'projects', 'prolonged', 'promise', 'promises', 'promising', 'promote', 'promotes', 'promoting', 'promotion', 'promotional', 'promotions', 'prone', 'proof', 'proofpoint', 'proofs', 'propelled', 'propensity', 'proper', 'properly', 'properties', 'property', 'proposal', 'proposals', 'propose', 'proposed', 'proposes', 'proposing', 'proposition', 'propositions', 'proprietary', 'propriety', 'propulsion', 'prospect', 'prospecting', 'prospective', 'prospects', 'prosper', 'protect', 'protected', 'protecting', 'protection', 'protections', 'proteins', 'protocol', 'protocols', 'prototype', 'prototypes', 'prototyping', 'proud', 'proudly', 'prove', 'proven', 'provide', 'provided', 'provider', 'providers', 'provides', 'providing', 'proving', 'prowess', 'psu', 'psychiatry', 'psychological', 'psychology', 'pto', 'public', 'publication', 'publications', 'publicly', 'publish', 'published', 'publishers', 'publishing', 'pubmed', 'puerto', 'pull', 'pulled', 'pulling', 'pulls', 'pulse', 'purchase', 'purchased', 'purchases', 'purchasing', 'pure', 'purely', 'purpose', 'purposes', 'pursing', 'pursuant', 'pursue', 'pursues', 'pursuing', 'pursuit', 'pursuits', 'push', 'pushed', 'pushes', 'pushing', 'put', 'puts', 'putting', 'puzzle', 'pwerpoint', 'pymc3', 'pyplot', 'pyspark', 'python', 'pythoninfosys', 'pythonmaster', 'pythonsignificant', 'pythonstronger', 'pytorch', 'qa', 'qc', 'qlik', 'qliksense', 'qlikview', 'qm', 'quadrant', 'quadruple', 'qualifications', 'qualificationsbasic', 'qualified', 'qualify', 'qualitative', 'qualities', 'quality', 'qualityconducting', 'qualityefficiently', 'quant', 'quantatative', 'quantifiable', 'quantifind', 'quantify', 'quantifying', 'quantitate', 'quantitative', 'quantitatively', 'quantities', 'quantity', 'quarter', 'quarterly', 'quasi', 'qubole', 'queries', 'query', 'querying', 'quest', 'question', 'questions', 'queues', 'queuing', 'quick', 'quickly', 'quintuple', 'quite', 'quo', 'qxbranch', 'race', 'radical', 'radically', 'rails', 'raise', 'raised', 'raises', 'raleigh', 'rallies', 'ram', 'ramp', 'ramping', 'random', 'range', 'ranges', 'ranging', 'rank', 'ranked', 'ranking', 'ranks', 'ransomware', 'rapid', 'rapidly', 'rapidminer', 'rapport', 'rare', 'rarely', 'rate', 'rated', 'raters', 'rates', 'rather', 'ratings', 'rationalize', 'ratios', 'raton', 'rave', 'raw', 'rays', 'rd', 'rdbms', 'rdbs', 'rdf', 'rds', 're', 'reach', 'react', 'reactively', 'read', 'readability', 'readable', 'readily', 'readiness', 'reading', 'reads', 'ready', 'real', 'realistic', 'reality', 'realization', 'realize', 'realized', 'realizing', 'really', 'realm', 'reason', 'reasonable', 'reasonably', 'reasoned', 'reasoning', 'reasons', 'rebuild', 'recalibrate', 'recalibrating', 'recall', 'receive', 'received', 'recent', 'recently', 'recharge', 'recognition', 'recognizable', 'recognize', 'recognized', 'recognizes', 'recognizing', 'recommend', 'recommendation', 'recommendations', 'recommendationstake', 'recommended', 'recommender', 'recommending', 'recommends', 'reconnaissance', 'record', 'records', 'recoveries', 'recovery', 'recruit', 'recruiter', 'recruiters', 'recruiting', 'recruitment', 'recurrent', 'recycling', 'red', 'redefine', 'redefining', 'redis', 'redjack', 'redmond', 'redshift', 'redtoo', 'reduce', 'reducing', 'reduction', 'reductions', 'redux', 'redwood', 'refactoring', 'refereed', 'reference', 'referenced', 'references', 'referral', 'referrals', 'referred', 'refine', 'refinement', 'refiner', 'refineries', 'refining', 'reflect', 'reflected', 'reflection', 'reflects', 'reforming', 'refresh', 'refusing', 'regard', 'regarding', 'regardless', 'regards', 'regence', 'region', 'regional', 'regions', 'registered', 'registrations', 'registries', 'registry', 'regression', 'regressions', 'regs', 'regular', 'regularization', 'regularly', 'regulation', 'regulations', 'regulatory', 'rei', 'reign', 'reimagine', 'reimagining', 'reimbursed', 'reimbursement', 'reimbursements', 'reinforcement', 'reinforces', 'reinforcing', 'reinsurance', 'reinvent', 'reinvented', 'reinventing', 'relate', 'related', 'relates', 'relating', 'relation', 'relational', 'relations', 'relationship', 'relationships', 'relative', 'relatively', 'relax', 'relaxed', 'release', 'released', 'releases', 'relentless', 'relentlessly', 'relevance', 'relevant', 'reliability', 'reliable', 'reliably', 'reliance', 'reliant', 'reliantly', 'religion', 'religious', 'relish', 'relishes', 'relocate', 'relocated', 'relocating', 'relocation', 'relx', 'rely', 'remain', 'remaining', 'remains', 'remarkable', 'remediate', 'remediation', 'remember', 'remind', 'reminder', 'reminders', 'remodeling', 'remote', 'remotely', 'remove', 'removed', 'render', 'rendering', 'renewable', 'renewal', 'rental', 'rentals', 'renton', 'reolve', 'reonomy', 'repair', 'repeat', 'repeatability', 'repeatable', 'repeating', 'replace', 'repo', 'report', 'reported', 'reporter', 'reporting', 'reportingearn', 'reports', 'repositories', 'repository', 'represent', 'representation', 'representations', 'representative', 'representativeness', 'representatives', 'represents', 'reproducibility', 'reproducible', 'reproducibly', 'repurchase', 'reputation', 'reputations', 'req', 'req181151', 'request', 'requested', 'requesting', 'requests', 'require', 'required', 'requireddevelop', 'requirement', 'requirements', 'requirementssql', 'requires', 'requiring', 'requisite', 'requisition', 'requisitions', 'research', 'researchbuilding', 'researcher', 'researchers', 'researches', 'researching', 'resembles', 'reserve', 'reserved', 'reserves', 'reserving', 'reservoir', 'reservoirs', 'reset', 'resident', 'residential', 'residents', 'resides', 'residing', 'resilience', 'resilient', 'resnets', 'resolution', 'resolutions', 'resolve', 'resolving', 'resonates', 'resort', 'resorts', 'resource', 'resourceful', 'resources', 'resourcing', 'respect', 'respected', 'respectful', 'respecting', 'respective', 'respectively', 'respond', 'responded', 'responders', 'response', 'responses', 'responsib', 'responsibilities', 'responsibilitiesdevelop', 'responsibility', 'responsible', 'responsibly', 'responsive', 'rest', 'restaurant', 'restaurants', 'restful', 'resting', 'reston', 'restoration', 'restore', 'restricted', 'result', 'resulting', 'results', 'resultscommunicate', 'resultsfunctionally', 'resume', 'resumes', 'retail', 'retailer', 'retailers', 'retain', 'retaining', 'retargeting', 'retention', 'retirement', 'retrain', 'retraining', 'retrieval', 'retrievalbecome', 'retrieves', 'retros', 'retrospective', 'return', 'returned', 'returning', 'reusability', 'reusable', 'reveal', 'revenue', 'revenues', 'review', 'reviewed', 'reviewing', 'reviews', 'revise', 'revitalization', 'revolution', 'revolutionary', 'revolutionize', 'revolutionizing', 'reward', 'rewarded', 'rewarding', 'rewards', 'rewrite', 'rf', 'rfp', 'riak', 'rich', 'richard', 'richardson', 'richer', 'richly', 'richness', 'rico', 'riddles', 'ride', 'rider', 'riders', 'rides', 'ridge', 'right', 'rights', 'rigor', 'rigorious', 'rigorous', 'rise', 'rising', 'risk', 'riskiq', 'risks', 'river', 'rivers', 'rivr', 'rl', 'rmarkdown', 'rnn', 'rnns', 'road', 'roadblocks', 'roadmap', 'roadmaps', 'robot', 'robotic', 'robotics', 'robust', 'roc', 'rochester', 'rock', 'roi', 'role', 'roleclass', 'roles', 'roll', 'rolled', 'rolling', 'rollout', 'rollups', 'roof', 'rooftop', 'room', 'rooms', 'root', 'rooted', 'rosa', 'roseville', 'rotate', 'rotation', 'round', 'routed', 'routes', 'routine', 'routinely', 'routines', 'routing', 'rows', 'rpa', 'rpc', 'rsg', 'rsginc', 'rshiny', 'rss', 'rstudio', 'rtb', 'rtf', 'ruby', 'ruiter', 'rule', 'rules', 'run', 'running', 'runs', 'rural', 'russian', 'rust', 's3', 'saas', 'sacramento', 'safe', 'safeguard', 'safeguarding', 'safely', 'safer', 'safety', 'sagemaker', 'said', 'salad', 'salaried', 'salaries', 'salary', 'sales', 'salesforce', 'salesperson', 'salon', 'salt', 'same', 'sample', 'sampled', 'samples', 'sampling', 'samsung', 'san', 'sandwich', 'sanity', 'santa', 'sap', 'sapphire', 'sas', 'sat', 'satellite', 'satisfaction', 'satisfactorily', 'satisfactory', 'satisfied', 'save', 'saved', 'savings', 'savvy', 'say', 'saying', 'says', 'sba', 'sc', 'scala', 'scalability', 'scalable', 'scalanlp', 'scale', 'scaled', 'scaling', 'scarce', 'scatter', 'scattered', 'scenario', 'scenarios', 'scenariosexperience', 'scenes', 'schaumburg', 'schedule', 'scheduled', 'schedules', 'scheduling', 'schema', 'schemas', 'schemes', 'schizophrenia', 'scholars', 'school', 'schools', 'schuylkill', 'schwab', 'schwas', 'sci', 'science', 'scienceclass', 'scienceexpertise', 'sciences', 'scientific', 'scientifically', 'scientist', 'scientistleverage', 'scientists', 'scientistwill', 'scikit', 'scikitlearn', 'scipy', 'scm', 'scoop', 'scooter', 'scooters', 'scope', 'scopes', 'scoping', 'score', 'scorecards', 'scores', 'scoring', 'scot', 'scott', 'scouts', 'scrape', 'scraped', 'scraping', 'scrapping', 'scrappy', 'scratch', 'scratched', 'scratching', 'screen', 'screening', 'screens', 'script', 'scripting', 'scripts', 'scrub', 'scrum', 'sdk', 'sdks', 'sdlc', 'sdtm', 'sdvosb', 'se', 'seaborn', 'seamless', 'seamlessly', 'search', 'searches', 'searching', 'season', 'seasonal', 'seasonality', 'seasoned', 'seattle', 'second', 'secondary', 'seconds', 'secret', 'secrets', 'secrurity', 'section', 'sectional', 'sections', 'sector', 'sectors', 'secure', 'secured', 'securely', 'securing', 'securities', 'security', 'see', 'seed', 'seeing', 'seek', 'seekers', 'seeking', 'seeks', 'seemingly', 'seems', 'seen', 'segment', 'segmentation', 'segmentationdevelop', 'segmentationo', 'segmented', 'segments', 'segundo', 'seize', 'select', 'selected', 'selecting', 'selection', 'self', 'selfless', 'sell', 'seller', 'sellers', 'selling', 'sem', 'semantic', 'semantics', 'semester', 'semi', 'seminar', 'seminars', 'send', 'sending', 'senior', 'seniority', 'sense', 'sensing', 'sensitive', 'sensitivity', 'sensor', 'sensors', 'sensory', 'sentiment', 'seo', 'separated', 'separating', 'sequence', 'sequencing', 'sequential', 'serializing', 'series', 'serious', 'seriously', 'serta', 'serve', 'served', 'serveng', 'server', 'servers', 'serves', 'service', 'servicenow', 'services', 'servicing', 'serving', 'sessions', 'set', 'sets', 'setsprovide', 'setting', 'settings', 'settle', 'setup', 'seven', 'seventh', 'several', 'sex', 'sexual', 'sf', 'sf1', 'sfdc', 'shake', 'shaking', 'shape', 'shapes', 'shaping', 'share', 'shared', 'shareholders', 'sharepoint', 'shares', 'sharing', 'sharp', 'sharpen', 'sharpening', 'shaw', 'she', 'sheets', 'shell', 'shepherding', 'shield', 'shift', 'shining', 'shiny', 'ship', 'shipped', 'shipping', 'shirt', 'shirts', 'shocks', 'shogun', 'shooting', 'shop', 'shopper', 'shoppers', 'shopping', 'shops', 'shorelines', 'shorenstein', 'short', 'shortlist', 'shorts', 'shot', 'should', 'shoulders', 'shouldn', 'show', 'showcase', 'shower', 'showing', 'shown', 'shows', 'shy', 'siamese', 'sick', 'side', 'sided', 'sifts', 'sightseeing', 'sigir', 'sign', 'signal', 'signalfire', 'signals', 'signed', 'significance', 'significanceexperience', 'significanceprovide', 'significant', 'significantly', 'signs', 'silicon', 'silos', 'silverrail', 'similar', 'similarities', 'similarity', 'similarly', 'similiar', 'simmons', 'simple', 'simplerleading', 'simplest', 'simplicity', 'simplified', 'simplify', 'simplifying', 'simply', 'simulate', 'simulation', 'simulations', 'simultaneous', 'simultaneousl', 'simultaneously', 'since', 'sincere', 'sincerely', 'singapore', 'single', 'singular', 'singularly', 'sisense', 'sister', 'sit', 'site', 'sites', 'sits', 'sitting', 'situation', 'situations', 'six', 'sixleaf', 'sizable', 'size', 'sizeable', 'sized', 'sizes', 'sizing', 'skepticism', 'skill', 'skilled', 'skillful', 'skills', 'skillset', 'skillsexcellent', 'skillsproficiency', 'skillsstrong', 'skillssuperior', 'sklearn', 'sky', 'skype', 'skyrocketed', 'sl', 'slack', 'sleep', 'sleeptracker', 'sleeves', 'slide', 'slides', 'slowing', 'slq', 'slync', 'sm', 'small', 'smaller', 'smart', 'smartbed', 'smarter', 'smartest', 'smartview', 'sme', 'smes', 'smile', 'smiles', 'smoke', 'smooth', 'smoothly', 'sms', 'sn1', 'snacks', 'snag', 'snapchat', 'snc', 'sne', 'snowflake', 'so', 'soak', 'soap', 'social', 'socialize', 'socializing', 'socials', 'societal', 'societas', 'societies', 'society', 'socioeconomic', 'sociology', 'sociotechnical', 'sockeye', 'socure', 'sofia', 'softbank', 'softly', 'softvision', 'software', 'soho', 'soil', 'sojern', 'sold', 'sole', 'solely', 'solicit', 'solid', 'solidifying', 'solo', 'solopreneurs', 'solr', 'solution', 'solutioning', 'solutions', 'solutionsdemonstrated', 'solvable', 'solve', 'solved', 'solver', 'solvers', 'solves', 'solving', 'som', 'some', 'somebody', 'someone', 'something', 'sometimes', 'sonoma', 'sony', 'soon', 'sophisticated', 'sophistication', 'sops', 'sought', 'sound', 'soundcloud', 'sounds', 'source', 'sourced', 'sources', 'sourcescleanses', 'sourcessupport', 'sourcing', 'south', 'southeast', 'space', 'spaceflight', 'spaces', 'spacy', 'spam', 'span', 'spanish', 'spanning', 'spans', 'sparing', 'spark', 'sparkexperience', 'sparkfund', 'sparkml', 'sparkr', 'sparql', 'sparse', 'spatial', 'speak', 'speaker', 'speaking', 'speaks', 'spearhead', 'special', 'specialist', 'specialists', 'specialities', 'specialization', 'specializations', 'specialize', 'specialized', 'specializes', 'specializing', 'specially', 'specialty', 'specific', 'specifically', 'specification', 'specifications', 'specified', 'specify', 'specifying', 'specs', 'spectral', 'spectrum', 'speech', 'speed', 'spend', 'spending', 'spends', 'spent', 'speyer', 'spglobal', 'spicy', 'spin', 'spinoff', 'spirit', 'spirt', 'split', 'splunk', 'spoc', 'spoken', 'spokesperson', 'sponsor', 'sponsored', 'sponsoring', 'sponsors', 'sponsorship', 'sport', 'sporting', 'sports', 'spot', 'spotfire', 'spotify', 'spreadsheet', 'spring', 'springfield', 'springs', 'sprint', 'sps', 'spss', 'sql', 'sqlproficient', 'sqoop', 'square', 'squarely', 'squares', 'squarespace', 'squareup', 'sr', 'srilm', 'ssa', 'ssas', 'ssh', 'ssis', 'ssu', 'st', 'stability', 'stable', 'stack', 'stacked', 'stackoverflow', 'stacks', 'stadium', 'staff', 'staffed', 'staffing', 'stage', 'stages', 'stake', 'stakeholder', 'stakeholders', 'stalking', 'stan', 'stand', 'standalone', 'standard', 'standardize', 'standardized', 'standards', 'standing', 'standpoint', 'stanford', 'stanley', 'stanza', 'staples', 'star', 'stardog', 'start', 'started', 'starter', 'starters', 'starting', 'starts', 'startup', 'startups', 'stat', 'stata', 'state', 'stated', 'statement', 'statements', 'states', 'statewide', 'static', 'station', 'stationless', 'stations', 'statistic', 'statistica', 'statistical', 'statistically', 'statisticians', 'statistics', 'stats', 'statsmodels', 'status', 'statusfull', 'stay', 'staying', 'stays', 'steaks', 'stem', 'step', 'stephanie', 'steps', 'stereotypes', 'steward', 'stewarding', 'stewardship', 'sticks', 'still', 'stimulating', 'stipend', 'stitch', 'stitching', 'stochastic', 'stock', 'stocked', 'stone', 'stoop', 'stop', 'storage', 'storages', 'store', 'stored', 'stores', 'stories', 'storing', 'storm', 'story', 'storycapacity', 'storyteller', 'storytelling', 'straight', 'strain', 'strategic', 'strategically', 'strategics', 'strategies', 'strategiesdevelop', 'strategiesdocumenting', 'strategists', 'strategizes', 'strategy', 'stream', 'streaming', 'streamline', 'streamlined', 'streamlines', 'streams', 'streeam', 'street', 'streets', 'strength', 'strengthen', 'strengthening', 'strengths', 'stress', 'stretch', 'strict', 'strides', 'strings', 'strive', 'strives', 'striving', 'strong', 'stronger', 'strongest', 'strongly', 'structural', 'structure', 'structured', 'structures', 'structuring', 'struggle', 'student', 'students', 'studies', 'studio', 'studios', 'study', 'studying', 'stuff', 'stunning', 'stupid', 'style', 'styles', 'styling', 'stylish', 'stylist', 'stylists', 'sub', 'subcontractor', 'subcontracts', 'subcultures', 'subgroups', 'subject', 'subjective', 'submission', 'submissions', 'submit', 'submitted', 'subordinate', 'subordinates', 'subscriber', 'subscribers', 'subscription', 'subscriptions', 'subsequent', 'subsequently', 'subsidiaries', 'subsidiary', 'substance', 'substances', 'substantial', 'substitute', 'substituted', 'subsurface', 'subtle', 'suburban', 'succeed', 'succeeding', 'success', 'successes', 'successful', 'successfully', 'succinctly', 'such', 'sudden', 'suffering', 'sufficient', 'sugar', 'suggest', 'suggestion', 'suggestions', 'suitability', 'suitable', 'suite', 'suited', 'suites', 'sum', 'summaries', 'summarization', 'summarizations', 'summarize', 'summarizes', 'summarizing', 'summary', 'summer', 'summit', 'sunny', 'sunnyvale', 'superficially', 'superior', 'supervised', 'supervision', 'supervisor', 'supervisors', 'supervisory', 'supplement', 'supplementary', 'suppliers', 'supplies', 'supply', 'support', 'supported', 'supporting', 'supportive', 'supports', 'sure', 'surface', 'surfaces', 'surfacing', 'surgeons', 'surgeries', 'surgery', 'surgical', 'surprised', 'surprising', 'surrounded', 'surrounding', 'surroundings', 'survey', 'surveys', 'survival', 'sustain', 'sustainability', 'sustainable', 'sustainably', 'sustained', 'svb', 'svm', 'svms', 'svn', 'svp', 'sw', 'swagger', 'swapnil', 'sweat', 'sweden', 'swells', 'swift', 'switch', 'switching', 'swoodoo', 'sycamore', 'sydney', 'symbol', 'sync', 'syndicated', 'synergies', 'synergy', 'syntactic', 'synthesis', 'synthesize', 'synthesized', 'synthesizes', 'synthesizing', 'system', 'systematic', 'systematically', 'systemic', 'systems', 'systemsbuild', 'systemsproficiency', 't2t', 'table', 'tableau', 'tables', 'tabulate', 'tackle', 'tackles', 'tackling', 'taco', 'tactic', 'tactical', 'tactically', 'tactics', 'tag', 'tagging', 'tagline', 'tail', 'tailor', 'tailored', 'take', 'takecareof', 'taken', 'takes', 'taking', 'talent', 'talentacquisition', 'talented', 'talents', 'talk', 'talking', 'talks', 'talksa', 'tangible', 'tank', 'tap', 'tapingo', 'tapping', 'target', 'targeted', 'targeting', 'task', 'tasked', 'tasking', 'tasks', 'taught', 'tax', 'taxa', 'taxes', 'taxonomy', 'tb', 'tcs', 'teach', 'teacher', 'teachers', 'teaching', 'team', 'teamed', 'teamextremely', 'teammate', 'teammates', 'teams', 'teamsexperience', 'teamsto', 'teamstrong', 'teamwork', 'tech', 'techcrunch', 'technical', 'technically', 'technics', 'technique', 'techniques', 'techniquesrecommend', 'technological', 'technologically', 'technologies', 'technologiesstay', 'technologist', 'technologists', 'technology', 'technologymanage', 'telco', 'telecom', 'telecommunication', 'telecommunications', 'telecommute', 'telecommuter', 'telecommuters', 'telecommuting', 'telemetry', 'telephone', 'television', 'tell', 'telling', 'tells', 'temp', 'tempe', 'templates', 'temporal', 'temporary', 'ten', 'tennis', 'tens', 'tensor', 'tensorflow', 'tenure', 'terabyte', 'terabytes', 'teradata', 'teradataexcellent', 'term', 'termimpact', 'terminal', 'termination', 'terminology', 'terminologyability', 'terminologyworks', 'terms', 'territories', 'territory', 'test', 'testable', 'tested', 'testing', 'tests', 'texas', 'text', 'textbooks', 'textio', 'texts', 'textual', 'tf', 'th', 'than', 'thank', 'thanks', 'that', 'the', 'theano', 'theft', 'their', 'them', 'theme', 'themselves', 'themwe', 'then', 'theorem', 'theoretical', 'theories', 'theorist', 'theory', 'therapeutic', 'therapeutics', 'therapies', 'therapist', 'there', 'thereafterclass', 'thereby', 'therefore', 'these', 'thesis', 'they', 'thing', 'things', 'think', 'thinker', 'thinkers', 'thinkerswe', 'thinking', 'thinks', 'third', 'this', 'thorough', 'thoroughly', 'those', 'though', 'thought', 'thoughtful', 'thousand', 'thousands', 'threat', 'threats', 'three', 'thresholds', 'thrill', 'thrilled', 'thrilling', 'thrive', 'thrives', 'thriving', 'through', 'throughout', 'throughput', 'thru', 'thursday', 'thus', 'tibco', 'tick', 'ticker', 'ticket', 'tickets', 'tide', 'tidy', 'tidyr', 'tidyverse', 'tie', 'tied', 'tier', 'ties', 'tight', 'tightly', 'time', 'timeclass', 'timecontractor', 'timeframe', 'timeline', 'timelines', 'timeliness', 'timely', 'timeqxbranch', 'times', 'timethe', 'tinker', 'tinton', 'tiny', 'tips', 'tirelessly', 'tishman', 'titan', 'title', 'tl1', 'tm', 'tmus', 'tn', 'to', 'tobacco', 'today', 'together', 'tokenization', 'tokyo', 'tolerance', 'tolerate', 'tolerated', 'tomorrow', 'tonnes', 'tons', 'too', 'took', 'tool', 'toolboxes', 'tooling', 'toolkit', 'toolkits', 'tools', 'toolset', 'toolssolid', 'top', 'topic', 'topics', 'topline', 'torch', 'total', 'totaling', 'touch', 'touches', 'touching', 'touchpoint', 'touchpoints', 'tough', 'toughest', 'tour', 'tournaments', 'tours', 'toward', 'towards', 'towers', 'town', 'toxic', 'toyota', 'track', 'tracked', 'tracking', 'traction', 'trade', 'traded', 'trademark', 'trademarks', 'tradeoffs', 'trading', 'traditional', 'traditionally', 'traffic', 'trail', 'trailblazers', 'train', 'trained', 'training', 'trainingexecuting', 'trainings', 'traits', 'transacting', 'transaction', 'transactional', 'transactions', 'transfer', 'transferable', 'transferring', 'transfers', 'transform', 'transformation', 'transformational', 'transformations', 'transformationsas', 'transformative', 'transforming', 'transforms', 'transgender', 'transit', 'transition', 'transitioning', 'translate', 'translates', 'translating', 'translation', 'transliteration', 'transmission', 'transparency', 'transparent', 'transparently', 'transportation', 'travel', 'traveldoo', 'traveler', 'travelers', 'traveling', 'travelocity', 'travelu', 'traversing', 'treading', 'treat', 'treated', 'treating', 'treatment', 'treatments', 'tree', 'trees', 'tremendous', 'tremendously', 'trend', 'trending', 'trends', 'trendsanalyzing', 'tri', 'triage', 'trial', 'trials', 'tribe', 'tries', 'triggers', 'trillion', 'trilogy', 'trip', 'triple', 'trips', 'trivago', 'trivally', 'trivial', 'trouble', 'troubleshoot', 'troubleshooting', 'troves', 'truck', 'trucking', 'trucks', 'true', 'truly', 'trust', 'trusted', 'trusting', 'truth', 'try', 'trying', 'ts', 'tsql', 'tuesday', 'tuition', 'tune', 'tuning', 'turn', 'turnaround', 'turned', 'turning', 'turns', 'tv', 'tvs', 'tweak', 'twelve', 'twilio', 'twitter', 'two', 'tx', 'type', 'types', 'typescript', 'typical', 'typically', 'uber', 'uberpool', 'uberx', 'uc', 'udacity', 'ui', 'uild', 'ukraine', 'ulta', 'ultimate', 'ultimately', 'un', 'unable', 'unaided', 'unanticipated', 'unapproved', 'unasked', 'unauthorized', 'unavailable', 'unbelievably', 'unbiased', 'uncertainty', 'uncharted', 'uncleansed', 'uncommon', 'uncommongoods', 'unconventional', 'uncover', 'uncovering', 'undefined', 'under', 'underbelly', 'undergoing', 'undergradinternships', 'undergraduate', 'underlies', 'underlying', 'underneath', 'underperforming', 'underpin', 'underpinnings', 'underrepresented', 'understand', 'understandable', 'understanding', 'understands', 'understood', 'undertake', 'undertaken', 'undertaking', 'underwriting', 'undue', 'unearth', 'unemployment', 'unexpected', 'unfamiliar', 'unfurnished', 'unicorns', 'unified', 'uniformed', 'uniformity', 'unify', 'unimagined', 'union', 'unions', 'unique', 'uniquely', 'uniqueness', 'unison', 'unit', 'united', 'unitedhealth', 'unites', 'units', 'univariate', 'universal', 'universally', 'universe', 'universities', 'university', 'unix', 'unknown', 'unknowns', 'unl', 'unlawful', 'unleashing', 'unless', 'unlikely', 'unlimited', 'unlock', 'unlocking', 'unlocks', 'unmatched', 'unmet', 'unnecessary', 'unparalleled', 'unprecedented', 'unpredictable', 'unquestioned', 'unrelated', 'unrivaled', 'unsecured', 'unseen', 'unsolicited', 'unsolved', 'unstructured', 'unsupervised', 'untapped', 'until', 'unusually', 'unwavering', 'unwilling', 'unwind', 'up', 'upbeat', 'upcoming', 'update', 'updated', 'updates', 'updating', 'upfront', 'upgrade', 'upgrades', 'upholding', 'uploaded', 'upon', 'upper', 'upside', 'upstream', 'uptick', 'urban', 'urgency', 'urgent', 'urgently', 'us', 'us_employment_compliance', 'usa', 'usaa', 'usable', 'usage', 'usd', 'use', 'used', 'useful', 'usemploymentcompliance', 'user', 'users', 'uses', 'usher', 'usinfosys', 'using', 'usingprogramming', 'usstratcom', 'ustranscom', 'usually', 'utah', 'utica', 'utilities', 'utility', 'utilization', 'utilize', 'utilized', 'utilizes', 'utilizing', 'utilizingapplicable', 'utm_medium', 'utm_source', 'ux', 'v1', 'va', 'vacancies', 'vacation', 'vacations', 'vague', 'valid', 'validate', 'validated', 'validating', 'validation', 'validationexperience', 'validity', 'valley', 'valuable', 'value', 'valued', 'values', 'vanishing', 'variable', 'variables', 'variance', 'variancecollaborate', 'variation', 'variational', 'varied', 'varies', 'variety', 'various', 'vary', 'varying', 'vast', 'vastly', 'vba', 'vc', 'vcs', 've', 'vector', 'vectorizing', 'vectors', 'vehicle', 'vehicles', 'velocity', 'vendor', 'vendors', 'venrock', 'venture', 'ventures', 'verb', 'verbal', 'verbally', 'verification', 'verified', 'verifies', 'verify', 'verifying', 'verily', 'verizon', 'vermont', 'versa', 'versant', 'versatile', 'versatility', 'versed', 'version', 'versioning', 'versus', 'vertica', 'vertical', 'verticals', 'very', 'vet', 'veteran', 'veterans', 'vets', 'vh1', 'via', 'viability', 'viable', 'viacom', 'viagogo', 'vibrant', 'vice', 'victim', 'victories', 'video', 'videoiq', 'videos', 'view', 'viewability', 'viewable', 'viewer', 'viewers', 'viewing', 'viewpoints', 'views', 'vigilant', 'village', 'violate', 'violations', 'violence', 'virginia', 'virtual', 'virtualization', 'virtually', 'virtue', 'virtues', 'viruses', 'visa', 'visas', 'visibility', 'visible', 'vision', 'visionaries', 'visionary', 'visionpush', 'visit', 'visitation', 'visiting', 'visits', 'visual', 'visualisations', 'visualization', 'visualizations', 'visualizationsexperience', 'visualizationstrong', 'visualize', 'visualizes', 'visualizing', 'visually', 'visuals', 'vital', 'vitamin', 'vitamins', 'vizio', 'vlookup', 'vms', 'vmware', 'voice', 'voices', 'voiding', 'volume', 'volumes', 'volunteer', 'volunteering', 'volunteerism', 'vosb', 'voscal', 'vowpal', 'vp', 'vps', 'vr', 'vs', 'vudu', 'w2', 'wa', 'wabbit', 'wacker', 'wagging', 'wait', 'waiting', 'waitr', 'waitrapp', 'wakefield', 'walk', 'walking', 'wall', 'walled', 'wallet', 'walls', 'walmart', 'walmartlabs', 'want', 'wanted', 'wants', 'warehouse', 'warehouses', 'warehousing', 'warehousingdata', 'warn', 'warner', 'warning', 'warrant', 'warranties', 'warranty', 'warrior', 'was', 'washington', 'waste', 'water', 'waterfall', 'waterfront', 'waters', 'watershed', 'watson', 'waukesha', 'wave', 'way', 'ways', 'wdatpeppres', 'wdatpred', 'we', 'weaklings', 'wealth', 'wear', 'wearable', 'weather', 'web', 'webrtc', 'webscraping', 'website', 'websites', 'websockets', 'wednesday', 'wednesdays', 'week', 'weekday', 'weekends', 'weekly', 'weeks', 'weighted', 'weka', 'welcome', 'welcomed', 'welcomes', 'welcoming', 'welding', 'well', 'wellbeing', 'wellness', 'were', 'west', 'westlake', 'westrock', 'wetlands', 'wework', 'wfh', 'wfs', 'what', 'whatever', 'whatsapp', 'whd', 'when', 'whenever', 'where', 'wherever', 'whether', 'which', 'while', 'whilst', 'white', 'whiz', 'who', 'whole', 'wholesome', 'wholly', 'whom', 'whose', 'why', 'wide', 'widely', 'wider', 'widespread', 'wild', 'wildlife', 'will', 'williams', 'willing', 'willingness', 'win', 'windowing', 'windows', 'winners', 'winning', 'wipro', 'wire', 'wireless', 'wireline', 'wisconsin', 'wisdom', 'wish', 'with', 'withdraw', 'within', 'without', 'wizard', 'wm', 'wolferman', 'women', 'won', 'worcester', 'word', 'word2vec', 'words', 'work', 'workday', 'worked', 'worker', 'workers', 'workersdevelop', 'workflow', 'workflows', 'workforce', 'working', 'workings', 'workload', 'workplace', 'works', 'workshops', 'workspace', 'world', 'worldgrid', 'worldline', 'worldwide', 'worth', 'wotif', 'would', 'wrangle', 'wrangler', 'wrangling', 'wrapped', 'write', 'writers', 'writing', 'written', 'writtenproven', 'wrk', 'wwe', 'www', 'x80', 'x81ciency', 'x81eld', 'x81nd', 'x81ndings', 'x81table', 'x82', 'x83', 'x84', 'x8bthis', 'x8bwe', 'x90if', 'x90paced', 'x93', 'x93august', 'x93minorities', 'x94', 'x9414', 'x94a', 'x94and', 'x94by', 'x94combined', 'x94cryptocurrencies', 'x94e', 'x94have', 'x94how', 'x94including', 'x94is', 'x94it', 'x94no', 'x94not', 'x94stands', 'x94such', 'x94supporting', 'x94the', 'x94to', 'x94typically', 'x94unlocking', 'x94we', 'x94you', 'x98', 'x98big', 'x98own', 'x98real', 'x98think', 'x99', 'x99d', 'x99ll', 'x99re', 'x99s', 'x99t', 'x99ve', 'x9c', 'x9cbang', 'x9cbest', 'x9cbig', 'x9cchristmas', 'x9ccustomer', 'x9cget', 'x9chave', 'x9chr', 'x9cinnovate', 'x9clive', 'x9cmachine', 'x9cmake', 'x9cpassion', 'x9cpeople', 'x9cplant', 'x9cpragmatism', 'x9cprovide', 'x9cquality', 'x9creasonable', 'x9crivr', 'x9cscientific', 'x9cscorecards', 'x9cstem', 'x9cstorytelling', 'x9csubject', 'x9csurge', 'x9cteam', 'x9cthe', 'x9ctop', 'x9ctraditional', 'x9cvirtual', 'x9cwe', 'x9cwhole', 'x9cwhy', 'x9cwin', 'x9cwork', 'x9cwow', 'x9cwowing', 'x9d', 'xa0', 'xa2', 'xa6', 'xa6and', 'xa6apple', 'xa6curious', 'xa6protect', 'xa6rapidly', 'xa7', 'xa8ve', 'xa9', 'xa9al', 'xa9cor', 'xac', 'xae', 'xafve', 'xb7', 'xb7experience', 'xb7identify', 'xb7knowledge', 'xbb', 'xbf', 'xbox', 'xc2', 'xc3', 'xe2', 'xef', 'xgboost', 'xp', 'xpo', 'xs', 'xscommissionat', 'xscontract1', 'xscontract6', 'xscontractakraya', 'xscontractdata', 'xscontractjob', 'xscontractthe', 'xscontractunder', 'xscontractwe', 'xsinternshipabout', 'xsinternshipas', 'xsinternshipat', 'xsinternshipclass', 'xsinternshipdata', 'xsinternshipgreater', 'xsinternshipit', 'xsinternshipjob', 'xsinternshipour', 'xsinternshipoverview', 'xsinternshipposition', 'xsinternshipthe', 'xsinternshipwe', 'xsinternshipwhat', 'xsinternshipwho', 'xsinternshipwith', 'xsotherabout', 'xsotherdue', 'xspart', 'xstemporary', 'yards', 'year', 'yearaa', 'yearaas', 'yearaclass', 'yearacollects', 'yearadescription', 'yearajob', 'yearalrs', 'yearathe', 'yearatitle', 'yearaworking', 'years', 'yearsexperience', 'yes', 'yet', 'yeti', 'yield', 'york', 'you', 'young', 'your', 'yours', 'yourself', 'youtube', 'yrs', 'zenreach', 'zero', 'zeus', 'zf', 'zheng', 'zillow', 'zones', 'zoom', 'zuckerberg', 'zurich']\n"
     ]
    }
   ],
   "source": [
    "print(vect.get_feature_names())"
   ]
  },
  {
   "cell_type": "code",
   "execution_count": 97,
   "metadata": {},
   "outputs": [
    {
     "data": {
      "text/plain": [
       "0     [job, requirementsnconceptual, understanding, ...\n",
       "1     [job, descriptionnnas, a, data, scientist, 1, ...\n",
       "2     [as, a, data, scientist, you, will, be, workin...\n",
       "3     [c, icluxsmbmd, citem, n, classicluxsmrxs4969,...\n",
       "4     [location, usa, xe2x80x93, multiple, locations...\n",
       "5     [create, various, business, intelligence, anal...\n",
       "6     [as, spotify, premium, swells, to, over, 96m, ...\n",
       "7     [everytown, for, gun, safety, the, nations, la...\n",
       "8     [ms, in, a, quantitative, discipline, such, as...\n",
       "9     [slack, is, hiring, experienced, data, scienti...\n",
       "10    [who, we, arenblackthorn, therapeutics, is, a,...\n",
       "11    [c, icluxsmbmd, citem, icluxsmtxsparttimeclass...\n",
       "12    [nfosysxe2x80x93, data, amp, analytics, xe2x80...\n",
       "13    [as, spotify, premium, swells, to, over, 96m, ...\n",
       "14    [experience, with, guiding, rampd, strategy, f...\n",
       "15    [the, atlantic, is, seeking, a, data, scientis...\n",
       "16    [the, challengeneventbrite, is, big, bustling,...\n",
       "17    [c, icluxsmbmd, citem, icluxsmtxscontractwe, a...\n",
       "18    [everytown, for, gun, safety, the, nations, la...\n",
       "19    [c, icluxsmbmd, citem, n, classicluxsmrxs70000...\n",
       "20    [c, icluxsmbmd, citem, n, classicluxsmrxs45000...\n",
       "21    [the, challengenare, you, excited, at, the, pr...\n",
       "22    [we, are, seeking, a, data, scientist, to, joi...\n",
       "23    [motiion, is, a, technology, and, data, compan...\n",
       "24    [the, scientist, is, responsible, for, the, sc...\n",
       "Name: tokens, dtype: object"
      ]
     },
     "execution_count": 97,
     "metadata": {},
     "output_type": "execute_result"
    }
   ],
   "source": [
    "indeed['tokens'][:25]"
   ]
  },
  {
   "cell_type": "code",
   "execution_count": 98,
   "metadata": {},
   "outputs": [
    {
     "ename": "AttributeError",
     "evalue": "'DataFrame' object has no attribute 'todense'",
     "output_type": "error",
     "traceback": [
      "\u001b[1;31m---------------------------------------------------------------------------\u001b[0m",
      "\u001b[1;31mAttributeError\u001b[0m                            Traceback (most recent call last)",
      "\u001b[1;32m<ipython-input-98-c2427fbec5b3>\u001b[0m in \u001b[0;36m<module>\u001b[1;34m\u001b[0m\n\u001b[1;32m----> 1\u001b[1;33m \u001b[0mdtm\u001b[0m\u001b[1;33m.\u001b[0m\u001b[0mtodense\u001b[0m\u001b[1;33m(\u001b[0m\u001b[1;33m)\u001b[0m\u001b[1;33m\u001b[0m\u001b[0m\n\u001b[0m",
      "\u001b[1;32m~\\Anaconda3\\envs\\U4-S1-NLP\\lib\\site-packages\\pandas\\core\\generic.py\u001b[0m in \u001b[0;36m__getattr__\u001b[1;34m(self, name)\u001b[0m\n\u001b[0;32m   5128\u001b[0m             \u001b[1;32mif\u001b[0m \u001b[0mself\u001b[0m\u001b[1;33m.\u001b[0m\u001b[0m_info_axis\u001b[0m\u001b[1;33m.\u001b[0m\u001b[0m_can_hold_identifiers_and_holds_name\u001b[0m\u001b[1;33m(\u001b[0m\u001b[0mname\u001b[0m\u001b[1;33m)\u001b[0m\u001b[1;33m:\u001b[0m\u001b[1;33m\u001b[0m\u001b[0m\n\u001b[0;32m   5129\u001b[0m                 \u001b[1;32mreturn\u001b[0m \u001b[0mself\u001b[0m\u001b[1;33m[\u001b[0m\u001b[0mname\u001b[0m\u001b[1;33m]\u001b[0m\u001b[1;33m\u001b[0m\u001b[0m\n\u001b[1;32m-> 5130\u001b[1;33m             \u001b[1;32mreturn\u001b[0m \u001b[0mobject\u001b[0m\u001b[1;33m.\u001b[0m\u001b[0m__getattribute__\u001b[0m\u001b[1;33m(\u001b[0m\u001b[0mself\u001b[0m\u001b[1;33m,\u001b[0m \u001b[0mname\u001b[0m\u001b[1;33m)\u001b[0m\u001b[1;33m\u001b[0m\u001b[0m\n\u001b[0m\u001b[0;32m   5131\u001b[0m \u001b[1;33m\u001b[0m\u001b[0m\n\u001b[0;32m   5132\u001b[0m     \u001b[1;32mdef\u001b[0m \u001b[0m__setattr__\u001b[0m\u001b[1;33m(\u001b[0m\u001b[0mself\u001b[0m\u001b[1;33m,\u001b[0m \u001b[0mname\u001b[0m\u001b[1;33m:\u001b[0m \u001b[0mstr\u001b[0m\u001b[1;33m,\u001b[0m \u001b[0mvalue\u001b[0m\u001b[1;33m)\u001b[0m \u001b[1;33m->\u001b[0m \u001b[1;32mNone\u001b[0m\u001b[1;33m:\u001b[0m\u001b[1;33m\u001b[0m\u001b[0m\n",
      "\u001b[1;31mAttributeError\u001b[0m: 'DataFrame' object has no attribute 'todense'"
     ]
    }
   ],
   "source": [
    "dtm.todense()"
   ]
  },
  {
   "cell_type": "markdown",
   "metadata": {},
   "source": [
    "### CountVectorizer with Spacy Processing"
   ]
  },
  {
   "cell_type": "code",
   "execution_count": 99,
   "metadata": {},
   "outputs": [],
   "source": [
    "\n",
    "from sklearn.feature_extraction.text import CountVectorizer\n",
    "\n",
    "vect = CountVectorizer(stop_words='english', max_features=1000)\n",
    "\n",
    "#Learn our Vocab\n",
    "vect.fit(indeed['description'])\n",
    "\n",
    "# Get sparse dtm\n",
    "dtm = vect.transform(indeed['description'])\n",
    "\n",
    "dtm = pd.DataFrame(dtm.todense(), columns=vect.get_feature_names())"
   ]
  },
  {
   "cell_type": "code",
   "execution_count": 100,
   "metadata": {},
   "outputs": [
    {
     "data": {
      "text/html": [
       "<div>\n",
       "<style scoped>\n",
       "    .dataframe tbody tr th:only-of-type {\n",
       "        vertical-align: middle;\n",
       "    }\n",
       "\n",
       "    .dataframe tbody tr th {\n",
       "        vertical-align: top;\n",
       "    }\n",
       "\n",
       "    .dataframe thead th {\n",
       "        text-align: right;\n",
       "    }\n",
       "</style>\n",
       "<table border=\"1\" class=\"dataframe\">\n",
       "  <thead>\n",
       "    <tr style=\"text-align: right;\">\n",
       "      <th></th>\n",
       "      <th>000</th>\n",
       "      <th>10</th>\n",
       "      <th>100</th>\n",
       "      <th>2019</th>\n",
       "      <th>40</th>\n",
       "      <th>abilities</th>\n",
       "      <th>ability</th>\n",
       "      <th>able</th>\n",
       "      <th>academic</th>\n",
       "      <th>access</th>\n",
       "      <th>...</th>\n",
       "      <th>xae</th>\n",
       "      <th>xb7</th>\n",
       "      <th>xbb</th>\n",
       "      <th>xc2</th>\n",
       "      <th>xe2</th>\n",
       "      <th>xef</th>\n",
       "      <th>xs</th>\n",
       "      <th>year</th>\n",
       "      <th>years</th>\n",
       "      <th>york</th>\n",
       "    </tr>\n",
       "  </thead>\n",
       "  <tbody>\n",
       "    <tr>\n",
       "      <th>0</th>\n",
       "      <td>0</td>\n",
       "      <td>0</td>\n",
       "      <td>0</td>\n",
       "      <td>0</td>\n",
       "      <td>0</td>\n",
       "      <td>0</td>\n",
       "      <td>1</td>\n",
       "      <td>0</td>\n",
       "      <td>0</td>\n",
       "      <td>0</td>\n",
       "      <td>...</td>\n",
       "      <td>0</td>\n",
       "      <td>0</td>\n",
       "      <td>0</td>\n",
       "      <td>1</td>\n",
       "      <td>0</td>\n",
       "      <td>0</td>\n",
       "      <td>0</td>\n",
       "      <td>0</td>\n",
       "      <td>0</td>\n",
       "      <td>0</td>\n",
       "    </tr>\n",
       "    <tr>\n",
       "      <th>1</th>\n",
       "      <td>0</td>\n",
       "      <td>0</td>\n",
       "      <td>0</td>\n",
       "      <td>0</td>\n",
       "      <td>0</td>\n",
       "      <td>0</td>\n",
       "      <td>1</td>\n",
       "      <td>0</td>\n",
       "      <td>0</td>\n",
       "      <td>0</td>\n",
       "      <td>...</td>\n",
       "      <td>0</td>\n",
       "      <td>0</td>\n",
       "      <td>0</td>\n",
       "      <td>0</td>\n",
       "      <td>8</td>\n",
       "      <td>0</td>\n",
       "      <td>0</td>\n",
       "      <td>1</td>\n",
       "      <td>0</td>\n",
       "      <td>0</td>\n",
       "    </tr>\n",
       "    <tr>\n",
       "      <th>2</th>\n",
       "      <td>0</td>\n",
       "      <td>0</td>\n",
       "      <td>0</td>\n",
       "      <td>0</td>\n",
       "      <td>0</td>\n",
       "      <td>0</td>\n",
       "      <td>0</td>\n",
       "      <td>0</td>\n",
       "      <td>0</td>\n",
       "      <td>0</td>\n",
       "      <td>...</td>\n",
       "      <td>0</td>\n",
       "      <td>0</td>\n",
       "      <td>0</td>\n",
       "      <td>0</td>\n",
       "      <td>0</td>\n",
       "      <td>0</td>\n",
       "      <td>0</td>\n",
       "      <td>0</td>\n",
       "      <td>0</td>\n",
       "      <td>0</td>\n",
       "    </tr>\n",
       "    <tr>\n",
       "      <th>3</th>\n",
       "      <td>0</td>\n",
       "      <td>0</td>\n",
       "      <td>0</td>\n",
       "      <td>0</td>\n",
       "      <td>0</td>\n",
       "      <td>0</td>\n",
       "      <td>0</td>\n",
       "      <td>0</td>\n",
       "      <td>0</td>\n",
       "      <td>0</td>\n",
       "      <td>...</td>\n",
       "      <td>0</td>\n",
       "      <td>0</td>\n",
       "      <td>0</td>\n",
       "      <td>0</td>\n",
       "      <td>0</td>\n",
       "      <td>0</td>\n",
       "      <td>4</td>\n",
       "      <td>1</td>\n",
       "      <td>0</td>\n",
       "      <td>0</td>\n",
       "    </tr>\n",
       "    <tr>\n",
       "      <th>4</th>\n",
       "      <td>0</td>\n",
       "      <td>0</td>\n",
       "      <td>0</td>\n",
       "      <td>0</td>\n",
       "      <td>0</td>\n",
       "      <td>0</td>\n",
       "      <td>0</td>\n",
       "      <td>0</td>\n",
       "      <td>0</td>\n",
       "      <td>0</td>\n",
       "      <td>...</td>\n",
       "      <td>0</td>\n",
       "      <td>0</td>\n",
       "      <td>0</td>\n",
       "      <td>0</td>\n",
       "      <td>1</td>\n",
       "      <td>0</td>\n",
       "      <td>0</td>\n",
       "      <td>0</td>\n",
       "      <td>1</td>\n",
       "      <td>0</td>\n",
       "    </tr>\n",
       "  </tbody>\n",
       "</table>\n",
       "<p>5 rows × 1000 columns</p>\n",
       "</div>"
      ],
      "text/plain": [
       "   000  10  100  2019  40  abilities  ability  able  academic  access  ...  \\\n",
       "0    0   0    0     0   0          0        1     0         0       0  ...   \n",
       "1    0   0    0     0   0          0        1     0         0       0  ...   \n",
       "2    0   0    0     0   0          0        0     0         0       0  ...   \n",
       "3    0   0    0     0   0          0        0     0         0       0  ...   \n",
       "4    0   0    0     0   0          0        0     0         0       0  ...   \n",
       "\n",
       "   xae  xb7  xbb  xc2  xe2  xef  xs  year  years  york  \n",
       "0    0    0    0    1    0    0   0     0      0     0  \n",
       "1    0    0    0    0    8    0   0     1      0     0  \n",
       "2    0    0    0    0    0    0   0     0      0     0  \n",
       "3    0    0    0    0    0    0   4     1      0     0  \n",
       "4    0    0    0    0    1    0   0     0      1     0  \n",
       "\n",
       "[5 rows x 1000 columns]"
      ]
     },
     "execution_count": 100,
     "metadata": {},
     "output_type": "execute_result"
    }
   ],
   "source": [
    "dtm.head()"
   ]
  },
  {
   "cell_type": "code",
   "execution_count": null,
   "metadata": {},
   "outputs": [],
   "source": []
  },
  {
   "cell_type": "markdown",
   "metadata": {
    "colab_type": "text",
    "id": "Zo1iH_UeY7_n"
   },
   "source": [
    "## 4) Visualize the most common word counts"
   ]
  },
  {
   "cell_type": "code",
   "execution_count": null,
   "metadata": {
    "colab": {},
    "colab_type": "code",
    "id": "M5LB00uyZKV5"
   },
   "outputs": [],
   "source": [
    "##### Your Code Here #####\n",
    "raise Exception(\"\\nThis task is not complete. \\nReplace this line with your code for the task.\""
   ]
  },
  {
   "cell_type": "code",
   "execution_count": 92,
   "metadata": {},
   "outputs": [
    {
     "data": {
      "text/plain": [
       "[('and', 11541),\n",
       " ('to', 6803),\n",
       " ('the', 5259),\n",
       " ('of', 4553),\n",
       " ('data', 4032),\n",
       " ('in', 3526),\n",
       " ('a', 3454),\n",
       " ('with', 3054),\n",
       " ('for', 2029),\n",
       " ('or', 1749)]"
      ]
     },
     "execution_count": 92,
     "metadata": {},
     "output_type": "execute_result"
    }
   ],
   "source": [
    "from collections import Counter\n",
    "\n",
    "word_counts = Counter()\n",
    "indeed['tokens'].apply(lambda x: word_counts.update(x))\n",
    "\n",
    "word_counts.most_common(10)"
   ]
  },
  {
   "cell_type": "code",
   "execution_count": null,
   "metadata": {},
   "outputs": [],
   "source": []
  },
  {
   "cell_type": "code",
   "execution_count": null,
   "metadata": {},
   "outputs": [],
   "source": []
  },
  {
   "cell_type": "markdown",
   "metadata": {
    "colab_type": "text",
    "id": "bwFsTqrVZMYi"
   },
   "source": [
    "## 5) Use Scikit-Learn's tfidf  Vectorizer to get a TF-IDF feature matrix"
   ]
  },
  {
   "cell_type": "code",
   "execution_count": null,
   "metadata": {
    "colab": {},
    "colab_type": "code",
    "id": "-gx2gZCbl5Np"
   },
   "outputs": [],
   "source": [
    "##### Your Code Here #####\n",
    "raise Exception(\"\\nThis task is not complete. \\nReplace this line with your code for the task.\""
   ]
  },
  {
   "cell_type": "code",
   "execution_count": 101,
   "metadata": {},
   "outputs": [
    {
     "data": {
      "text/html": [
       "<div>\n",
       "<style scoped>\n",
       "    .dataframe tbody tr th:only-of-type {\n",
       "        vertical-align: middle;\n",
       "    }\n",
       "\n",
       "    .dataframe tbody tr th {\n",
       "        vertical-align: top;\n",
       "    }\n",
       "\n",
       "    .dataframe thead th {\n",
       "        text-align: right;\n",
       "    }\n",
       "</style>\n",
       "<table border=\"1\" class=\"dataframe\">\n",
       "  <thead>\n",
       "    <tr style=\"text-align: right;\">\n",
       "      <th></th>\n",
       "      <th>000</th>\n",
       "      <th>04</th>\n",
       "      <th>10</th>\n",
       "      <th>100</th>\n",
       "      <th>1079302</th>\n",
       "      <th>11</th>\n",
       "      <th>12</th>\n",
       "      <th>125</th>\n",
       "      <th>14</th>\n",
       "      <th>15</th>\n",
       "      <th>...</th>\n",
       "      <th>yes</th>\n",
       "      <th>yeti</th>\n",
       "      <th>york</th>\n",
       "      <th>young</th>\n",
       "      <th>yrs</th>\n",
       "      <th>zenreach</th>\n",
       "      <th>zero</th>\n",
       "      <th>zeus</th>\n",
       "      <th>zf</th>\n",
       "      <th>zillow</th>\n",
       "    </tr>\n",
       "  </thead>\n",
       "  <tbody>\n",
       "    <tr>\n",
       "      <th>0</th>\n",
       "      <td>0.0</td>\n",
       "      <td>0.0</td>\n",
       "      <td>0.0</td>\n",
       "      <td>0.0</td>\n",
       "      <td>0.0</td>\n",
       "      <td>0.0</td>\n",
       "      <td>0.0</td>\n",
       "      <td>0.0</td>\n",
       "      <td>0.0</td>\n",
       "      <td>0.0</td>\n",
       "      <td>...</td>\n",
       "      <td>0.0</td>\n",
       "      <td>0.0</td>\n",
       "      <td>0.0</td>\n",
       "      <td>0.0</td>\n",
       "      <td>0.0</td>\n",
       "      <td>0.0</td>\n",
       "      <td>0.0</td>\n",
       "      <td>0.0</td>\n",
       "      <td>0.0</td>\n",
       "      <td>0.0</td>\n",
       "    </tr>\n",
       "    <tr>\n",
       "      <th>1</th>\n",
       "      <td>0.0</td>\n",
       "      <td>0.0</td>\n",
       "      <td>0.0</td>\n",
       "      <td>0.0</td>\n",
       "      <td>0.0</td>\n",
       "      <td>0.0</td>\n",
       "      <td>0.0</td>\n",
       "      <td>0.0</td>\n",
       "      <td>0.0</td>\n",
       "      <td>0.0</td>\n",
       "      <td>...</td>\n",
       "      <td>0.0</td>\n",
       "      <td>0.0</td>\n",
       "      <td>0.0</td>\n",
       "      <td>0.0</td>\n",
       "      <td>0.0</td>\n",
       "      <td>0.0</td>\n",
       "      <td>0.0</td>\n",
       "      <td>0.0</td>\n",
       "      <td>0.0</td>\n",
       "      <td>0.0</td>\n",
       "    </tr>\n",
       "    <tr>\n",
       "      <th>2</th>\n",
       "      <td>0.0</td>\n",
       "      <td>0.0</td>\n",
       "      <td>0.0</td>\n",
       "      <td>0.0</td>\n",
       "      <td>0.0</td>\n",
       "      <td>0.0</td>\n",
       "      <td>0.0</td>\n",
       "      <td>0.0</td>\n",
       "      <td>0.0</td>\n",
       "      <td>0.0</td>\n",
       "      <td>...</td>\n",
       "      <td>0.0</td>\n",
       "      <td>0.0</td>\n",
       "      <td>0.0</td>\n",
       "      <td>0.0</td>\n",
       "      <td>0.0</td>\n",
       "      <td>0.0</td>\n",
       "      <td>0.0</td>\n",
       "      <td>0.0</td>\n",
       "      <td>0.0</td>\n",
       "      <td>0.0</td>\n",
       "    </tr>\n",
       "    <tr>\n",
       "      <th>3</th>\n",
       "      <td>0.0</td>\n",
       "      <td>0.0</td>\n",
       "      <td>0.0</td>\n",
       "      <td>0.0</td>\n",
       "      <td>0.0</td>\n",
       "      <td>0.0</td>\n",
       "      <td>0.0</td>\n",
       "      <td>0.0</td>\n",
       "      <td>0.0</td>\n",
       "      <td>0.0</td>\n",
       "      <td>...</td>\n",
       "      <td>0.0</td>\n",
       "      <td>0.0</td>\n",
       "      <td>0.0</td>\n",
       "      <td>0.0</td>\n",
       "      <td>0.0</td>\n",
       "      <td>0.0</td>\n",
       "      <td>0.0</td>\n",
       "      <td>0.0</td>\n",
       "      <td>0.0</td>\n",
       "      <td>0.0</td>\n",
       "    </tr>\n",
       "    <tr>\n",
       "      <th>4</th>\n",
       "      <td>0.0</td>\n",
       "      <td>0.0</td>\n",
       "      <td>0.0</td>\n",
       "      <td>0.0</td>\n",
       "      <td>0.0</td>\n",
       "      <td>0.0</td>\n",
       "      <td>0.0</td>\n",
       "      <td>0.0</td>\n",
       "      <td>0.0</td>\n",
       "      <td>0.0</td>\n",
       "      <td>...</td>\n",
       "      <td>0.0</td>\n",
       "      <td>0.0</td>\n",
       "      <td>0.0</td>\n",
       "      <td>0.0</td>\n",
       "      <td>0.0</td>\n",
       "      <td>0.0</td>\n",
       "      <td>0.0</td>\n",
       "      <td>0.0</td>\n",
       "      <td>0.0</td>\n",
       "      <td>0.0</td>\n",
       "    </tr>\n",
       "  </tbody>\n",
       "</table>\n",
       "<p>5 rows × 5000 columns</p>\n",
       "</div>"
      ],
      "text/plain": [
       "   000   04   10  100  1079302   11   12  125   14   15  ...  yes  yeti  york  \\\n",
       "0  0.0  0.0  0.0  0.0      0.0  0.0  0.0  0.0  0.0  0.0  ...  0.0   0.0   0.0   \n",
       "1  0.0  0.0  0.0  0.0      0.0  0.0  0.0  0.0  0.0  0.0  ...  0.0   0.0   0.0   \n",
       "2  0.0  0.0  0.0  0.0      0.0  0.0  0.0  0.0  0.0  0.0  ...  0.0   0.0   0.0   \n",
       "3  0.0  0.0  0.0  0.0      0.0  0.0  0.0  0.0  0.0  0.0  ...  0.0   0.0   0.0   \n",
       "4  0.0  0.0  0.0  0.0      0.0  0.0  0.0  0.0  0.0  0.0  ...  0.0   0.0   0.0   \n",
       "\n",
       "   young  yrs  zenreach  zero  zeus   zf  zillow  \n",
       "0    0.0  0.0       0.0   0.0   0.0  0.0     0.0  \n",
       "1    0.0  0.0       0.0   0.0   0.0  0.0     0.0  \n",
       "2    0.0  0.0       0.0   0.0   0.0  0.0     0.0  \n",
       "3    0.0  0.0       0.0   0.0   0.0  0.0     0.0  \n",
       "4    0.0  0.0       0.0   0.0   0.0  0.0     0.0  \n",
       "\n",
       "[5 rows x 5000 columns]"
      ]
     },
     "execution_count": 101,
     "metadata": {},
     "output_type": "execute_result"
    }
   ],
   "source": [
    "from sklearn.feature_extraction.text import TfidfVectorizer\n",
    "\n",
    "# Instantiate vectorizer object\n",
    "tfidf = TfidfVectorizer(stop_words='english', max_features=5000)\n",
    "\n",
    "# Create a vocabulary and get word counts per document\n",
    "# Similiar to fit_predict\n",
    "dtm = tfidf.fit_transform(indeed['description'])\n",
    "\n",
    "# Print word counts\n",
    "\n",
    "# Get feature names to use as dataframe column headers\n",
    "dtm = pd.DataFrame(dtm.todense(), columns=tfidf.get_feature_names())\n",
    "\n",
    "# View Feature Matrix as DataFrame\n",
    "dtm.head()"
   ]
  },
  {
   "cell_type": "code",
   "execution_count": null,
   "metadata": {},
   "outputs": [],
   "source": []
  },
  {
   "cell_type": "markdown",
   "metadata": {},
   "source": [
    "## 6) Create a NearestNeighbor Model. Write the description of your ideal datascience job and query your job listings. "
   ]
  },
  {
   "cell_type": "code",
   "execution_count": null,
   "metadata": {
    "inputHidden": false,
    "jupyter": {
     "outputs_hidden": false
    },
    "outputHidden": false
   },
   "outputs": [],
   "source": [
    "##### Your Code Here #####\n",
    "raise Exception(\"\\nThis task is not complete. \\nReplace this line with your code for the task.\""
   ]
  },
  {
   "cell_type": "code",
   "execution_count": 119,
   "metadata": {},
   "outputs": [],
   "source": [
    "my_job = [\"\"\"\n",
    "Leverage data and business principles to create and drive large scale FB Data Center programs\n",
    "Define and develop the program for metrics creation, data collection, modeling, and reporting the operational performance of Facebooks data centers\n",
    "Work cross-functionally to define problem statements, collect data, build analytical models and make recommendations\n",
    "Be a self-starter, motivated by a passion for developing the best possible solutions to problems\n",
    "Identify and implement streamlined processes for data reporting (PowerBI) and communication\n",
    "Use analytical models to identify insights that are used to drive key decisions across the organization\n",
    "Routinely communicate metrics, trends and other key indicators to leadership\n",
    "Provide leadership and mentorship to other members of the team\n",
    "Lead and support various ad hoc projects, as needed, in support of Facebooks Data Center strategy\n",
    "Build and maintain data driven optimization models, experiments, forecasting algorithms and capacity constraint models\n",
    "Leverage tools like R, Tableau, PHP, Python, Hadoop & SQL to drive efficient analytics\n",
    "\"\"\"]"
   ]
  },
  {
   "cell_type": "code",
   "execution_count": 120,
   "metadata": {},
   "outputs": [
    {
     "data": {
      "text/plain": [
       "NearestNeighbors(algorithm='kd_tree', leaf_size=30, metric='minkowski',\n",
       "                 metric_params=None, n_jobs=None, n_neighbors=5, p=2,\n",
       "                 radius=1.0)"
      ]
     },
     "execution_count": 120,
     "metadata": {},
     "output_type": "execute_result"
    }
   ],
   "source": [
    "from sklearn.neighbors import NearestNeighbors\n",
    "\n",
    "# Fit on DTM\n",
    "nn = NearestNeighbors(n_neighbors=5, algorithm='kd_tree')\n",
    "nn.fit(dtm)"
   ]
  },
  {
   "cell_type": "code",
   "execution_count": 121,
   "metadata": {},
   "outputs": [
    {
     "data": {
      "text/plain": [
       "(array([[0.        , 1.2818843 , 1.29245566, 1.2955652 , 1.30304622]]),\n",
       " array([[  0, 336, 276, 274, 366]], dtype=int64))"
      ]
     },
     "execution_count": 121,
     "metadata": {},
     "output_type": "execute_result"
    }
   ],
   "source": [
    "nn.kneighbors([dtm.iloc[0].values])"
   ]
  },
  {
   "cell_type": "code",
   "execution_count": 122,
   "metadata": {},
   "outputs": [
    {
     "data": {
      "text/plain": [
       "(array([[0.        , 1.25238548, 1.26323763, 1.26433063, 1.26433063]]),\n",
       " array([[ 67, 135, 200, 323, 141]], dtype=int64))"
      ]
     },
     "execution_count": 122,
     "metadata": {},
     "output_type": "execute_result"
    }
   ],
   "source": [
    "# Query my_job Using kneighbors \n",
    "nn.kneighbors([dtm.iloc[67]])"
   ]
  },
  {
   "cell_type": "code",
   "execution_count": 123,
   "metadata": {},
   "outputs": [
    {
     "data": {
      "text/plain": [
       "'c icl-u-xs-mb--md c-item icl-u-xs-mt--xsInternshipOverview\\\\nEvery day at Perspecta, we enable hundre'"
      ]
     },
     "execution_count": 123,
     "metadata": {},
     "output_type": "execute_result"
    }
   ],
   "source": [
    "indeed['description'][30][:100]"
   ]
  },
  {
   "cell_type": "code",
   "execution_count": 124,
   "metadata": {},
   "outputs": [],
   "source": [
    "# Query for Sim of my_job\n",
    "new = tfidf.transform(my_job)"
   ]
  },
  {
   "cell_type": "code",
   "execution_count": 125,
   "metadata": {},
   "outputs": [
    {
     "data": {
      "text/plain": [
       "<1x5000 sparse matrix of type '<class 'numpy.float64'>'\n",
       "\twith 85 stored elements in Compressed Sparse Row format>"
      ]
     },
     "execution_count": 125,
     "metadata": {},
     "output_type": "execute_result"
    }
   ],
   "source": [
    "new"
   ]
  },
  {
   "cell_type": "code",
   "execution_count": 127,
   "metadata": {},
   "outputs": [],
   "source": [
    "# indeed['description'][111]"
   ]
  },
  {
   "cell_type": "markdown",
   "metadata": {
    "colab_type": "text",
    "id": "FiDfTWceoRkH"
   },
   "source": [
    "## Stretch Goals\n",
    "\n",
    " - Try different visualizations for words and frequencies - what story do you want to tell with the data?\n",
    " - Scrape Job Listings for the job title \"Data Analyst\". How do these differ from Data Scientist Job Listings\n",
    " - Try and identify requirements for experience specific technologies that are asked for in the job listings. How are those distributed among the job listings?\n",
    " - Use a clustering algorithm to cluster documents by their most important terms. Do the clusters reveal any common themes?\n",
    "  - **Hint:** K-means might not be the best algorithm for this. Do a little bit of research to see what might be good for this. Also, remember that algorithms that depend on Euclidean distance break down with high dimensional data.\n",
    " - Create a labeled dataset - which jobs will you apply for? Train a model to select the jobs you are most likely to apply for. :) "
   ]
  }
 ],
 "metadata": {
  "colab": {
   "collapsed_sections": [],
   "name": "LS_DS_422_BOW_Assignment.ipynb",
   "provenance": [],
   "version": "0.3.2"
  },
  "kernel_info": {
   "name": "python3"
  },
  "kernelspec": {
   "display_name": "U4-S1-NLP (Python3)",
   "language": "python",
   "name": "u4-s1-nlp"
  },
  "language_info": {
   "codemirror_mode": {
    "name": "ipython",
    "version": 3
   },
   "file_extension": ".py",
   "mimetype": "text/x-python",
   "name": "python",
   "nbconvert_exporter": "python",
   "pygments_lexer": "ipython3",
   "version": "3.7.0"
  },
  "nteract": {
   "version": "0.14.3"
  },
  "varInspector": {
   "cols": {
    "lenName": 16,
    "lenType": 16,
    "lenVar": 40
   },
   "kernels_config": {
    "python": {
     "delete_cmd_postfix": "",
     "delete_cmd_prefix": "del ",
     "library": "var_list.py",
     "varRefreshCmd": "print(var_dic_list())"
    },
    "r": {
     "delete_cmd_postfix": ") ",
     "delete_cmd_prefix": "rm(",
     "library": "var_list.r",
     "varRefreshCmd": "cat(var_dic_list()) "
    }
   },
   "types_to_exclude": [
    "module",
    "function",
    "builtin_function_or_method",
    "instance",
    "_Feature"
   ],
   "window_display": false
  }
 },
 "nbformat": 4,
 "nbformat_minor": 4
}
